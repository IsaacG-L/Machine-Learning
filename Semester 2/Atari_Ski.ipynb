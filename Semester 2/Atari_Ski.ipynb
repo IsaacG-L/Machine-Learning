{
 "cells": [
  {
   "cell_type": "code",
   "execution_count": 1,
   "id": "4f31e709-9484-40da-85b7-eac5418d1b98",
   "metadata": {},
   "outputs": [
    {
     "name": "stdout",
     "output_type": "stream",
     "text": [
      "Requirement already satisfied: ale-py in c:\\users\\isaac\\anaconda3\\lib\\site-packages (0.10.2)\n",
      "Requirement already satisfied: numpy>1.20 in c:\\users\\isaac\\anaconda3\\lib\\site-packages (from ale-py) (1.26.4)\n",
      "Collecting opencv-python\n",
      "  Downloading opencv_python-4.11.0.86-cp37-abi3-win_amd64.whl.metadata (20 kB)\n",
      "Requirement already satisfied: numpy>=1.21.2 in c:\\users\\isaac\\anaconda3\\lib\\site-packages (from opencv-python) (1.26.4)\n",
      "Downloading opencv_python-4.11.0.86-cp37-abi3-win_amd64.whl (39.5 MB)\n",
      "   ---------------------------------------- 0.0/39.5 MB ? eta -:--:--\n",
      "   ---------------------------------------- 0.0/39.5 MB ? eta -:--:--\n",
      "   ---------------------------------------- 0.1/39.5 MB 1.4 MB/s eta 0:00:28\n",
      "   ---------------------------------------- 0.3/39.5 MB 2.5 MB/s eta 0:00:16\n",
      "    --------------------------------------- 0.7/39.5 MB 4.7 MB/s eta 0:00:09\n",
      "   - -------------------------------------- 1.1/39.5 MB 5.4 MB/s eta 0:00:08\n",
      "   - -------------------------------------- 1.1/39.5 MB 5.4 MB/s eta 0:00:08\n",
      "   - -------------------------------------- 1.1/39.5 MB 5.4 MB/s eta 0:00:08\n",
      "   - -------------------------------------- 1.1/39.5 MB 5.4 MB/s eta 0:00:08\n",
      "   - -------------------------------------- 1.6/39.5 MB 4.1 MB/s eta 0:00:10\n",
      "   - -------------------------------------- 1.7/39.5 MB 4.0 MB/s eta 0:00:10\n",
      "   -- ------------------------------------- 2.3/39.5 MB 4.8 MB/s eta 0:00:08\n",
      "   -- ------------------------------------- 2.8/39.5 MB 5.3 MB/s eta 0:00:07\n",
      "   --- ------------------------------------ 3.4/39.5 MB 5.8 MB/s eta 0:00:07\n",
      "   --- ------------------------------------ 3.9/39.5 MB 6.2 MB/s eta 0:00:06\n",
      "   ---- ----------------------------------- 4.5/39.5 MB 6.7 MB/s eta 0:00:06\n",
      "   ----- ---------------------------------- 5.0/39.5 MB 6.9 MB/s eta 0:00:05\n",
      "   ----- ---------------------------------- 5.5/39.5 MB 7.1 MB/s eta 0:00:05\n",
      "   ------ --------------------------------- 6.1/39.5 MB 7.5 MB/s eta 0:00:05\n",
      "   ------ --------------------------------- 6.7/39.5 MB 7.7 MB/s eta 0:00:05\n",
      "   ------- -------------------------------- 7.2/39.5 MB 8.0 MB/s eta 0:00:05\n",
      "   ------- -------------------------------- 7.7/39.5 MB 8.1 MB/s eta 0:00:04\n",
      "   -------- ------------------------------- 8.3/39.5 MB 8.3 MB/s eta 0:00:04\n",
      "   -------- ------------------------------- 8.7/39.5 MB 8.3 MB/s eta 0:00:04\n",
      "   --------- ------------------------------ 9.0/39.5 MB 8.4 MB/s eta 0:00:04\n",
      "   --------- ------------------------------ 9.3/39.5 MB 8.3 MB/s eta 0:00:04\n",
      "   ---------- ----------------------------- 10.1/39.5 MB 8.5 MB/s eta 0:00:04\n",
      "   ---------- ----------------------------- 10.3/39.5 MB 8.7 MB/s eta 0:00:04\n",
      "   ---------- ----------------------------- 10.6/39.5 MB 9.0 MB/s eta 0:00:04\n",
      "   ----------- ---------------------------- 11.5/39.5 MB 10.9 MB/s eta 0:00:03\n",
      "   ----------- ---------------------------- 11.8/39.5 MB 10.4 MB/s eta 0:00:03\n",
      "   ------------ --------------------------- 12.4/39.5 MB 10.9 MB/s eta 0:00:03\n",
      "   ------------- -------------------------- 12.8/39.5 MB 10.7 MB/s eta 0:00:03\n",
      "   ------------- -------------------------- 13.4/39.5 MB 10.7 MB/s eta 0:00:03\n",
      "   -------------- ------------------------- 13.9/39.5 MB 10.7 MB/s eta 0:00:03\n",
      "   -------------- ------------------------- 14.3/39.5 MB 10.7 MB/s eta 0:00:03\n",
      "   -------------- ------------------------- 14.6/39.5 MB 10.4 MB/s eta 0:00:03\n",
      "   --------------- ------------------------ 15.2/39.5 MB 10.7 MB/s eta 0:00:03\n",
      "   --------------- ------------------------ 15.5/39.5 MB 10.4 MB/s eta 0:00:03\n",
      "   ---------------- ----------------------- 15.9/39.5 MB 10.1 MB/s eta 0:00:03\n",
      "   ---------------- ----------------------- 16.4/39.5 MB 10.1 MB/s eta 0:00:03\n",
      "   ----------------- ---------------------- 16.9/39.5 MB 10.1 MB/s eta 0:00:03\n",
      "   ----------------- ---------------------- 17.6/39.5 MB 10.2 MB/s eta 0:00:03\n",
      "   ------------------ --------------------- 18.0/39.5 MB 10.1 MB/s eta 0:00:03\n",
      "   ------------------ --------------------- 18.6/39.5 MB 10.2 MB/s eta 0:00:03\n",
      "   ------------------- -------------------- 19.0/39.5 MB 10.2 MB/s eta 0:00:02\n",
      "   ------------------- -------------------- 19.6/39.5 MB 10.6 MB/s eta 0:00:02\n",
      "   -------------------- ------------------- 19.9/39.5 MB 10.2 MB/s eta 0:00:02\n",
      "   -------------------- ------------------- 20.4/39.5 MB 10.4 MB/s eta 0:00:02\n",
      "   --------------------- ------------------ 21.0/39.5 MB 10.6 MB/s eta 0:00:02\n",
      "   --------------------- ------------------ 21.5/39.5 MB 10.2 MB/s eta 0:00:02\n",
      "   ---------------------- ----------------- 22.1/39.5 MB 10.4 MB/s eta 0:00:02\n",
      "   ---------------------- ----------------- 22.3/39.5 MB 10.4 MB/s eta 0:00:02\n",
      "   ----------------------- ---------------- 22.9/39.5 MB 10.4 MB/s eta 0:00:02\n",
      "   ----------------------- ---------------- 23.1/39.5 MB 10.1 MB/s eta 0:00:02\n",
      "   ----------------------- ---------------- 23.7/39.5 MB 10.1 MB/s eta 0:00:02\n",
      "   ------------------------ --------------- 24.1/39.5 MB 9.9 MB/s eta 0:00:02\n",
      "   ------------------------- -------------- 24.8/39.5 MB 10.2 MB/s eta 0:00:02\n",
      "   ------------------------- -------------- 25.3/39.5 MB 10.4 MB/s eta 0:00:02\n",
      "   -------------------------- ------------- 26.0/39.5 MB 10.9 MB/s eta 0:00:02\n",
      "   -------------------------- ------------- 26.6/39.5 MB 10.9 MB/s eta 0:00:02\n",
      "   --------------------------- ------------ 27.2/39.5 MB 11.1 MB/s eta 0:00:02\n",
      "   ---------------------------- ----------- 27.8/39.5 MB 10.9 MB/s eta 0:00:02\n",
      "   ---------------------------- ----------- 28.3/39.5 MB 11.1 MB/s eta 0:00:02\n",
      "   ---------------------------- ----------- 28.6/39.5 MB 10.9 MB/s eta 0:00:01\n",
      "   ----------------------------- ---------- 29.0/39.5 MB 10.6 MB/s eta 0:00:01\n",
      "   ----------------------------- ---------- 29.6/39.5 MB 10.7 MB/s eta 0:00:01\n",
      "   ------------------------------ --------- 30.1/39.5 MB 10.9 MB/s eta 0:00:01\n",
      "   ------------------------------- -------- 30.7/39.5 MB 11.1 MB/s eta 0:00:01\n",
      "   ------------------------------- -------- 31.2/39.5 MB 11.1 MB/s eta 0:00:01\n",
      "   -------------------------------- ------- 31.6/39.5 MB 10.9 MB/s eta 0:00:01\n",
      "   -------------------------------- ------- 32.2/39.5 MB 10.9 MB/s eta 0:00:01\n",
      "   --------------------------------- ------ 32.8/39.5 MB 11.1 MB/s eta 0:00:01\n",
      "   --------------------------------- ------ 33.3/39.5 MB 11.5 MB/s eta 0:00:01\n",
      "   ---------------------------------- ----- 33.7/39.5 MB 11.3 MB/s eta 0:00:01\n",
      "   ---------------------------------- ----- 34.2/39.5 MB 11.7 MB/s eta 0:00:01\n",
      "   ---------------------------------- ----- 34.4/39.5 MB 11.1 MB/s eta 0:00:01\n",
      "   ---------------------------------- ----- 34.4/39.5 MB 10.6 MB/s eta 0:00:01\n",
      "   ----------------------------------- ---- 34.9/39.5 MB 10.4 MB/s eta 0:00:01\n",
      "   ----------------------------------- ---- 35.5/39.5 MB 10.6 MB/s eta 0:00:01\n",
      "   ------------------------------------ --- 36.1/39.5 MB 10.6 MB/s eta 0:00:01\n",
      "   ------------------------------------- -- 36.6/39.5 MB 10.2 MB/s eta 0:00:01\n",
      "   ------------------------------------- -- 37.1/39.5 MB 10.2 MB/s eta 0:00:01\n",
      "   -------------------------------------- - 37.6/39.5 MB 10.2 MB/s eta 0:00:01\n",
      "   -------------------------------------- - 38.2/39.5 MB 10.4 MB/s eta 0:00:01\n",
      "   ---------------------------------------  38.5/39.5 MB 10.2 MB/s eta 0:00:01\n",
      "   ---------------------------------------  38.8/39.5 MB 10.1 MB/s eta 0:00:01\n",
      "   ---------------------------------------  39.0/39.5 MB 9.8 MB/s eta 0:00:01\n",
      "   ---------------------------------------  39.5/39.5 MB 9.8 MB/s eta 0:00:01\n",
      "   ---------------------------------------  39.5/39.5 MB 9.8 MB/s eta 0:00:01\n",
      "   ---------------------------------------  39.5/39.5 MB 9.8 MB/s eta 0:00:01\n",
      "   ---------------------------------------  39.5/39.5 MB 9.8 MB/s eta 0:00:01\n",
      "   ---------------------------------------  39.5/39.5 MB 9.8 MB/s eta 0:00:01\n",
      "   ---------------------------------------- 39.5/39.5 MB 8.2 MB/s eta 0:00:00\n",
      "Installing collected packages: opencv-python\n",
      "Successfully installed opencv-python-4.11.0.86\n"
     ]
    }
   ],
   "source": [
    "!pip install ale-py\n",
    "!pip install opencv-python\n"
   ]
  },
  {
   "cell_type": "code",
   "execution_count": 6,
   "id": "6f0c12ac-336e-4ae3-bc81-f9178a9a2050",
   "metadata": {},
   "outputs": [
    {
     "name": "stderr",
     "output_type": "stream",
     "text": [
      "ERROR: Could not find a version that satisfies the requirement tensorflow==2.10.0 (from versions: 2.16.0rc0, 2.16.1, 2.16.2, 2.17.0rc0, 2.17.0rc1, 2.17.0, 2.17.1, 2.18.0rc0, 2.18.0rc1, 2.18.0rc2, 2.18.0, 2.18.1, 2.19.0rc0, 2.19.0)\n",
      "ERROR: No matching distribution found for tensorflow==2.10.0\n"
     ]
    }
   ],
   "source": [
    "#!pip install tensorflow\n",
    "!pip install tensorflow==2.10.0\n"
   ]
  },
  {
   "cell_type": "code",
   "execution_count": 4,
   "id": "cf41f4b6",
   "metadata": {},
   "outputs": [
    {
     "ename": "ImportError",
     "evalue": "Traceback (most recent call last):\n  File \"C:\\Users\\isaac\\anaconda3\\Lib\\site-packages\\tensorflow\\python\\pywrap_tensorflow.py\", line 73, in <module>\n    from tensorflow.python._pywrap_tensorflow_internal import *\nImportError: DLL load failed while importing _pywrap_tensorflow_internal: A dynamic link library (DLL) initialization routine failed.\n\n\nFailed to load the native TensorFlow runtime.\nSee https://www.tensorflow.org/install/errors for some common causes and solutions.\nIf you need help, create an issue at https://github.com/tensorflow/tensorflow/issues and include the entire stack trace above this error message.",
     "output_type": "error",
     "traceback": [
      "\u001b[1;31m---------------------------------------------------------------------------\u001b[0m",
      "\u001b[1;31mImportError\u001b[0m                               Traceback (most recent call last)",
      "File \u001b[1;32m~\\anaconda3\\Lib\\site-packages\\tensorflow\\python\\pywrap_tensorflow.py:73\u001b[0m\n\u001b[0;32m     72\u001b[0m \u001b[38;5;28;01mtry\u001b[39;00m:\n\u001b[1;32m---> 73\u001b[0m   \u001b[38;5;28;01mfrom\u001b[39;00m \u001b[38;5;21;01mtensorflow\u001b[39;00m\u001b[38;5;21;01m.\u001b[39;00m\u001b[38;5;21;01mpython\u001b[39;00m\u001b[38;5;21;01m.\u001b[39;00m\u001b[38;5;21;01m_pywrap_tensorflow_internal\u001b[39;00m \u001b[38;5;28;01mimport\u001b[39;00m \u001b[38;5;241m*\u001b[39m\n\u001b[0;32m     74\u001b[0m \u001b[38;5;66;03m# This try catch logic is because there is no bazel equivalent for py_extension.\u001b[39;00m\n\u001b[0;32m     75\u001b[0m \u001b[38;5;66;03m# Externally in opensource we must enable exceptions to load the shared object\u001b[39;00m\n\u001b[0;32m     76\u001b[0m \u001b[38;5;66;03m# by exposing the PyInit symbols with pybind. This error will only be\u001b[39;00m\n\u001b[0;32m     77\u001b[0m \u001b[38;5;66;03m# caught internally or if someone changes the name of the target _pywrap_tensorflow_internal.\u001b[39;00m\n\u001b[0;32m     78\u001b[0m \n\u001b[0;32m     79\u001b[0m \u001b[38;5;66;03m# This logic is used in other internal projects using py_extension.\u001b[39;00m\n",
      "\u001b[1;31mImportError\u001b[0m: DLL load failed while importing _pywrap_tensorflow_internal: A dynamic link library (DLL) initialization routine failed.",
      "\nDuring handling of the above exception, another exception occurred:\n",
      "\u001b[1;31mImportError\u001b[0m                               Traceback (most recent call last)",
      "Cell \u001b[1;32mIn[4], line 9\u001b[0m\n\u001b[0;32m      7\u001b[0m \u001b[38;5;28;01mimport\u001b[39;00m \u001b[38;5;21;01mcv2\u001b[39;00m\n\u001b[0;32m      8\u001b[0m \u001b[38;5;28;01mimport\u001b[39;00m \u001b[38;5;21;01mtime\u001b[39;00m\n\u001b[1;32m----> 9\u001b[0m \u001b[38;5;28;01mfrom\u001b[39;00m \u001b[38;5;21;01mtensorflow\u001b[39;00m\u001b[38;5;21;01m.\u001b[39;00m\u001b[38;5;21;01mkeras\u001b[39;00m\u001b[38;5;21;01m.\u001b[39;00m\u001b[38;5;21;01mmodels\u001b[39;00m \u001b[38;5;28;01mimport\u001b[39;00m Sequential\n\u001b[0;32m     10\u001b[0m \u001b[38;5;28;01mfrom\u001b[39;00m \u001b[38;5;21;01mtensorflow\u001b[39;00m\u001b[38;5;21;01m.\u001b[39;00m\u001b[38;5;21;01mkeras\u001b[39;00m\u001b[38;5;21;01m.\u001b[39;00m\u001b[38;5;21;01mlayers\u001b[39;00m \u001b[38;5;28;01mimport\u001b[39;00m Conv2D, Flatten, Dense\n\u001b[0;32m     11\u001b[0m \u001b[38;5;28;01mfrom\u001b[39;00m \u001b[38;5;21;01mtensorflow\u001b[39;00m\u001b[38;5;21;01m.\u001b[39;00m\u001b[38;5;21;01mkeras\u001b[39;00m\u001b[38;5;21;01m.\u001b[39;00m\u001b[38;5;21;01moptimizers\u001b[39;00m \u001b[38;5;28;01mimport\u001b[39;00m Adam\n",
      "File \u001b[1;32m~\\anaconda3\\Lib\\site-packages\\tensorflow\\__init__.py:40\u001b[0m\n\u001b[0;32m     37\u001b[0m _os\u001b[38;5;241m.\u001b[39menviron\u001b[38;5;241m.\u001b[39msetdefault(\u001b[38;5;124m\"\u001b[39m\u001b[38;5;124mENABLE_RUNTIME_UPTIME_TELEMETRY\u001b[39m\u001b[38;5;124m\"\u001b[39m, \u001b[38;5;124m\"\u001b[39m\u001b[38;5;124m1\u001b[39m\u001b[38;5;124m\"\u001b[39m)\n\u001b[0;32m     39\u001b[0m \u001b[38;5;66;03m# Do not remove this line; See https://github.com/tensorflow/tensorflow/issues/42596\u001b[39;00m\n\u001b[1;32m---> 40\u001b[0m \u001b[38;5;28;01mfrom\u001b[39;00m \u001b[38;5;21;01mtensorflow\u001b[39;00m\u001b[38;5;21;01m.\u001b[39;00m\u001b[38;5;21;01mpython\u001b[39;00m \u001b[38;5;28;01mimport\u001b[39;00m pywrap_tensorflow \u001b[38;5;28;01mas\u001b[39;00m _pywrap_tensorflow  \u001b[38;5;66;03m# pylint: disable=unused-import\u001b[39;00m\n\u001b[0;32m     41\u001b[0m \u001b[38;5;28;01mfrom\u001b[39;00m \u001b[38;5;21;01mtensorflow\u001b[39;00m\u001b[38;5;21;01m.\u001b[39;00m\u001b[38;5;21;01mpython\u001b[39;00m\u001b[38;5;21;01m.\u001b[39;00m\u001b[38;5;21;01mtools\u001b[39;00m \u001b[38;5;28;01mimport\u001b[39;00m module_util \u001b[38;5;28;01mas\u001b[39;00m _module_util\n\u001b[0;32m     42\u001b[0m \u001b[38;5;28;01mfrom\u001b[39;00m \u001b[38;5;21;01mtensorflow\u001b[39;00m\u001b[38;5;21;01m.\u001b[39;00m\u001b[38;5;21;01mpython\u001b[39;00m\u001b[38;5;21;01m.\u001b[39;00m\u001b[38;5;21;01mutil\u001b[39;00m\u001b[38;5;21;01m.\u001b[39;00m\u001b[38;5;21;01mlazy_loader\u001b[39;00m \u001b[38;5;28;01mimport\u001b[39;00m KerasLazyLoader \u001b[38;5;28;01mas\u001b[39;00m _KerasLazyLoader\n",
      "File \u001b[1;32m~\\anaconda3\\Lib\\site-packages\\tensorflow\\python\\pywrap_tensorflow.py:88\u001b[0m\n\u001b[0;32m     86\u001b[0m     sys\u001b[38;5;241m.\u001b[39msetdlopenflags(_default_dlopen_flags)\n\u001b[0;32m     87\u001b[0m \u001b[38;5;28;01mexcept\u001b[39;00m \u001b[38;5;167;01mImportError\u001b[39;00m:\n\u001b[1;32m---> 88\u001b[0m   \u001b[38;5;28;01mraise\u001b[39;00m \u001b[38;5;167;01mImportError\u001b[39;00m(\n\u001b[0;32m     89\u001b[0m       \u001b[38;5;124mf\u001b[39m\u001b[38;5;124m'\u001b[39m\u001b[38;5;132;01m{\u001b[39;00mtraceback\u001b[38;5;241m.\u001b[39mformat_exc()\u001b[38;5;132;01m}\u001b[39;00m\u001b[38;5;124m'\u001b[39m\n\u001b[0;32m     90\u001b[0m       \u001b[38;5;124mf\u001b[39m\u001b[38;5;124m'\u001b[39m\u001b[38;5;130;01m\\n\u001b[39;00m\u001b[38;5;130;01m\\n\u001b[39;00m\u001b[38;5;124mFailed to load the native TensorFlow runtime.\u001b[39m\u001b[38;5;130;01m\\n\u001b[39;00m\u001b[38;5;124m'\u001b[39m\n\u001b[0;32m     91\u001b[0m       \u001b[38;5;124mf\u001b[39m\u001b[38;5;124m'\u001b[39m\u001b[38;5;124mSee https://www.tensorflow.org/install/errors \u001b[39m\u001b[38;5;124m'\u001b[39m\n\u001b[0;32m     92\u001b[0m       \u001b[38;5;124mf\u001b[39m\u001b[38;5;124m'\u001b[39m\u001b[38;5;124mfor some common causes and solutions.\u001b[39m\u001b[38;5;130;01m\\n\u001b[39;00m\u001b[38;5;124m'\u001b[39m\n\u001b[0;32m     93\u001b[0m       \u001b[38;5;124mf\u001b[39m\u001b[38;5;124m'\u001b[39m\u001b[38;5;124mIf you need help, create an issue \u001b[39m\u001b[38;5;124m'\u001b[39m\n\u001b[0;32m     94\u001b[0m       \u001b[38;5;124mf\u001b[39m\u001b[38;5;124m'\u001b[39m\u001b[38;5;124mat https://github.com/tensorflow/tensorflow/issues \u001b[39m\u001b[38;5;124m'\u001b[39m\n\u001b[0;32m     95\u001b[0m       \u001b[38;5;124mf\u001b[39m\u001b[38;5;124m'\u001b[39m\u001b[38;5;124mand include the entire stack trace above this error message.\u001b[39m\u001b[38;5;124m'\u001b[39m)\n",
      "\u001b[1;31mImportError\u001b[0m: Traceback (most recent call last):\n  File \"C:\\Users\\isaac\\anaconda3\\Lib\\site-packages\\tensorflow\\python\\pywrap_tensorflow.py\", line 73, in <module>\n    from tensorflow.python._pywrap_tensorflow_internal import *\nImportError: DLL load failed while importing _pywrap_tensorflow_internal: A dynamic link library (DLL) initialization routine failed.\n\n\nFailed to load the native TensorFlow runtime.\nSee https://www.tensorflow.org/install/errors for some common causes and solutions.\nIf you need help, create an issue at https://github.com/tensorflow/tensorflow/issues and include the entire stack trace above this error message."
     ]
    }
   ],
   "source": [
    "import numpy as np\n",
    "import random\n",
    "import gymnasium as gym\n",
    "import ale_py\n",
    "from collections import deque\n",
    "import os\n",
    "import cv2\n",
    "import time\n",
    "from tensorflow.keras.models import Sequential\n",
    "from tensorflow.keras.layers import Conv2D, Flatten, Dense\n",
    "from tensorflow.keras.optimizers import Adam"
   ]
  },
  {
   "cell_type": "code",
   "execution_count": null,
   "id": "3c056fa9",
   "metadata": {},
   "outputs": [],
   "source": []
  }
 ],
 "metadata": {
  "kernelspec": {
   "display_name": "Python 3 (ipykernel)",
   "language": "python",
   "name": "python3"
  },
  "language_info": {
   "codemirror_mode": {
    "name": "ipython",
    "version": 3
   },
   "file_extension": ".py",
   "mimetype": "text/x-python",
   "name": "python",
   "nbconvert_exporter": "python",
   "pygments_lexer": "ipython3",
   "version": "3.12.4"
  }
 },
 "nbformat": 4,
 "nbformat_minor": 5
}
