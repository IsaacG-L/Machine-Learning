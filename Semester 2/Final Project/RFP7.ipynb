{
 "cells": [
  {
   "cell_type": "markdown",
   "id": "d680f4b9",
   "metadata": {},
   "source": [
    "### Question:\n",
    "### Can a machine learning model decide if a person should or should not eat a specific food product given that they have Fatty Liver Disease?\n",
    "This will not include AFLD/NASH/Fibrosis/etc\n",
    "###### We are going to choose a random product.\n"
   ]
  },
  {
   "cell_type": "code",
   "execution_count": null,
   "id": "434c392f",
   "metadata": {},
   "outputs": [],
   "source": []
  }
 ],
 "metadata": {
  "kernelspec": {
   "display_name": "Python 3 (ipykernel)",
   "language": "python",
   "name": "python3"
  },
  "language_info": {
   "codemirror_mode": {
    "name": "ipython",
    "version": 3
   },
   "file_extension": ".py",
   "mimetype": "text/x-python",
   "name": "python",
   "nbconvert_exporter": "python",
   "pygments_lexer": "ipython3",
   "version": "3.9.13"
  }
 },
 "nbformat": 4,
 "nbformat_minor": 5
}
