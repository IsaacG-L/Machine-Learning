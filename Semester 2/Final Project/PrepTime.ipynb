{
 "cells": [
  {
   "cell_type": "markdown",
   "id": "5ae33f0d",
   "metadata": {},
   "source": [
    "### Question:\n",
    "### Can a machine learning model decide if a person should eat a specific food product given that they have Fatty Liver Disease?\n",
    "This will not include AFLD/NASH/Fibrosis/etc\n",
    "###### We are going to choose a random product.\n"
   ]
  },
  {
   "cell_type": "code",
   "execution_count": 1,
   "id": "0a138a18",
   "metadata": {},
   "outputs": [],
   "source": [
    "#Here is a random link!\n",
    "# https://www.kaggle.com/datasets/openfoodfacts/world-food-facts?resource=download"
   ]
  },
  {
   "cell_type": "code",
   "execution_count": 2,
   "id": "72390cb0",
   "metadata": {},
   "outputs": [],
   "source": [
    "import pandas as pd\n",
    "#import numpy as np\n",
    "import seaborn as sns"
   ]
  },
  {
   "cell_type": "markdown",
   "id": "684fce25",
   "metadata": {},
   "source": [
    "This is the preprocessing(?)\n"
   ]
  },
  {
   "cell_type": "code",
   "execution_count": 3,
   "id": "34539144",
   "metadata": {},
   "outputs": [],
   "source": [
    "def maindf():\n",
    "    df = pd.read_csv(\"nutritional.tsv\", sep=\"\\t\")\n",
    "    keep_these = ['product_name', 'energy_100g', 'fat_100g', 'saturated-fat_100g', 'trans-fat_100g', 'cholesterol_100g',\n",
    "             'carbohydrates_100g', 'sugars_100g', 'fiber_100g', 'proteins_100g', 'sodium_100g', 'calcium_100g']\n",
    "    df = df.loc[:, keep_these]\n",
    "    df = df.dropna()\n",
    "    \n",
    "    return df"
   ]
  },
  {
   "cell_type": "code",
   "execution_count": 4,
   "id": "ab75d0ac",
   "metadata": {},
   "outputs": [],
   "source": [
    "def artificialCalories(df):\n",
    "    sugar = 4 #sugar is already included in the carbs...\n",
    "    fat = 9\n",
    "    carbs = 4\n",
    "    protein = 4\n",
    "    \n",
    "    df['expected_cal'] = (df['fat_100g'] * fat) + (df['carbohydrates_100g'] * carbs) + (df['proteins_100g'] * protein)\n",
    "    \n",
    "    #return df['expected_cal']\n",
    "    return df"
   ]
  },
  {
   "cell_type": "code",
   "execution_count": 5,
   "id": "6f721078",
   "metadata": {},
   "outputs": [],
   "source": [
    "def RecoScore(df):\n",
    "    # This will be based on a 2000 calorie diet!\n",
    "    # 100% of Fats is 65g  The recommended is <= 30% of total calories\n",
    "    # 100% of Sugar is 50g  The recommended is <= 10% of total calories\n",
    "    # 25g of sugar is the ideal\n",
    "    # \n",
    "    fat_score = (df['fat_100g'] / 65)\n",
    "    sugar_score = (df['sugars_100g'] / 50)\n",
    "    df[\"score\"] = (fat_score + sugar_score) / 2\n",
    "    \n",
    "    return df"
   ]
  },
  {
   "cell_type": "code",
   "execution_count": 7,
   "id": "45a0ff23-dd73-4b95-ba31-9c9198bcb2d5",
   "metadata": {},
   "outputs": [],
   "source": [
    "def RecoScore2(df):\n",
    "    fat_score = (df['fat_100g'] / 65)\n",
    "    sugar_score = (df['sugars_100g'] / 50)\n",
    "    sodium_score = (df['sodium_100g'] / 2.3)\n",
    "    \n",
    "    df[\"score\"] = (fat_score + sugar_score + sodium_score) / 3\n",
    "    return df\n"
   ]
  },
  {
   "cell_type": "code",
   "execution_count": 6,
   "id": "d9772a52",
   "metadata": {},
   "outputs": [],
   "source": [
    "# Another type of score!?!\n",
    "# 1 means that it is good and you should eat it!\n",
    "# 2 means that it is alright but you should reconsider at best.\n",
    "# 3 means that you should not even have it close to your mouth...\n",
    "def shouldYou():\n",
    "    df['encode'] = 3  # Default value\n",
    "    df.loc[df['score'] <= 0.35, 'encode'] = 1\n",
    "    df.loc[(df['score'] > 0.35) & (df['score'] < 0.7), 'encode'] = 2\n",
    "    \n",
    "    return df"
   ]
  },
  {
   "cell_type": "code",
   "execution_count": null,
   "id": "af055063-fafe-48b0-91f2-83f93dea7983",
   "metadata": {},
   "outputs": [],
   "source": [
    "def sodiumG(df):\n",
    "    df['sodium_100g'] = df['sodium_100g'] * 1000\n",
    "    return df"
   ]
  },
  {
   "cell_type": "code",
   "execution_count": null,
   "id": "4dff261d",
   "metadata": {},
   "outputs": [],
   "source": []
  }
 ],
 "metadata": {
  "kernelspec": {
   "display_name": "Python 3 (ipykernel)",
   "language": "python",
   "name": "python3"
  },
  "language_info": {
   "codemirror_mode": {
    "name": "ipython",
    "version": 3
   },
   "file_extension": ".py",
   "mimetype": "text/x-python",
   "name": "python",
   "nbconvert_exporter": "python",
   "pygments_lexer": "ipython3",
   "version": "3.12.4"
  }
 },
 "nbformat": 4,
 "nbformat_minor": 5
}
