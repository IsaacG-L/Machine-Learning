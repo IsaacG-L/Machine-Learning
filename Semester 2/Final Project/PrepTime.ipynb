{
 "cells": [
  {
   "cell_type": "markdown",
   "id": "5ae33f0d",
   "metadata": {},
   "source": [
    "### Question:\n",
    "### Can a machine learning model decide if a person should or should not eat a specific food product given that they have Fatty Liver Disease?\n",
    "This will not include AFLD/NASH/Fibrosis/etc\n",
    "###### We are going to choose a random product.\n"
   ]
  },
  {
   "cell_type": "code",
   "execution_count": 20,
   "id": "0a138a18",
   "metadata": {},
   "outputs": [],
   "source": [
    "#Here is a random link!\n",
    "# https://www.kaggle.com/datasets/openfoodfacts/world-food-facts?resource=download"
   ]
  },
  {
   "cell_type": "code",
   "execution_count": 2,
   "id": "72390cb0",
   "metadata": {},
   "outputs": [],
   "source": [
    "import pandas as pd\n",
    "#import numpy as np\n",
    "import seaborn as sns"
   ]
  },
  {
   "cell_type": "code",
   "execution_count": 6,
   "id": "51ed8a34",
   "metadata": {},
   "outputs": [
    {
     "name": "stderr",
     "output_type": "stream",
     "text": [
      "C:\\Users\\igarcialopez\\AppData\\Local\\Temp\\ipykernel_37660\\1857380657.py:1: DtypeWarning: Columns (0,3,5,19,20,24,25,26,27,28,36,37,38,39,48) have mixed types. Specify dtype option on import or set low_memory=False.\n",
      "  df = pd.read_csv(\"nutritional.tsv\", sep=\"\\t\")\n"
     ]
    }
   ],
   "source": [
    "df = pd.read_csv(\"nutritional.tsv\", sep=\"\\t\")"
   ]
  },
  {
   "cell_type": "code",
   "execution_count": 12,
   "id": "cd17a52a",
   "metadata": {},
   "outputs": [
    {
     "name": "stdout",
     "output_type": "stream",
     "text": [
      "<class 'pandas.core.frame.DataFrame'>\n",
      "RangeIndex: 356027 entries, 0 to 356026\n",
      "Columns: 163 entries, code to water-hardness_100g\n",
      "dtypes: float64(107), object(56)\n",
      "memory usage: 442.8+ MB\n"
     ]
    }
   ],
   "source": [
    "df.info()\n"
   ]
  },
  {
   "cell_type": "code",
   "execution_count": 13,
   "id": "a9d2f637",
   "metadata": {},
   "outputs": [],
   "source": [
    "keep_these = ['product_name', 'energy_100g', 'fat_100g', 'saturated-fat_100g', 'trans-fat_100g', 'cholesterol_100g',\n",
    "             'carbohydrates_100g', 'sugars_100g', 'fiber_100g', 'proteins_100g', 'sodium_100g', 'calcium_100g']"
   ]
  },
  {
   "cell_type": "code",
   "execution_count": 14,
   "id": "6836383a",
   "metadata": {},
   "outputs": [],
   "source": [
    "df = df.loc[:, keep_these]"
   ]
  },
  {
   "cell_type": "code",
   "execution_count": 19,
   "id": "c99fa1f9",
   "metadata": {},
   "outputs": [],
   "source": [
    "#df.info() #this the old one hahahahahaha"
   ]
  },
  {
   "cell_type": "code",
   "execution_count": 16,
   "id": "a2867ae4",
   "metadata": {},
   "outputs": [],
   "source": [
    "df = df.dropna()"
   ]
  },
  {
   "cell_type": "code",
   "execution_count": 17,
   "id": "8b0ffc65",
   "metadata": {},
   "outputs": [
    {
     "name": "stdout",
     "output_type": "stream",
     "text": [
      "<class 'pandas.core.frame.DataFrame'>\n",
      "Int64Index: 127787 entries, 1 to 356022\n",
      "Data columns (total 12 columns):\n",
      " #   Column              Non-Null Count   Dtype  \n",
      "---  ------              --------------   -----  \n",
      " 0   product_name        127787 non-null  object \n",
      " 1   energy_100g         127787 non-null  float64\n",
      " 2   fat_100g            127787 non-null  float64\n",
      " 3   saturated-fat_100g  127787 non-null  float64\n",
      " 4   trans-fat_100g      127787 non-null  float64\n",
      " 5   cholesterol_100g    127787 non-null  float64\n",
      " 6   carbohydrates_100g  127787 non-null  float64\n",
      " 7   sugars_100g         127787 non-null  float64\n",
      " 8   fiber_100g          127787 non-null  float64\n",
      " 9   proteins_100g       127787 non-null  float64\n",
      " 10  sodium_100g         127787 non-null  float64\n",
      " 11  calcium_100g        127787 non-null  float64\n",
      "dtypes: float64(11), object(1)\n",
      "memory usage: 12.7+ MB\n"
     ]
    }
   ],
   "source": [
    "df.info()"
   ]
  },
  {
   "cell_type": "code",
   "execution_count": 21,
   "id": "2caf99ea",
   "metadata": {},
   "outputs": [
    {
     "data": {
      "text/html": [
       "<div>\n",
       "<style scoped>\n",
       "    .dataframe tbody tr th:only-of-type {\n",
       "        vertical-align: middle;\n",
       "    }\n",
       "\n",
       "    .dataframe tbody tr th {\n",
       "        vertical-align: top;\n",
       "    }\n",
       "\n",
       "    .dataframe thead th {\n",
       "        text-align: right;\n",
       "    }\n",
       "</style>\n",
       "<table border=\"1\" class=\"dataframe\">\n",
       "  <thead>\n",
       "    <tr style=\"text-align: right;\">\n",
       "      <th></th>\n",
       "      <th>product_name</th>\n",
       "      <th>energy_100g</th>\n",
       "      <th>fat_100g</th>\n",
       "      <th>saturated-fat_100g</th>\n",
       "      <th>trans-fat_100g</th>\n",
       "      <th>cholesterol_100g</th>\n",
       "      <th>carbohydrates_100g</th>\n",
       "      <th>sugars_100g</th>\n",
       "      <th>fiber_100g</th>\n",
       "      <th>proteins_100g</th>\n",
       "      <th>sodium_100g</th>\n",
       "      <th>calcium_100g</th>\n",
       "    </tr>\n",
       "  </thead>\n",
       "  <tbody>\n",
       "    <tr>\n",
       "      <th>1</th>\n",
       "      <td>Banana Chips Sweetened (Whole)</td>\n",
       "      <td>2243.0</td>\n",
       "      <td>28.57</td>\n",
       "      <td>28.57</td>\n",
       "      <td>0.0</td>\n",
       "      <td>0.018</td>\n",
       "      <td>64.29</td>\n",
       "      <td>14.29</td>\n",
       "      <td>3.6</td>\n",
       "      <td>3.57</td>\n",
       "      <td>0.000</td>\n",
       "      <td>0.000</td>\n",
       "    </tr>\n",
       "    <tr>\n",
       "      <th>2</th>\n",
       "      <td>Peanuts</td>\n",
       "      <td>1941.0</td>\n",
       "      <td>17.86</td>\n",
       "      <td>0.00</td>\n",
       "      <td>0.0</td>\n",
       "      <td>0.000</td>\n",
       "      <td>60.71</td>\n",
       "      <td>17.86</td>\n",
       "      <td>7.1</td>\n",
       "      <td>17.86</td>\n",
       "      <td>0.250</td>\n",
       "      <td>0.071</td>\n",
       "    </tr>\n",
       "    <tr>\n",
       "      <th>79</th>\n",
       "      <td>Granola Cranberry And Acai</td>\n",
       "      <td>1824.0</td>\n",
       "      <td>10.91</td>\n",
       "      <td>0.91</td>\n",
       "      <td>0.0</td>\n",
       "      <td>0.000</td>\n",
       "      <td>74.55</td>\n",
       "      <td>25.45</td>\n",
       "      <td>5.5</td>\n",
       "      <td>9.09</td>\n",
       "      <td>0.100</td>\n",
       "      <td>0.036</td>\n",
       "    </tr>\n",
       "    <tr>\n",
       "      <th>82</th>\n",
       "      <td>Peanuts, Mixed Nuts</td>\n",
       "      <td>2389.0</td>\n",
       "      <td>42.86</td>\n",
       "      <td>7.14</td>\n",
       "      <td>0.0</td>\n",
       "      <td>0.000</td>\n",
       "      <td>25.00</td>\n",
       "      <td>14.29</td>\n",
       "      <td>7.1</td>\n",
       "      <td>25.00</td>\n",
       "      <td>0.214</td>\n",
       "      <td>0.071</td>\n",
       "    </tr>\n",
       "    <tr>\n",
       "      <th>148</th>\n",
       "      <td>Cranberries</td>\n",
       "      <td>1255.0</td>\n",
       "      <td>0.00</td>\n",
       "      <td>0.00</td>\n",
       "      <td>0.0</td>\n",
       "      <td>0.000</td>\n",
       "      <td>83.33</td>\n",
       "      <td>66.67</td>\n",
       "      <td>10.0</td>\n",
       "      <td>0.00</td>\n",
       "      <td>0.000</td>\n",
       "      <td>0.000</td>\n",
       "    </tr>\n",
       "  </tbody>\n",
       "</table>\n",
       "</div>"
      ],
      "text/plain": [
       "                       product_name  energy_100g  fat_100g  \\\n",
       "1    Banana Chips Sweetened (Whole)       2243.0     28.57   \n",
       "2                           Peanuts       1941.0     17.86   \n",
       "79       Granola Cranberry And Acai       1824.0     10.91   \n",
       "82              Peanuts, Mixed Nuts       2389.0     42.86   \n",
       "148                     Cranberries       1255.0      0.00   \n",
       "\n",
       "     saturated-fat_100g  trans-fat_100g  cholesterol_100g  carbohydrates_100g  \\\n",
       "1                 28.57             0.0             0.018               64.29   \n",
       "2                  0.00             0.0             0.000               60.71   \n",
       "79                 0.91             0.0             0.000               74.55   \n",
       "82                 7.14             0.0             0.000               25.00   \n",
       "148                0.00             0.0             0.000               83.33   \n",
       "\n",
       "     sugars_100g  fiber_100g  proteins_100g  sodium_100g  calcium_100g  \n",
       "1          14.29         3.6           3.57        0.000         0.000  \n",
       "2          17.86         7.1          17.86        0.250         0.071  \n",
       "79         25.45         5.5           9.09        0.100         0.036  \n",
       "82         14.29         7.1          25.00        0.214         0.071  \n",
       "148        66.67        10.0           0.00        0.000         0.000  "
      ]
     },
     "execution_count": 21,
     "metadata": {},
     "output_type": "execute_result"
    }
   ],
   "source": [
    "df.head()\n"
   ]
  },
  {
   "cell_type": "code",
   "execution_count": null,
   "id": "d9772a52",
   "metadata": {},
   "outputs": [],
   "source": []
  }
 ],
 "metadata": {
  "kernelspec": {
   "display_name": "Python 3 (ipykernel)",
   "language": "python",
   "name": "python3"
  },
  "language_info": {
   "codemirror_mode": {
    "name": "ipython",
    "version": 3
   },
   "file_extension": ".py",
   "mimetype": "text/x-python",
   "name": "python",
   "nbconvert_exporter": "python",
   "pygments_lexer": "ipython3",
   "version": "3.9.13"
  }
 },
 "nbformat": 4,
 "nbformat_minor": 5
}
