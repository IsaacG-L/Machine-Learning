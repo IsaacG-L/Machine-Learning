{
 "cells": [
  {
   "cell_type": "code",
   "execution_count": 1,
   "id": "4d59a104-91bb-43fd-bfa7-4784911ed631",
   "metadata": {},
   "outputs": [],
   "source": [
    "%run SpotifySONG.ipynb"
   ]
  },
  {
   "cell_type": "code",
   "execution_count": 24,
   "id": "762dc4e0-9d4c-4518-a68b-f85e311c359c",
   "metadata": {},
   "outputs": [],
   "source": [
    "import pandas as pd\n",
    "import seaborn as sns\n",
    "import numpy as np\n",
    "import json\n",
    "\n",
    "#Functions from other file:\n",
    "# makeTHATdf()  - this creates the main df!\n",
    "# Feature1()   - this creates df2 so is just musics from the 2000's!\n",
    "# VettingPL()  - this creates the vetting playlist dataframe!"
   ]
  },
  {
   "cell_type": "code",
   "execution_count": 25,
   "id": "68ba2ee0-475c-48cb-9063-a2223e9bfc19",
   "metadata": {},
   "outputs": [],
   "source": [
    "df = makeTHATdf()"
   ]
  },
  {
   "cell_type": "code",
   "execution_count": 26,
   "id": "50248ed7",
   "metadata": {},
   "outputs": [],
   "source": [
    "df2 = Feature1()"
   ]
  },
  {
   "cell_type": "code",
   "execution_count": 27,
   "id": "8714505b",
   "metadata": {},
   "outputs": [],
   "source": [
    "vett = VettingPL()"
   ]
  },
  {
   "cell_type": "code",
   "execution_count": null,
   "id": "b34a3100",
   "metadata": {},
   "outputs": [],
   "source": []
  }
 ],
 "metadata": {
  "kernelspec": {
   "display_name": "Python 3 (ipykernel)",
   "language": "python",
   "name": "python3"
  },
  "language_info": {
   "codemirror_mode": {
    "name": "ipython",
    "version": 3
   },
   "file_extension": ".py",
   "mimetype": "text/x-python",
   "name": "python",
   "nbconvert_exporter": "python",
   "pygments_lexer": "ipython3",
   "version": "3.9.13"
  }
 },
 "nbformat": 4,
 "nbformat_minor": 5
}
