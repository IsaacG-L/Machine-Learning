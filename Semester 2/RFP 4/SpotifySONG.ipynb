{
 "cells": [
  {
   "cell_type": "code",
   "execution_count": 53,
   "id": "9709ae84",
   "metadata": {},
   "outputs": [],
   "source": [
    "import pandas as pd\n",
    "import seaborn as sn\n",
    "import numpy as np\n",
    "import json"
   ]
  },
  {
   "cell_type": "markdown",
   "id": "b7bb0903-1d71-49db-ae01-cf1964dbd13d",
   "metadata": {},
   "source": [
    "#### This is for the tracks csv"
   ]
  },
  {
   "cell_type": "code",
   "execution_count": null,
   "id": "208ed90f-e432-4012-885d-3f4ac861c4e4",
   "metadata": {},
   "outputs": [],
   "source": [
    "def makeTHATdf():\n",
    "    df = pd.read_csv(\"tracks.csv\")\n",
    "    df = df.dropna()"
   ]
  },
  {
   "cell_type": "code",
   "execution_count": 54,
   "id": "711a5b4d",
   "metadata": {},
   "outputs": [],
   "source": [
    "df = pd.read_csv(\"tracks.csv\")"
   ]
  },
  {
   "cell_type": "code",
   "execution_count": 55,
   "id": "4dd255c5",
   "metadata": {},
   "outputs": [],
   "source": [
    "df = df.dropna()"
   ]
  },
  {
   "cell_type": "code",
   "execution_count": 56,
   "id": "60a9dfe9",
   "metadata": {},
   "outputs": [
    {
     "name": "stdout",
     "output_type": "stream",
     "text": [
      "<class 'pandas.core.frame.DataFrame'>\n",
      "Index: 586601 entries, 0 to 586671\n",
      "Data columns (total 20 columns):\n",
      " #   Column            Non-Null Count   Dtype  \n",
      "---  ------            --------------   -----  \n",
      " 0   id                586601 non-null  object \n",
      " 1   name              586601 non-null  object \n",
      " 2   popularity        586601 non-null  int64  \n",
      " 3   duration_ms       586601 non-null  int64  \n",
      " 4   explicit          586601 non-null  int64  \n",
      " 5   artists           586601 non-null  object \n",
      " 6   id_artists        586601 non-null  object \n",
      " 7   release_date      586601 non-null  object \n",
      " 8   danceability      586601 non-null  float64\n",
      " 9   energy            586601 non-null  float64\n",
      " 10  key               586601 non-null  int64  \n",
      " 11  loudness          586601 non-null  float64\n",
      " 12  mode              586601 non-null  int64  \n",
      " 13  speechiness       586601 non-null  float64\n",
      " 14  acousticness      586601 non-null  float64\n",
      " 15  instrumentalness  586601 non-null  float64\n",
      " 16  liveness          586601 non-null  float64\n",
      " 17  valence           586601 non-null  float64\n",
      " 18  tempo             586601 non-null  float64\n",
      " 19  time_signature    586601 non-null  int64  \n",
      "dtypes: float64(9), int64(6), object(5)\n",
      "memory usage: 94.0+ MB\n"
     ]
    }
   ],
   "source": [
    "df.info()"
   ]
  },
  {
   "cell_type": "code",
   "execution_count": null,
   "id": "cda1ee1b",
   "metadata": {},
   "outputs": [],
   "source": []
  },
  {
   "cell_type": "markdown",
   "id": "002fa830-a092-4108-b4e6-3dc1aa0daca9",
   "metadata": {},
   "source": [
    "### This is for Ms.Spindt's vetting playlist"
   ]
  },
  {
   "cell_type": "code",
   "execution_count": 57,
   "id": "2da634e2-5216-4c23-ac6c-464c7d20a5c3",
   "metadata": {},
   "outputs": [],
   "source": [
    "#df2 = pd.read_json(\"vetting_playlist.json\")"
   ]
  },
  {
   "cell_type": "code",
   "execution_count": 58,
   "id": "bfb82c4d-b317-4375-b174-15fca26f33e4",
   "metadata": {},
   "outputs": [],
   "source": [
    "with open(\"vetting_playlist.json\", 'r') as file:\n",
    "    data = json.load(file)\n",
    "    "
   ]
  },
  {
   "cell_type": "code",
   "execution_count": 59,
   "id": "b3f9497e-9609-4c53-9300-505481124d8d",
   "metadata": {},
   "outputs": [
    {
     "data": {
      "text/plain": [
       "dict_keys(['collaborative', 'description', 'external_urls', 'followers', 'href', 'id', 'images', 'name', 'owner', 'primary_color', 'public', 'snapshot_id', 'tracks', 'type', 'uri'])"
      ]
     },
     "execution_count": 59,
     "metadata": {},
     "output_type": "execute_result"
    }
   ],
   "source": [
    "data.keys()"
   ]
  },
  {
   "cell_type": "code",
   "execution_count": 60,
   "id": "fb0b3f91-3267-4dd2-adb3-d6c28352c02d",
   "metadata": {
    "scrolled": true
   },
   "outputs": [],
   "source": [
    "#data['tracks']['items']"
   ]
  },
  {
   "cell_type": "code",
   "execution_count": 61,
   "id": "de64a68c-845a-415d-9d97-f1d91ce720fc",
   "metadata": {},
   "outputs": [],
   "source": [
    "#data['tracks']"
   ]
  },
  {
   "cell_type": "code",
   "execution_count": 62,
   "id": "790da84d-45d1-43c5-8a2a-a8e3724d8034",
   "metadata": {
    "scrolled": true
   },
   "outputs": [
    {
     "data": {
      "text/plain": [
       "dict_keys(['href', 'items', 'limit', 'next', 'offset', 'previous', 'total'])"
      ]
     },
     "execution_count": 62,
     "metadata": {},
     "output_type": "execute_result"
    }
   ],
   "source": [
    "data['tracks'].keys()"
   ]
  },
  {
   "cell_type": "code",
   "execution_count": 63,
   "id": "9ad626ad-8e6f-4d48-9f3e-5141a45072d1",
   "metadata": {},
   "outputs": [],
   "source": [
    "songs = []\n",
    "for item in data.get(\"tracks\", {}).get(\"items\", []):\n",
    "    track = item.get(\"track\", None)\n",
    "    if track:\n",
    "        song_info = {\n",
    "            \"id\": track.get(\"id\"),\n",
    "            \"name\": track.get(\"name\"),\n",
    "            \"album\": track.get(\"album\", {}).get(\"name\"),\n",
    "            \"artist\": track.get(\"album\", {}).get(\"artists\", [{}])[0].get(\"name\"),\n",
    "            \"release_date\": track.get(\"album\", {}).get(\"release_date\"),\n",
    "            \"image_url\": track.get(\"album\", {}).get(\"images\", [{}])[0].get(\"url\")\n",
    "        }\n",
    "        songs.append(song_info)\n",
    "\n",
    "df2 = pd.DataFrame(songs)\n"
   ]
  },
  {
   "cell_type": "code",
   "execution_count": 64,
   "id": "be2b4097-2392-4e8f-8e54-81efabd42980",
   "metadata": {},
   "outputs": [
    {
     "name": "stdout",
     "output_type": "stream",
     "text": [
      "<class 'pandas.core.frame.DataFrame'>\n",
      "RangeIndex: 146 entries, 0 to 145\n",
      "Data columns (total 6 columns):\n",
      " #   Column        Non-Null Count  Dtype \n",
      "---  ------        --------------  ----- \n",
      " 0   id            146 non-null    object\n",
      " 1   name          146 non-null    object\n",
      " 2   album         146 non-null    object\n",
      " 3   artist        146 non-null    object\n",
      " 4   release_date  146 non-null    object\n",
      " 5   image_url     146 non-null    object\n",
      "dtypes: object(6)\n",
      "memory usage: 7.0+ KB\n"
     ]
    }
   ],
   "source": [
    "df2.info()"
   ]
  },
  {
   "cell_type": "code",
   "execution_count": 74,
   "id": "15537b71-2d40-4d95-b8ed-8af582ffcdf8",
   "metadata": {},
   "outputs": [],
   "source": [
    "#df2['name'].unique()"
   ]
  },
  {
   "cell_type": "code",
   "execution_count": null,
   "id": "4f4720f5-a043-4d40-8627-f84dfa6c9634",
   "metadata": {},
   "outputs": [],
   "source": []
  },
  {
   "cell_type": "code",
   "execution_count": null,
   "id": "097535cc-eebf-41fd-92bf-3a288a4ad8cf",
   "metadata": {},
   "outputs": [],
   "source": []
  },
  {
   "cell_type": "code",
   "execution_count": null,
   "id": "fc2a5821-c187-46d8-bf09-c72da8d2df1b",
   "metadata": {},
   "outputs": [],
   "source": []
  },
  {
   "cell_type": "markdown",
   "id": "7183a4de-6393-4809-816c-1cd339665d8b",
   "metadata": {},
   "source": [
    "#### 1st Feature! This is getting the years from the release dates in order to find the songs that are within the \n",
    "#### prefered time range which was around 2010~ish"
   ]
  },
  {
   "cell_type": "code",
   "execution_count": 76,
   "id": "f96915ed-be8c-4f44-a107-5aa87c43e0bc",
   "metadata": {},
   "outputs": [
    {
     "data": {
      "text/plain": [
       "0    1922-02-22\n",
       "1    1922-06-01\n",
       "2    1922-03-21\n",
       "3    1922-03-21\n",
       "4          1922\n",
       "Name: release_date, dtype: object"
      ]
     },
     "execution_count": 76,
     "metadata": {},
     "output_type": "execute_result"
    }
   ],
   "source": [
    "df['release_date'].head()"
   ]
  },
  {
   "cell_type": "code",
   "execution_count": 77,
   "id": "32557863-e526-4ac0-902f-ccf1a91488eb",
   "metadata": {},
   "outputs": [],
   "source": [
    "df[\"release_date\"] = pd.to_datetime(df[\"release_date\"], errors=\"coerce\")\n"
   ]
  },
  {
   "cell_type": "code",
   "execution_count": 78,
   "id": "5ee92654-f26f-4dd0-bedb-0d39ed3eef04",
   "metadata": {},
   "outputs": [
    {
     "data": {
      "text/plain": [
       "0        1922-02-22\n",
       "1        1922-06-01\n",
       "2        1922-03-21\n",
       "3        1922-03-21\n",
       "4               NaT\n",
       "            ...    \n",
       "586667   2020-09-26\n",
       "586668   2020-10-21\n",
       "586669   2020-09-02\n",
       "586670   2021-03-05\n",
       "586671   2015-07-01\n",
       "Name: release_date, Length: 586601, dtype: datetime64[ns]"
      ]
     },
     "execution_count": 78,
     "metadata": {},
     "output_type": "execute_result"
    }
   ],
   "source": [
    "#df[\"release_date\"]"
   ]
  },
  {
   "cell_type": "code",
   "execution_count": 79,
   "id": "e3986cd4-f891-4e71-a3ed-18e0a9003d10",
   "metadata": {},
   "outputs": [
    {
     "name": "stdout",
     "output_type": "stream",
     "text": [
      "<class 'pandas.core.frame.DataFrame'>\n",
      "Index: 586601 entries, 0 to 586671\n",
      "Data columns (total 20 columns):\n",
      " #   Column            Non-Null Count   Dtype         \n",
      "---  ------            --------------   -----         \n",
      " 0   id                586601 non-null  object        \n",
      " 1   name              586601 non-null  object        \n",
      " 2   popularity        586601 non-null  int64         \n",
      " 3   duration_ms       586601 non-null  int64         \n",
      " 4   explicit          586601 non-null  int64         \n",
      " 5   artists           586601 non-null  object        \n",
      " 6   id_artists        586601 non-null  object        \n",
      " 7   release_date      448010 non-null  datetime64[ns]\n",
      " 8   danceability      586601 non-null  float64       \n",
      " 9   energy            586601 non-null  float64       \n",
      " 10  key               586601 non-null  int64         \n",
      " 11  loudness          586601 non-null  float64       \n",
      " 12  mode              586601 non-null  int64         \n",
      " 13  speechiness       586601 non-null  float64       \n",
      " 14  acousticness      586601 non-null  float64       \n",
      " 15  instrumentalness  586601 non-null  float64       \n",
      " 16  liveness          586601 non-null  float64       \n",
      " 17  valence           586601 non-null  float64       \n",
      " 18  tempo             586601 non-null  float64       \n",
      " 19  time_signature    586601 non-null  int64         \n",
      "dtypes: datetime64[ns](1), float64(9), int64(6), object(4)\n",
      "memory usage: 94.0+ MB\n"
     ]
    }
   ],
   "source": [
    "df.info()"
   ]
  },
  {
   "cell_type": "code",
   "execution_count": null,
   "id": "7d3d673c-b412-4dfd-ae42-9bd0989bd819",
   "metadata": {},
   "outputs": [],
   "source": []
  },
  {
   "cell_type": "code",
   "execution_count": 80,
   "id": "208a75aa-800e-4b06-a942-a2a7583f031e",
   "metadata": {},
   "outputs": [],
   "source": [
    "df[\"release_year\"] = df[\"release_date\"].dt.year\n"
   ]
  },
  {
   "cell_type": "code",
   "execution_count": 83,
   "id": "5f2c8906-75b1-4ef8-b2e3-ce9c4ab34abb",
   "metadata": {},
   "outputs": [
    {
     "data": {
      "text/plain": [
       "array([1922.,   nan, 1923., 1924., 1925., 1926., 1927., 1928., 1929.,\n",
       "       1930., 1931., 1932., 1933., 1934., 1935., 1936., 1937., 1938.,\n",
       "       1939., 1940., 1941., 1942., 1943., 1944., 1945., 1946., 1947.,\n",
       "       1948., 1949., 1950., 1951., 1952., 1953., 1954., 1955., 1956.,\n",
       "       1957., 1958., 1959., 1960., 1961., 1962., 1963., 1964., 1965.,\n",
       "       1966., 2008., 2020., 2018., 1997., 2006., 2012., 2015., 2011.,\n",
       "       2007., 1996., 2021., 2013., 2014., 2017., 1967., 1968., 1969.,\n",
       "       1970., 1971., 1972., 1973., 1974., 1975., 1976., 1977., 1978.,\n",
       "       1979., 1980., 1981., 1982., 1983., 1984., 1985., 1986., 1987.,\n",
       "       1988., 1989., 1990., 1991., 1992., 1993., 1994., 1995., 1998.,\n",
       "       1999., 2000., 2019., 2016., 2010., 2009., 2004., 2005., 2001.,\n",
       "       2002., 2003., 1900.])"
      ]
     },
     "execution_count": 83,
     "metadata": {},
     "output_type": "execute_result"
    }
   ],
   "source": [
    "df['release_year'].unique()"
   ]
  },
  {
   "cell_type": "code",
   "execution_count": 85,
   "id": "865c492a-2684-4168-89c3-1c3d251269e9",
   "metadata": {},
   "outputs": [],
   "source": [
    "miniDF = df[(df[\"release_year\"] >= 2000) & (df[\"release_year\"] <= 2020)]"
   ]
  },
  {
   "cell_type": "code",
   "execution_count": 86,
   "id": "534f9549-ba1a-4383-ac39-ba4aca52a667",
   "metadata": {},
   "outputs": [
    {
     "name": "stdout",
     "output_type": "stream",
     "text": [
      "<class 'pandas.core.frame.DataFrame'>\n",
      "Index: 189124 entries, 39501 to 586671\n",
      "Data columns (total 21 columns):\n",
      " #   Column            Non-Null Count   Dtype         \n",
      "---  ------            --------------   -----         \n",
      " 0   id                189124 non-null  object        \n",
      " 1   name              189124 non-null  object        \n",
      " 2   popularity        189124 non-null  int64         \n",
      " 3   duration_ms       189124 non-null  int64         \n",
      " 4   explicit          189124 non-null  int64         \n",
      " 5   artists           189124 non-null  object        \n",
      " 6   id_artists        189124 non-null  object        \n",
      " 7   release_date      189124 non-null  datetime64[ns]\n",
      " 8   danceability      189124 non-null  float64       \n",
      " 9   energy            189124 non-null  float64       \n",
      " 10  key               189124 non-null  int64         \n",
      " 11  loudness          189124 non-null  float64       \n",
      " 12  mode              189124 non-null  int64         \n",
      " 13  speechiness       189124 non-null  float64       \n",
      " 14  acousticness      189124 non-null  float64       \n",
      " 15  instrumentalness  189124 non-null  float64       \n",
      " 16  liveness          189124 non-null  float64       \n",
      " 17  valence           189124 non-null  float64       \n",
      " 18  tempo             189124 non-null  float64       \n",
      " 19  time_signature    189124 non-null  int64         \n",
      " 20  release_year      189124 non-null  float64       \n",
      "dtypes: datetime64[ns](1), float64(10), int64(6), object(4)\n",
      "memory usage: 31.7+ MB\n"
     ]
    }
   ],
   "source": [
    "miniDF.info()"
   ]
  },
  {
   "cell_type": "code",
   "execution_count": null,
   "id": "900db8c5-7ac4-4b90-8f6d-ef8302607ad6",
   "metadata": {},
   "outputs": [],
   "source": []
  }
 ],
 "metadata": {
  "kernelspec": {
   "display_name": "Python 3 (ipykernel)",
   "language": "python",
   "name": "python3"
  },
  "language_info": {
   "codemirror_mode": {
    "name": "ipython",
    "version": 3
   },
   "file_extension": ".py",
   "mimetype": "text/x-python",
   "name": "python",
   "nbconvert_exporter": "python",
   "pygments_lexer": "ipython3",
   "version": "3.12.4"
  }
 },
 "nbformat": 4,
 "nbformat_minor": 5
}
