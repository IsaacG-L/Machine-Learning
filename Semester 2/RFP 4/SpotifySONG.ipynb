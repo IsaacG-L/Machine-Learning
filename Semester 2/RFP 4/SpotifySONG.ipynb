{
 "cells": [
  {
   "cell_type": "code",
   "execution_count": null,
   "id": "9709ae84",
   "metadata": {},
   "outputs": [],
   "source": [
    "import pandas as pd\n",
    "import seaborn as sn\n",
    "import numpy as np\n",
    "import json"
   ]
  },
  {
   "cell_type": "markdown",
   "id": "b7bb0903-1d71-49db-ae01-cf1964dbd13d",
   "metadata": {},
   "source": [
    "#### This is for the tracks csv"
   ]
  },
  {
   "cell_type": "code",
   "execution_count": 2,
   "id": "208ed90f-e432-4012-885d-3f4ac861c4e4",
   "metadata": {},
   "outputs": [],
   "source": [
    "def makeTHATdf():\n",
    "    df = pd.read_csv(\"tracks.csv\")\n",
    "    df = df.dropna()\n",
    "    return df"
   ]
  },
  {
   "cell_type": "code",
   "execution_count": 3,
   "id": "408b0ac5-131f-40b5-ba8d-c6b901b224e2",
   "metadata": {},
   "outputs": [],
   "source": [
    "#makeTHATdf(); FUN fact, the \";\" supresses the output of data!....."
   ]
  },
  {
   "cell_type": "code",
   "execution_count": 4,
   "id": "60a9dfe9",
   "metadata": {},
   "outputs": [],
   "source": [
    "#df = makeTHATdf()"
   ]
  },
  {
   "cell_type": "code",
   "execution_count": 5,
   "id": "cda1ee1b",
   "metadata": {},
   "outputs": [],
   "source": [
    "#df"
   ]
  },
  {
   "cell_type": "markdown",
   "id": "002fa830-a092-4108-b4e6-3dc1aa0daca9",
   "metadata": {},
   "source": [
    "### This is for Ms.Spindt's vetting playlist"
   ]
  },
  {
   "cell_type": "code",
   "execution_count": 6,
   "id": "2da634e2-5216-4c23-ac6c-464c7d20a5c3",
   "metadata": {},
   "outputs": [],
   "source": [
    "#df2 = pd.read_json(\"vetting_playlist.json\")"
   ]
  },
  {
   "cell_type": "code",
   "execution_count": 7,
   "id": "9416c120-fe82-4f15-937d-f74909caf63f",
   "metadata": {},
   "outputs": [],
   "source": [
    "def VettingPL():\n",
    "    with open(\"vetting_playlist.json\", 'r') as file:\n",
    "        data = json.load(file)\n",
    "    \n",
    "    data.keys()\n",
    "    floridaKeys = data.keys()\n",
    "    \n",
    "    songs = []\n",
    "    \n",
    "    for item in data.get(\"tracks\", {}).get(\"items\", []):\n",
    "        track = item.get(\"track\", None)\n",
    "        if track:\n",
    "            song_info = {\n",
    "                \"id\": track.get(\"id\"),\n",
    "                \"name\": track.get(\"name\"),\n",
    "                \"album\": track.get(\"album\", {}).get(\"name\"),\n",
    "                \"artist\": track.get(\"album\", {}).get(\"artists\", [{}])[0].get(\"name\"),\n",
    "                \"release_date\": track.get(\"album\", {}).get(\"release_date\"),\n",
    "                \"image_url\": track.get(\"album\", {}).get(\"images\", [{}])[0].get(\"url\")\n",
    "            }\n",
    "            songs.append(song_info)\n",
    "\n",
    "    df2 = pd.DataFrame(songs)\n",
    "    return df2\n"
   ]
  },
  {
   "cell_type": "code",
   "execution_count": 8,
   "id": "b664d15f-d18a-4c46-986c-b60d9bac2041",
   "metadata": {},
   "outputs": [],
   "source": [
    "#df2 = VettingPL()"
   ]
  },
  {
   "cell_type": "code",
   "execution_count": 9,
   "id": "be2b4097-2392-4e8f-8e54-81efabd42980",
   "metadata": {},
   "outputs": [],
   "source": [
    "#df2.info()"
   ]
  },
  {
   "cell_type": "code",
   "execution_count": null,
   "id": "4f4720f5-a043-4d40-8627-f84dfa6c9634",
   "metadata": {},
   "outputs": [],
   "source": []
  },
  {
   "cell_type": "code",
   "execution_count": null,
   "id": "097535cc-eebf-41fd-92bf-3a288a4ad8cf",
   "metadata": {},
   "outputs": [],
   "source": []
  },
  {
   "cell_type": "code",
   "execution_count": null,
   "id": "fc2a5821-c187-46d8-bf09-c72da8d2df1b",
   "metadata": {},
   "outputs": [],
   "source": []
  },
  {
   "cell_type": "markdown",
   "id": "7183a4de-6393-4809-816c-1cd339665d8b",
   "metadata": {},
   "source": [
    "#### 1st Feature! This is getting the years from the release dates in order to find the songs that are within the \n",
    "#### prefered time range which was around 2010~ish"
   ]
  },
  {
   "cell_type": "code",
   "execution_count": 13,
   "id": "1086d542-7ac2-4e1f-b716-2fb488d60cdf",
   "metadata": {},
   "outputs": [],
   "source": [
    "def Feature1():\n",
    "    df[\"release_date\"] = pd.to_datetime(df[\"release_date\"], errors=\"coerce\")\n",
    "    df[\"release_year\"] = df[\"release_date\"].dt.year\n",
    "    miniDF = df[(df[\"release_year\"] >= 2000) & (df[\"release_year\"] <= 2020)]\n"
   ]
  },
  {
   "cell_type": "code",
   "execution_count": 32,
   "id": "5ee92654-f26f-4dd0-bedb-0d39ed3eef04",
   "metadata": {},
   "outputs": [],
   "source": [
    "#df[\"release_date\"]"
   ]
  },
  {
   "cell_type": "code",
   "execution_count": null,
   "id": "ad3870d8",
   "metadata": {},
   "outputs": [],
   "source": [
    "#This is for feature 2, it will measure the instrumentalness of music(if it's just voice or instruments)\n",
    "def Feature2():\n",
    "    bins = [0, 0.2, 0.4, 0.6, 0.8, 1] \n",
    "    labels = [1, 2, 3, 4, 5]\n",
    "    df['instru_encode'] = pd.cut(df['instrumentalness'], bins=bins, labels=labels, right=True)\n"
   ]
  },
  {
   "cell_type": "code",
   "execution_count": null,
   "id": "71dec2b3",
   "metadata": {},
   "outputs": [],
   "source": [
    "# Function for feature 3, 'energy' column will be used for \n",
    "def Feature3(energy)\n",
    "    if 0 <= energy <= 0.4:\n",
    "        return 1\n",
    "    elif 0.41 <= energy <= 0.7:\n",
    "        return 2\n",
    "    else:\n",
    "        return 3\n",
    "    \n",
    "    df['energy_encoded'] = df['energy'].apply(encode_energy)\n"
   ]
  },
  {
   "cell_type": "code",
   "execution_count": null,
   "id": "4f835998",
   "metadata": {},
   "outputs": [],
   "source": [
    "# Function for feature4, this will measure the speechiness, for the prefered type of music\n",
    "# Encoding:\n",
    "# 1 = 0 - 0.2\n",
    "#\n",
    "def Feature4(speechiness):\n",
    "    #for speech in speechiness:\n",
    "    if 0 <= speechiness <= 0.2:\n",
    "        return 1\n",
    "    elif 0.21 <= speechiness <= "
   ]
  },
  {
   "cell_type": "code",
   "execution_count": null,
   "id": "1ea13685",
   "metadata": {},
   "outputs": [],
   "source": []
  }
 ],
 "metadata": {
  "kernelspec": {
   "display_name": "Python 3 (ipykernel)",
   "language": "python",
   "name": "python3"
  },
  "language_info": {
   "codemirror_mode": {
    "name": "ipython",
    "version": 3
   },
   "file_extension": ".py",
   "mimetype": "text/x-python",
   "name": "python",
   "nbconvert_exporter": "python",
   "pygments_lexer": "ipython3",
   "version": "3.9.13"
  }
 },
 "nbformat": 4,
 "nbformat_minor": 5
}
