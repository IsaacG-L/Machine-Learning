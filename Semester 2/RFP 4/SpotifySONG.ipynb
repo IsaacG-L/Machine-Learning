{
 "cells": [
  {
   "cell_type": "code",
   "execution_count": 1,
   "id": "9709ae84",
   "metadata": {},
   "outputs": [],
   "source": [
    "import pandas as pd\n",
    "import seaborn as sn\n",
    "import numpy as np\n",
    "import json"
   ]
  },
  {
   "cell_type": "markdown",
   "id": "b7bb0903-1d71-49db-ae01-cf1964dbd13d",
   "metadata": {},
   "source": [
    "#### This is for the tracks csv"
   ]
  },
  {
   "cell_type": "code",
   "execution_count": 2,
   "id": "208ed90f-e432-4012-885d-3f4ac861c4e4",
   "metadata": {},
   "outputs": [],
   "source": [
    "def makeTHATdf():\n",
    "    df = pd.read_csv(\"tracks.csv\")\n",
    "    df = df.dropna()\n",
    "    return df"
   ]
  },
  {
   "cell_type": "code",
   "execution_count": 3,
   "id": "408b0ac5-131f-40b5-ba8d-c6b901b224e2",
   "metadata": {},
   "outputs": [],
   "source": [
    "#makeTHATdf(); FUN fact, the \";\" supresses the output of data!....."
   ]
  },
  {
   "cell_type": "code",
   "execution_count": 4,
   "id": "60a9dfe9",
   "metadata": {},
   "outputs": [],
   "source": [
    "#df = makeTHATdf()"
   ]
  },
  {
   "cell_type": "code",
   "execution_count": 5,
   "id": "cda1ee1b",
   "metadata": {},
   "outputs": [],
   "source": [
    "#df"
   ]
  },
  {
   "cell_type": "markdown",
   "id": "002fa830-a092-4108-b4e6-3dc1aa0daca9",
   "metadata": {},
   "source": [
    "### This is for Ms.Spindt's vetting playlist"
   ]
  },
  {
   "cell_type": "code",
   "execution_count": 6,
   "id": "2da634e2-5216-4c23-ac6c-464c7d20a5c3",
   "metadata": {},
   "outputs": [],
   "source": [
    "#df2 = pd.read_json(\"vetting_playlist.json\")"
   ]
  },
  {
   "cell_type": "code",
   "execution_count": 7,
   "id": "9416c120-fe82-4f15-937d-f74909caf63f",
   "metadata": {},
   "outputs": [],
   "source": [
    "def VettingPL():\n",
    "    with open(\"vetting_playlist.json\", 'r') as file:\n",
    "        data = json.load(file)\n",
    "    \n",
    "    data.keys()\n",
    "    floridaKeys = data.keys()\n",
    "    \n",
    "    songs = []\n",
    "    \n",
    "    for item in data.get(\"tracks\", {}).get(\"items\", []):\n",
    "        track = item.get(\"track\", None)\n",
    "        if track:\n",
    "            song_info = {\n",
    "                \"id\": track.get(\"id\"),\n",
    "                \"name\": track.get(\"name\"),\n",
    "                \"album\": track.get(\"album\", {}).get(\"name\"),\n",
    "                \"artist\": track.get(\"album\", {}).get(\"artists\", [{}])[0].get(\"name\"),\n",
    "                \"release_date\": track.get(\"album\", {}).get(\"release_date\"),\n",
    "                \"image_url\": track.get(\"album\", {}).get(\"images\", [{}])[0].get(\"url\")\n",
    "            }\n",
    "            songs.append(song_info)\n",
    "\n",
    "    df2 = pd.DataFrame(songs)\n",
    "    return df2\n"
   ]
  },
  {
   "cell_type": "code",
   "execution_count": 8,
   "id": "b664d15f-d18a-4c46-986c-b60d9bac2041",
   "metadata": {},
   "outputs": [],
   "source": [
    "#df2 = VettingPL()"
   ]
  },
  {
   "cell_type": "code",
   "execution_count": 9,
   "id": "be2b4097-2392-4e8f-8e54-81efabd42980",
   "metadata": {},
   "outputs": [],
   "source": [
    "#df2.info()"
   ]
  },
  {
   "cell_type": "code",
   "execution_count": null,
   "id": "4f4720f5-a043-4d40-8627-f84dfa6c9634",
   "metadata": {},
   "outputs": [],
   "source": []
  },
  {
   "cell_type": "code",
   "execution_count": null,
   "id": "097535cc-eebf-41fd-92bf-3a288a4ad8cf",
   "metadata": {},
   "outputs": [],
   "source": []
  },
  {
   "cell_type": "code",
   "execution_count": null,
   "id": "fc2a5821-c187-46d8-bf09-c72da8d2df1b",
   "metadata": {},
   "outputs": [],
   "source": []
  },
  {
   "cell_type": "markdown",
   "id": "7183a4de-6393-4809-816c-1cd339665d8b",
   "metadata": {},
   "source": [
    "#### 1st Feature! This is getting the years from the release dates in order to find the songs that are within the \n",
    "#### prefered time range which was around 2010~ish"
   ]
  },
  {
   "cell_type": "code",
   "execution_count": 11,
   "id": "1086d542-7ac2-4e1f-b716-2fb488d60cdf",
   "metadata": {},
   "outputs": [],
   "source": [
    "def Feature1(df):\n",
    "    df[\"release_date\"] = pd.to_datetime(df[\"release_date\"], errors=\"coerce\")\n",
    "    df[\"release_year\"] = df[\"release_date\"].dt.year\n",
    "    return df\n",
    "    miniDF = df[(df[\"release_year\"] >= 2000) & (df[\"release_year\"] <= 2020)]\n"
   ]
  },
  {
   "cell_type": "code",
   "execution_count": 12,
   "id": "5ee92654-f26f-4dd0-bedb-0d39ed3eef04",
   "metadata": {},
   "outputs": [],
   "source": [
    "#df[\"release_date\"]"
   ]
  },
  {
   "cell_type": "code",
   "execution_count": 13,
   "id": "ad3870d8",
   "metadata": {},
   "outputs": [],
   "source": [
    "#This is for feature 2, it will measure the instrumentalness of music(if it's just voice or instruments)\n",
    "def Feature2(df):\n",
    "    bins = [0, 0.2, 0.4, 0.6, 0.8, 1.0001] \n",
    "    labels = [1, 2, 3, 4, 5]\n",
    "    df['instru_encode'] = pd.cut(df['instrumentalness'], bins=bins, labels=labels, right=False)\n",
    "    return df"
   ]
  },
  {
   "cell_type": "code",
   "execution_count": 14,
   "id": "71dec2b3",
   "metadata": {},
   "outputs": [],
   "source": [
    "# Function for feature 3, 'energy' column will be used for \n",
    "def Feature3(energy):\n",
    "    if 0 <= energy <= 0.4:\n",
    "        return 1\n",
    "    elif 0.41 <= energy <= 0.7:\n",
    "        return 2\n",
    "    else:\n",
    "        return 3\n",
    "\n",
    "#Use this line of code to call this function\n",
    "\n",
    "#df['energy_encoded'] = df['energy'].apply(Feature3)\n"
   ]
  },
  {
   "cell_type": "code",
   "execution_count": 15,
   "id": "4f835998",
   "metadata": {},
   "outputs": [],
   "source": [
    "# Function for feature4, this will measure the speechiness, for the prefered type of music\n",
    "# Encoding:\n",
    "# 1 = 0 - 0.2\n",
    "#\n",
    "def Feature4(speechiness):\n",
    "    #for speech in speechiness:\n",
    "    if 0 <= speechiness <= 0.2:\n",
    "        return 1\n",
    "    elif 0.21 <= speechiness<= 0.40:\n",
    "        return 2\n",
    "    elif 0.41 <= speechiness<= 0.60:\n",
    "        return 3\n",
    "    elif 0.61 <= speechiness<= 0.80:\n",
    "        return 4\n",
    "    else:\n",
    "        return 5\n",
    "#Same here, use this line of code\n",
    "#df['speechy_enco'] = df['speechiness'].apply(Feature4)\n",
    "    \n",
    "    #elif 0.21 <= speechiness <= "
   ]
  },
  {
   "cell_type": "markdown",
   "id": "e9f8fb49-e4f4-47a3-9f78-40da163a8aca",
   "metadata": {},
   "source": [
    "#### ***Testing***"
   ]
  },
  {
   "cell_type": "code",
   "execution_count": 16,
   "id": "6d8dac6a-a7b7-4c00-b5b5-e236e73e5a7b",
   "metadata": {},
   "outputs": [],
   "source": [
    "#df.info()"
   ]
  },
  {
   "cell_type": "code",
   "execution_count": 17,
   "id": "8fece01c-4f50-4e9e-a817-e745bfe665b5",
   "metadata": {},
   "outputs": [],
   "source": [
    "df = makeTHATdf()\n",
    "df2 = VettingPL()"
   ]
  },
  {
   "cell_type": "code",
   "execution_count": 18,
   "id": "ef5f0c30-81d9-4424-846e-a7fed15a6595",
   "metadata": {},
   "outputs": [],
   "source": [
    "df = Feature1(df) #This is release year(works fine)"
   ]
  },
  {
   "cell_type": "code",
   "execution_count": 19,
   "id": "bc19e181-c3fe-4694-a66d-335e59cfb1f1",
   "metadata": {},
   "outputs": [],
   "source": [
    "#df.info()"
   ]
  },
  {
   "cell_type": "code",
   "execution_count": 20,
   "id": "b6ac9060-0f02-4d28-8780-5d91c52c77df",
   "metadata": {},
   "outputs": [],
   "source": [
    "df = Feature2(df) #This is the intru_enco(works fine), might want to work on the NA values, also, change the type"
   ]
  },
  {
   "cell_type": "code",
   "execution_count": 21,
   "id": "5c2ecd39-3f1b-47cf-b4b2-ac57e62ef0fb",
   "metadata": {},
   "outputs": [],
   "source": [
    "#df.head()"
   ]
  },
  {
   "cell_type": "code",
   "execution_count": 22,
   "id": "a82e125f-f8e4-4515-aa4f-d78c219eac32",
   "metadata": {},
   "outputs": [],
   "source": [
    "df['energy_encoded'] = df['energy'].apply(Feature3)\n",
    "df['speechy_enco'] = df['speechiness'].apply(Feature4)"
   ]
  },
  {
   "cell_type": "code",
   "execution_count": 23,
   "id": "3fe48a9a-f1aa-416c-bf49-c99a8844de8b",
   "metadata": {},
   "outputs": [
    {
     "name": "stdout",
     "output_type": "stream",
     "text": [
      "<class 'pandas.core.frame.DataFrame'>\n",
      "Index: 586601 entries, 0 to 586671\n",
      "Data columns (total 24 columns):\n",
      " #   Column            Non-Null Count   Dtype         \n",
      "---  ------            --------------   -----         \n",
      " 0   id                586601 non-null  object        \n",
      " 1   name              586601 non-null  object        \n",
      " 2   popularity        586601 non-null  int64         \n",
      " 3   duration_ms       586601 non-null  int64         \n",
      " 4   explicit          586601 non-null  int64         \n",
      " 5   artists           586601 non-null  object        \n",
      " 6   id_artists        586601 non-null  object        \n",
      " 7   release_date      448010 non-null  datetime64[ns]\n",
      " 8   danceability      586601 non-null  float64       \n",
      " 9   energy            586601 non-null  float64       \n",
      " 10  key               586601 non-null  int64         \n",
      " 11  loudness          586601 non-null  float64       \n",
      " 12  mode              586601 non-null  int64         \n",
      " 13  speechiness       586601 non-null  float64       \n",
      " 14  acousticness      586601 non-null  float64       \n",
      " 15  instrumentalness  586601 non-null  float64       \n",
      " 16  liveness          586601 non-null  float64       \n",
      " 17  valence           586601 non-null  float64       \n",
      " 18  tempo             586601 non-null  float64       \n",
      " 19  time_signature    586601 non-null  int64         \n",
      " 20  release_year      448010 non-null  float64       \n",
      " 21  instru_encode     586601 non-null  category      \n",
      " 22  energy_encoded    586601 non-null  int64         \n",
      " 23  speechy_enco      586601 non-null  int64         \n",
      "dtypes: category(1), datetime64[ns](1), float64(10), int64(8), object(4)\n",
      "memory usage: 108.0+ MB\n"
     ]
    }
   ],
   "source": [
    "df.info()"
   ]
  },
  {
   "cell_type": "code",
   "execution_count": 24,
   "id": "e14a0f83-46b7-4969-81ec-70c2b8110025",
   "metadata": {},
   "outputs": [],
   "source": [
    "#df.info()"
   ]
  },
  {
   "cell_type": "code",
   "execution_count": 25,
   "id": "91ce214c-8c45-458b-b613-ee23b0bb0e88",
   "metadata": {},
   "outputs": [],
   "source": [
    "#df2.head()"
   ]
  },
  {
   "cell_type": "code",
   "execution_count": 26,
   "id": "33bb91fe-c053-4be9-ae73-96f21677bfe0",
   "metadata": {},
   "outputs": [],
   "source": [
    "#df[df['release_date'] == 'Better Than']"
   ]
  },
  {
   "cell_type": "code",
   "execution_count": 27,
   "id": "3d27a5f4-5505-4e65-924f-fa85ba08f436",
   "metadata": {},
   "outputs": [],
   "source": [
    "df2[\"release_date\"] = pd.to_datetime(df2[\"release_date\"], errors=\"coerce\")\n"
   ]
  },
  {
   "cell_type": "code",
   "execution_count": 28,
   "id": "fc6b46c7-6b95-4bce-b30b-94c2aafde7c8",
   "metadata": {},
   "outputs": [],
   "source": [
    "#df3 = pd.merge(df, df2, on=['name', 'release_date'], how='left')\n",
    "df3 = pd.merge(df2, df, on=['name', 'release_date'], how='inner')"
   ]
  },
  {
   "cell_type": "code",
   "execution_count": 46,
   "id": "b0adf6e7-3551-4a08-a78f-255192cf4518",
   "metadata": {},
   "outputs": [
    {
     "name": "stdout",
     "output_type": "stream",
     "text": [
      "<class 'pandas.core.frame.DataFrame'>\n",
      "RangeIndex: 41 entries, 0 to 40\n",
      "Data columns (total 28 columns):\n",
      " #   Column            Non-Null Count  Dtype   \n",
      "---  ------            --------------  -----   \n",
      " 0   id_x              41 non-null     object  \n",
      " 1   name              41 non-null     object  \n",
      " 2   album             41 non-null     object  \n",
      " 3   artist            41 non-null     object  \n",
      " 4   release_date      41 non-null     object  \n",
      " 5   image_url         41 non-null     object  \n",
      " 6   id_y              41 non-null     object  \n",
      " 7   popularity        41 non-null     int64   \n",
      " 8   duration_ms       41 non-null     int64   \n",
      " 9   explicit          41 non-null     int64   \n",
      " 10  artists           41 non-null     object  \n",
      " 11  id_artists        41 non-null     object  \n",
      " 12  danceability      41 non-null     float64 \n",
      " 13  energy            41 non-null     float64 \n",
      " 14  key               41 non-null     int64   \n",
      " 15  loudness          41 non-null     float64 \n",
      " 16  mode              41 non-null     int64   \n",
      " 17  speechiness       41 non-null     float64 \n",
      " 18  acousticness      41 non-null     float64 \n",
      " 19  instrumentalness  41 non-null     float64 \n",
      " 20  liveness          41 non-null     float64 \n",
      " 21  valence           41 non-null     float64 \n",
      " 22  tempo             41 non-null     float64 \n",
      " 23  time_signature    41 non-null     int64   \n",
      " 24  release_year      41 non-null     float64 \n",
      " 25  instru_encode     41 non-null     category\n",
      " 26  energy_encoded    41 non-null     int64   \n",
      " 27  speechy_enco      41 non-null     int64   \n",
      "dtypes: category(1), float64(10), int64(8), object(9)\n",
      "memory usage: 9.0+ KB\n"
     ]
    }
   ],
   "source": [
    "df3.info()"
   ]
  },
  {
   "cell_type": "code",
   "execution_count": null,
   "id": "37297b73-c197-4c1f-85af-7af880027d0f",
   "metadata": {},
   "outputs": [],
   "source": []
  },
  {
   "cell_type": "code",
   "execution_count": 47,
   "id": "a2c4b567-8c52-4107-ad98-3f56d1d2decc",
   "metadata": {},
   "outputs": [
    {
     "data": {
      "text/html": [
       "<div>\n",
       "<style scoped>\n",
       "    .dataframe tbody tr th:only-of-type {\n",
       "        vertical-align: middle;\n",
       "    }\n",
       "\n",
       "    .dataframe tbody tr th {\n",
       "        vertical-align: top;\n",
       "    }\n",
       "\n",
       "    .dataframe thead th {\n",
       "        text-align: right;\n",
       "    }\n",
       "</style>\n",
       "<table border=\"1\" class=\"dataframe\">\n",
       "  <thead>\n",
       "    <tr style=\"text-align: right;\">\n",
       "      <th></th>\n",
       "      <th>id_x</th>\n",
       "      <th>name</th>\n",
       "      <th>album</th>\n",
       "      <th>artist</th>\n",
       "      <th>release_date</th>\n",
       "      <th>image_url</th>\n",
       "      <th>id_y</th>\n",
       "      <th>popularity</th>\n",
       "      <th>duration_ms</th>\n",
       "      <th>explicit</th>\n",
       "      <th>...</th>\n",
       "      <th>acousticness</th>\n",
       "      <th>instrumentalness</th>\n",
       "      <th>liveness</th>\n",
       "      <th>valence</th>\n",
       "      <th>tempo</th>\n",
       "      <th>time_signature</th>\n",
       "      <th>release_year</th>\n",
       "      <th>instru_encode</th>\n",
       "      <th>energy_encoded</th>\n",
       "      <th>speechy_enco</th>\n",
       "    </tr>\n",
       "  </thead>\n",
       "  <tbody>\n",
       "  </tbody>\n",
       "</table>\n",
       "<p>0 rows × 28 columns</p>\n",
       "</div>"
      ],
      "text/plain": [
       "Empty DataFrame\n",
       "Columns: [id_x, name, album, artist, release_date, image_url, id_y, popularity, duration_ms, explicit, artists, id_artists, danceability, energy, key, loudness, mode, speechiness, acousticness, instrumentalness, liveness, valence, tempo, time_signature, release_year, instru_encode, energy_encoded, speechy_enco]\n",
       "Index: []\n",
       "\n",
       "[0 rows x 28 columns]"
      ]
     },
     "execution_count": 47,
     "metadata": {},
     "output_type": "execute_result"
    }
   ],
   "source": [
    "df3[df3[\"release_year\"].isna()]\n",
    "#df[(df['instru_encode'] == 5) & (df['instrumentalness'] == 1)]"
   ]
  },
  {
   "cell_type": "code",
   "execution_count": 48,
   "id": "2b18e8c3-859a-47a9-bb00-1ee5ab22f72c",
   "metadata": {},
   "outputs": [],
   "source": [
    "#df[df['instrumentalness'] == 0]"
   ]
  },
  {
   "cell_type": "code",
   "execution_count": 49,
   "id": "4e3894db-6632-41df-a89b-5878e9ed7316",
   "metadata": {},
   "outputs": [],
   "source": [
    "# This was us manually assigning the actual date for Funeralopolis,  because it didn't have a date and didn't feel like dropping\n",
    "# that single row buahahaha! Plus, it was the only NaN for the df3\n",
    "df3.loc[34, 'release_year'] = 2000\n",
    "df3.loc[34, 'release_date'] = pd.to_datetime('2000-10-10')\n"
   ]
  },
  {
   "cell_type": "code",
   "execution_count": 50,
   "id": "793edbad-2ec2-4e27-a9c3-c6b29fc54c37",
   "metadata": {},
   "outputs": [],
   "source": [
    "#df3.loc[34]"
   ]
  },
  {
   "cell_type": "markdown",
   "id": "d8ac22e1-0815-4426-972b-5aac4e849ed9",
   "metadata": {},
   "source": [
    "#### There! The data set it finally set for action!\n",
    "#### Now we gonna do K-means clustering here!"
   ]
  },
  {
   "cell_type": "code",
   "execution_count": 45,
   "id": "31aff234-20c8-4923-af85-a32d27950ff2",
   "metadata": {},
   "outputs": [],
   "source": [
    "from sklearn.cluster import KMeans\n",
    "from sklearn.metrics import silhouette_score\n"
   ]
  },
  {
   "cell_type": "code",
   "execution_count": null,
   "id": "72723957-1af4-48c5-8bd1-f83114bf5889",
   "metadata": {},
   "outputs": [],
   "source": []
  }
 ],
 "metadata": {
  "kernelspec": {
   "display_name": "Python 3 (ipykernel)",
   "language": "python",
   "name": "python3"
  },
  "language_info": {
   "codemirror_mode": {
    "name": "ipython",
    "version": 3
   },
   "file_extension": ".py",
   "mimetype": "text/x-python",
   "name": "python",
   "nbconvert_exporter": "python",
   "pygments_lexer": "ipython3",
   "version": "3.12.4"
  }
 },
 "nbformat": 4,
 "nbformat_minor": 5
}
