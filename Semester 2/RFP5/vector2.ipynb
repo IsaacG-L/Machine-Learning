{
 "cells": [
  {
   "cell_type": "markdown",
   "id": "088f5079-3040-4647-8df2-8378611b6ad9",
   "metadata": {},
   "source": [
    "This is going to be the same code as the testing ipynb, but the vectorization is much mnore different. \n",
    "This is for testing purposes only. Final code will go to RFP5!"
   ]
  },
  {
   "cell_type": "code",
   "execution_count": 1,
   "id": "e0d6d6ca-e2c3-44cf-b623-1a3e4cd3b117",
   "metadata": {},
   "outputs": [],
   "source": [
    "import pandas as pd\n",
    "import numpy as np\n",
    "\n",
    "import seaborn as sns\n",
    "\n",
    "#testing imports\n",
    "\n",
    "from sklearn.metrics import accuracy_score  \n",
    "from sklearn.metrics import precision_score\n",
    "\n",
    "from sklearn.metrics import recall_score\n",
    "from sklearn.metrics import f1_score   #Combo of precision and recall"
   ]
  },
  {
   "cell_type": "code",
   "execution_count": 93,
   "id": "8db2c3c1",
   "metadata": {},
   "outputs": [],
   "source": [
    "%run Vocab.ipynb"
   ]
  },
  {
   "cell_type": "code",
   "execution_count": 3,
   "id": "82185925-4dc0-4a62-bd68-04bdbe093b4b",
   "metadata": {},
   "outputs": [],
   "source": [
    "df = pd.read_csv(\"diffusion_db_unaltered.csv\")"
   ]
  },
  {
   "cell_type": "code",
   "execution_count": 4,
   "id": "1d2fea3b-6c31-440b-b1a6-7cbd37d2b7af",
   "metadata": {},
   "outputs": [],
   "source": [
    "df2 = df[df['prompt_nsfw'] >= 0.30].copy()"
   ]
  },
  {
   "cell_type": "code",
   "execution_count": 5,
   "id": "d3e52073-6623-41ad-88de-e7922cdbfde7",
   "metadata": {},
   "outputs": [],
   "source": [
    "#df2 = df[df['prompt_nsfw'] >= 0.70].copy()"
   ]
  },
  {
   "cell_type": "code",
   "execution_count": 6,
   "id": "8caedcdd-6bad-4742-9e60-cc85882ca950",
   "metadata": {},
   "outputs": [],
   "source": [
    "#illegal_w = [\"weed\", \"kill\", \"drugs\", \"trafficking\", \"smuggling\", \"hacking\", \"bribe\", \"pedophile\", \"child\", \"bomb\", \"terrorist\",\n",
    "         #   \"gun\", \"fraud\", \"scam\", \"scamming\", \"shoot\", \"shooting\", \"stab\", \"stabbing\", \"murder\"]"
   ]
  },
  {
   "cell_type": "code",
   "execution_count": 7,
   "id": "b8a0bb56-f73f-4d57-8c80-b492e24a9360",
   "metadata": {},
   "outputs": [],
   "source": [
    "df = df.dropna(subset=['prompt'])\n"
   ]
  },
  {
   "cell_type": "code",
   "execution_count": 94,
   "id": "46c1292c-43e1-42f4-bb18-dd9f384b085f",
   "metadata": {},
   "outputs": [],
   "source": [
    "def vectorize_prompt(prompt, our_lists):\n",
    "    vector = []\n",
    "    prompt = prompt.lower()  # Ensure case-insensitivity\n",
    "\n",
    "    for word_list in our_lists:\n",
    "        #if word in prompt:\n",
    "        if any(word in prompt for word in word_list):\n",
    "            vector.append(1)\n",
    "        else:\n",
    "            vector.append(0)\n",
    "    return vector\n",
    "\n",
    "violent = vio_ill()\n",
    "drug_bad = drug_ill()\n",
    "really_bad = bad_ill()\n",
    "#explicity = explicit_words()\n",
    "\n",
    "bunchOfLists = [violent, drug_bad, really_bad]\n",
    "\n",
    "df2['vector'] = df2['prompt'].apply(lambda x: vectorize_prompt(x, bunchOfLists))\n",
    "#df['vector'] = df['prompt'].apply(lambda x: vectorize_prompt(x, bunchOfLists))"
   ]
  },
  {
   "cell_type": "code",
   "execution_count": 48,
   "id": "3829680c-5ccd-4d55-ab1e-4b33ef9feb97",
   "metadata": {
    "scrolled": true
   },
   "outputs": [
    {
     "name": "stdout",
     "output_type": "stream",
     "text": [
      "<class 'pandas.core.frame.DataFrame'>\n",
      "RangeIndex: 44856 entries, 0 to 44855\n",
      "Data columns (total 5 columns):\n",
      " #   Column       Non-Null Count  Dtype  \n",
      "---  ------       --------------  -----  \n",
      " 0   prompt       44856 non-null  object \n",
      " 1   image_nsfw   44856 non-null  float64\n",
      " 2   prompt_nsfw  44856 non-null  float64\n",
      " 3   vector       44856 non-null  object \n",
      " 4   Classify     44856 non-null  int64  \n",
      "dtypes: float64(2), int64(1), object(2)\n",
      "memory usage: 1.7+ MB\n"
     ]
    }
   ],
   "source": [
    "df2.info()"
   ]
  },
  {
   "cell_type": "code",
   "execution_count": 49,
   "id": "ebc755c1-7f25-4119-acc7-710c25c811ac",
   "metadata": {},
   "outputs": [],
   "source": [
    "#df2.info()"
   ]
  },
  {
   "cell_type": "code",
   "execution_count": 50,
   "id": "0ce74167-b6f2-40a3-83c0-f4caa1c127ea",
   "metadata": {},
   "outputs": [
    {
     "data": {
      "text/html": [
       "<div>\n",
       "<style scoped>\n",
       "    .dataframe tbody tr th:only-of-type {\n",
       "        vertical-align: middle;\n",
       "    }\n",
       "\n",
       "    .dataframe tbody tr th {\n",
       "        vertical-align: top;\n",
       "    }\n",
       "\n",
       "    .dataframe thead th {\n",
       "        text-align: right;\n",
       "    }\n",
       "</style>\n",
       "<table border=\"1\" class=\"dataframe\">\n",
       "  <thead>\n",
       "    <tr style=\"text-align: right;\">\n",
       "      <th></th>\n",
       "      <th>prompt</th>\n",
       "      <th>image_nsfw</th>\n",
       "      <th>prompt_nsfw</th>\n",
       "      <th>vector</th>\n",
       "      <th>Classify</th>\n",
       "    </tr>\n",
       "  </thead>\n",
       "  <tbody>\n",
       "    <tr>\n",
       "      <th>44851</th>\n",
       "      <td>this graceful sorceror is motivated by religio...</td>\n",
       "      <td>0.095547</td>\n",
       "      <td>0.401775</td>\n",
       "      <td>[0, 1, 0]</td>\n",
       "      <td>1</td>\n",
       "    </tr>\n",
       "    <tr>\n",
       "      <th>44852</th>\n",
       "      <td>mark kermode ranting about the sex in the city...</td>\n",
       "      <td>0.122659</td>\n",
       "      <td>0.777559</td>\n",
       "      <td>[0, 0, 0]</td>\n",
       "      <td>0</td>\n",
       "    </tr>\n",
       "    <tr>\n",
       "      <th>44853</th>\n",
       "      <td>Amelia Watson's last stand to defend Universe ...</td>\n",
       "      <td>0.343889</td>\n",
       "      <td>0.744823</td>\n",
       "      <td>[0, 0, 0]</td>\n",
       "      <td>0</td>\n",
       "    </tr>\n",
       "    <tr>\n",
       "      <th>44854</th>\n",
       "      <td>black slimy monster with rusty pipes and scaff...</td>\n",
       "      <td>0.082851</td>\n",
       "      <td>0.892194</td>\n",
       "      <td>[0, 0, 0]</td>\n",
       "      <td>0</td>\n",
       "    </tr>\n",
       "    <tr>\n",
       "      <th>44855</th>\n",
       "      <td>Trollface carved into Roman marble</td>\n",
       "      <td>0.036735</td>\n",
       "      <td>0.509325</td>\n",
       "      <td>[0, 0, 0]</td>\n",
       "      <td>0</td>\n",
       "    </tr>\n",
       "  </tbody>\n",
       "</table>\n",
       "</div>"
      ],
      "text/plain": [
       "                                                  prompt  image_nsfw  \\\n",
       "44851  this graceful sorceror is motivated by religio...    0.095547   \n",
       "44852  mark kermode ranting about the sex in the city...    0.122659   \n",
       "44853  Amelia Watson's last stand to defend Universe ...    0.343889   \n",
       "44854  black slimy monster with rusty pipes and scaff...    0.082851   \n",
       "44855                 Trollface carved into Roman marble    0.036735   \n",
       "\n",
       "       prompt_nsfw     vector  Classify  \n",
       "44851     0.401775  [0, 1, 0]         1  \n",
       "44852     0.777559  [0, 0, 0]         0  \n",
       "44853     0.744823  [0, 0, 0]         0  \n",
       "44854     0.892194  [0, 0, 0]         0  \n",
       "44855     0.509325  [0, 0, 0]         0  "
      ]
     },
     "execution_count": 50,
     "metadata": {},
     "output_type": "execute_result"
    }
   ],
   "source": [
    "df2.tail()"
   ]
  },
  {
   "cell_type": "code",
   "execution_count": 51,
   "id": "a37c34a3-53ca-449d-ab8e-04a84a182701",
   "metadata": {},
   "outputs": [],
   "source": [
    "#df['vector'] = df['prompt'].apply(lambda x: vectorize_prompt(x, bunchOfLists))"
   ]
  },
  {
   "cell_type": "code",
   "execution_count": 52,
   "id": "e480ff44-b5d4-4881-9bb5-67d5f0dec2bf",
   "metadata": {},
   "outputs": [
    {
     "data": {
      "text/plain": [
       "[0, 0, 0]    35659\n",
       "[0, 1, 0]     4257\n",
       "[0, 1, 1]     1662\n",
       "[1, 0, 0]     1368\n",
       "[0, 0, 1]     1333\n",
       "[1, 0, 1]      257\n",
       "[1, 1, 0]      230\n",
       "[1, 1, 1]       90\n",
       "Name: vector, dtype: int64"
      ]
     },
     "execution_count": 52,
     "metadata": {},
     "output_type": "execute_result"
    }
   ],
   "source": [
    "df2['vector'].value_counts()"
   ]
  },
  {
   "cell_type": "code",
   "execution_count": 53,
   "id": "aaff1548-588c-448d-8726-32cc04492fa2",
   "metadata": {},
   "outputs": [],
   "source": [
    "#df2.head()"
   ]
  },
  {
   "cell_type": "code",
   "execution_count": 54,
   "id": "e26de71f-a252-4fbe-9a2f-0e645bfcadcf",
   "metadata": {},
   "outputs": [],
   "source": [
    "#df2['vector'] = df2['vector'].apply(tuple)\n",
    "#df['vector'] = df['vector'].apply(tuple)\n"
   ]
  },
  {
   "cell_type": "code",
   "execution_count": 55,
   "id": "bfc51d21",
   "metadata": {},
   "outputs": [],
   "source": [
    "#df2['vector'].unique()"
   ]
  },
  {
   "cell_type": "code",
   "execution_count": 56,
   "id": "04df91e7-2d1b-4ade-a421-d42e7a362da0",
   "metadata": {},
   "outputs": [],
   "source": [
    "#df2.head()"
   ]
  },
  {
   "cell_type": "code",
   "execution_count": 57,
   "id": "5a51fa1d",
   "metadata": {},
   "outputs": [],
   "source": [
    "#This is just another way of vectorizing "
   ]
  },
  {
   "cell_type": "code",
   "execution_count": 58,
   "id": "70f7a186-f27b-4b03-8da8-0a9e2293ef95",
   "metadata": {},
   "outputs": [],
   "source": [
    "#def vectorize_prompt(prompt, illegal_w):\n",
    "    ## Check if any word in illegal_w exists in the prompt\n",
    "    #vector = [1 if any(word in prompt for word in illegal_w) else 0]\n",
    "    #return vector\n"
   ]
  },
  {
   "cell_type": "code",
   "execution_count": 59,
   "id": "b2cc6967-f867-4422-8be2-5f3df86d0e21",
   "metadata": {},
   "outputs": [],
   "source": [
    "#df2['vector2'] = df2['prompt'].apply(lambda x: vectorize_prompt(x, illegal_w))\n"
   ]
  },
  {
   "cell_type": "code",
   "execution_count": 60,
   "id": "96675e1c-fad0-44af-9a43-f25506844cfe",
   "metadata": {},
   "outputs": [],
   "source": [
    "#df2.info()"
   ]
  },
  {
   "cell_type": "code",
   "execution_count": 61,
   "id": "9f659b72-f858-4b69-bce2-09f782542043",
   "metadata": {},
   "outputs": [],
   "source": [
    "#df2.head()"
   ]
  },
  {
   "cell_type": "markdown",
   "id": "9bc542e5-be99-4dfd-932d-90b419be74ce",
   "metadata": {},
   "source": [
    "#### Naive Bayes"
   ]
  },
  {
   "cell_type": "code",
   "execution_count": 62,
   "id": "9a56cafc-c91b-49c5-bcbe-6835d2c98f34",
   "metadata": {},
   "outputs": [],
   "source": [
    "from sklearn.naive_bayes import MultinomialNB\n"
   ]
  },
  {
   "cell_type": "code",
   "execution_count": 63,
   "id": "8ee4b9ba-1ab4-433b-8f37-0d5605ee30d1",
   "metadata": {},
   "outputs": [],
   "source": [
    "#df2.info()"
   ]
  },
  {
   "cell_type": "code",
   "execution_count": 64,
   "id": "7d00ea0c",
   "metadata": {},
   "outputs": [],
   "source": [
    "#df['Classify'] = (df['prompt_nsfw'] >= 0.5).astype(int)\n",
    "#df2['Classify'] = (df['vector'] >= 0.5).astype(int)\n",
    "df2['Classify'] = df2['vector'].apply(lambda x: 1 if any(x) else 0)\n",
    "\n"
   ]
  },
  {
   "cell_type": "code",
   "execution_count": 65,
   "id": "1c4bb9fd",
   "metadata": {},
   "outputs": [
    {
     "name": "stdout",
     "output_type": "stream",
     "text": [
      "<class 'pandas.core.frame.DataFrame'>\n",
      "RangeIndex: 44856 entries, 0 to 44855\n",
      "Data columns (total 5 columns):\n",
      " #   Column       Non-Null Count  Dtype  \n",
      "---  ------       --------------  -----  \n",
      " 0   prompt       44856 non-null  object \n",
      " 1   image_nsfw   44856 non-null  float64\n",
      " 2   prompt_nsfw  44856 non-null  float64\n",
      " 3   vector       44856 non-null  object \n",
      " 4   Classify     44856 non-null  int64  \n",
      "dtypes: float64(2), int64(1), object(2)\n",
      "memory usage: 1.7+ MB\n"
     ]
    }
   ],
   "source": [
    "df2.info()"
   ]
  },
  {
   "cell_type": "code",
   "execution_count": 67,
   "id": "c89fd5de-e389-4f8a-9364-5642001e0d72",
   "metadata": {},
   "outputs": [
    {
     "data": {
      "text/plain": [
       "0    35659\n",
       "1     9197\n",
       "Name: Classify, dtype: int64"
      ]
     },
     "execution_count": 67,
     "metadata": {},
     "output_type": "execute_result"
    }
   ],
   "source": [
    "df2['Classify'].value_counts()"
   ]
  },
  {
   "cell_type": "code",
   "execution_count": 68,
   "id": "66e47d08-c657-4d97-a344-cbebc3411d2b",
   "metadata": {
    "scrolled": true
   },
   "outputs": [],
   "source": [
    "#df[df['Classify'] == 1]"
   ]
  },
  {
   "cell_type": "code",
   "execution_count": 69,
   "id": "142e80b5-23f6-484c-9088-45635964fd12",
   "metadata": {},
   "outputs": [],
   "source": [
    "#teriyaki_combo = violent + drug_bad + really_bad\n",
    "\n",
    "#def count_matching_words(prompt, word_list):\n",
    "#    return sum(1 for word in word_list if word in prompt)"
   ]
  },
  {
   "cell_type": "code",
   "execution_count": 70,
   "id": "6fff821d-fde6-4bd1-8d81-bc050675a2c1",
   "metadata": {},
   "outputs": [],
   "source": [
    "#df['word_count'] = df['prompt'].apply(lambda x: count_matching_words(x, teriyaki_combo))\n",
    "#df2['word_count'] = df2['prompt'].apply(lambda x: count_matching_words(x, teriyaki_combo))"
   ]
  },
  {
   "cell_type": "code",
   "execution_count": 71,
   "id": "957d3915-8a0d-479d-a4af-88923207dab3",
   "metadata": {},
   "outputs": [],
   "source": [
    "#df2['word_count'].unique()"
   ]
  },
  {
   "cell_type": "code",
   "execution_count": 72,
   "id": "9a6b83e2-f54b-4b88-b6e7-48f85c85fab5",
   "metadata": {},
   "outputs": [],
   "source": [
    "#df2[df2['word_count'] == 5]"
   ]
  },
  {
   "cell_type": "code",
   "execution_count": 73,
   "id": "353506ba-2955-42fa-b105-a2cec253728b",
   "metadata": {},
   "outputs": [],
   "source": [
    "#df['prompt'][671030]"
   ]
  },
  {
   "cell_type": "code",
   "execution_count": 74,
   "id": "ccd5ef84",
   "metadata": {},
   "outputs": [],
   "source": [
    "#df = df[df['Classify'] == 1]"
   ]
  },
  {
   "cell_type": "code",
   "execution_count": 75,
   "id": "3c507fb6",
   "metadata": {},
   "outputs": [],
   "source": [
    "#df['Classify'].value_counts()"
   ]
  },
  {
   "cell_type": "code",
   "execution_count": 76,
   "id": "d15c1343-8cd3-4a3f-bbda-805babe4c216",
   "metadata": {},
   "outputs": [],
   "source": [
    "import numpy"
   ]
  },
  {
   "cell_type": "code",
   "execution_count": 98,
   "id": "0bbfa6cb-7beb-41a7-b222-58aa68cbddce",
   "metadata": {},
   "outputs": [],
   "source": [
    "train_size = int(0.8 * len(df2))  # 80% training, 20% testing\n",
    "\n",
    "# This line just shuffles the data.\n",
    "df2 = df2.sample(frac=1, random_state=42).reset_index(drop=True)\n",
    "\n",
    "train_data = df2[:train_size]\n",
    "test_data = df2[train_size:]\n",
    "\n",
    "X_train, y_train = list(train_data['vector']), train_data['Classify']\n",
    "X_test, y_test = list(test_data['vector']), test_data['Classify']\n"
   ]
  },
  {
   "cell_type": "code",
   "execution_count": 99,
   "id": "30a9aadc",
   "metadata": {},
   "outputs": [],
   "source": [
    "#X = df['vector']"
   ]
  },
  {
   "cell_type": "code",
   "execution_count": 100,
   "id": "445c73eb-a0bb-47ff-a87a-9aa87e521a2c",
   "metadata": {},
   "outputs": [],
   "source": [
    "#y = df['Classify'] = (df['prompt_nsfw'] >= 0.5).astype(int)\n",
    "from sklearn.naive_bayes import BernoulliNB"
   ]
  },
  {
   "cell_type": "code",
   "execution_count": 101,
   "id": "11cc48f7-c4c3-4fe2-9143-77f8c3bce55a",
   "metadata": {},
   "outputs": [],
   "source": [
    "clf = BernoulliNB()\n"
   ]
  },
  {
   "cell_type": "code",
   "execution_count": 102,
   "id": "ad426bb5-7507-438e-8384-0679ff1a95bb",
   "metadata": {},
   "outputs": [
    {
     "data": {
      "text/plain": [
       "BernoulliNB()"
      ]
     },
     "execution_count": 102,
     "metadata": {},
     "output_type": "execute_result"
    }
   ],
   "source": [
    "clf.fit(X_train,y_train)"
   ]
  },
  {
   "cell_type": "code",
   "execution_count": 103,
   "id": "b979cd73-820e-4bc8-a1d2-30e165802cfb",
   "metadata": {},
   "outputs": [
    {
     "data": {
      "text/plain": [
       "1.0"
      ]
     },
     "execution_count": 103,
     "metadata": {},
     "output_type": "execute_result"
    }
   ],
   "source": [
    "clf.score(X_test, y_test)"
   ]
  },
  {
   "cell_type": "code",
   "execution_count": 104,
   "id": "b023a9b3",
   "metadata": {},
   "outputs": [],
   "source": [
    "y_pred = clf.predict(X_test)\n"
   ]
  },
  {
   "cell_type": "code",
   "execution_count": 113,
   "id": "8a9202fb-306c-4579-848d-77a1f7bceb56",
   "metadata": {},
   "outputs": [
    {
     "name": "stdout",
     "output_type": "stream",
     "text": [
      "Harmful\n"
     ]
    }
   ],
   "source": [
    "labels = [\"Harmless\", \"Harmful\"]\n",
    "new_prompt_vector = vectorize_prompt(\"blowing up a group of people\", bunchOfLists)\n",
    "prediction = clf.predict([new_prompt_vector])  \n",
    "print(labels[prediction[0]])  "
   ]
  },
  {
   "cell_type": "code",
   "execution_count": 85,
   "id": "689408a5",
   "metadata": {},
   "outputs": [],
   "source": [
    "#df['word_count'].value_counts()"
   ]
  },
  {
   "cell_type": "code",
   "execution_count": 86,
   "id": "046ac43b",
   "metadata": {},
   "outputs": [],
   "source": [
    "\n",
    "X = np.stack(df2['vector'].values)  # Convert list column into a proper 2D array\n"
   ]
  },
  {
   "cell_type": "code",
   "execution_count": 87,
   "id": "3d4ead79",
   "metadata": {},
   "outputs": [],
   "source": [
    "#X = df[['vector']]"
   ]
  },
  {
   "cell_type": "code",
   "execution_count": 88,
   "id": "ff5db352",
   "metadata": {},
   "outputs": [],
   "source": [
    "y = (df2['prompt_nsfw'] >= 0.2).astype(int)"
   ]
  },
  {
   "cell_type": "code",
   "execution_count": 169,
   "id": "12f73f5e",
   "metadata": {
    "scrolled": false
   },
   "outputs": [],
   "source": [
    "y_pred = clf.predict(X)"
   ]
  },
  {
   "cell_type": "code",
   "execution_count": 170,
   "id": "6a676c3f",
   "metadata": {},
   "outputs": [
    {
     "name": "stdout",
     "output_type": "stream",
     "text": [
      "(35884, 3)\n"
     ]
    }
   ],
   "source": [
    "print(np.array(X_train).shape)  "
   ]
  },
  {
   "cell_type": "code",
   "execution_count": 171,
   "id": "fdd967e8",
   "metadata": {},
   "outputs": [
    {
     "data": {
      "text/plain": [
       "array([1, 1, 1, ..., 1, 1, 1])"
      ]
     },
     "execution_count": 171,
     "metadata": {},
     "output_type": "execute_result"
    }
   ],
   "source": [
    "y_pred"
   ]
  },
  {
   "cell_type": "code",
   "execution_count": 172,
   "id": "7cd6d44f-cea1-4eeb-949e-a65b8e6e76fd",
   "metadata": {},
   "outputs": [],
   "source": [
    "#y_pred = clf.predict(df['vector'])"
   ]
  },
  {
   "cell_type": "code",
   "execution_count": 173,
   "id": "f8b8ca0f-572b-402d-a1dd-215592bc060b",
   "metadata": {},
   "outputs": [],
   "source": [
    "from sklearn.model_selection import train_test_split\n",
    "\n",
    "from sklearn.feature_extraction.text import CountVectorizer\n"
   ]
  },
  {
   "cell_type": "code",
   "execution_count": 95,
   "id": "1aca1962-d138-47cb-8bc2-f1f1f11ac7cf",
   "metadata": {
    "scrolled": true
   },
   "outputs": [
    {
     "name": "stdout",
     "output_type": "stream",
     "text": [
      "Accuracy: 1.0\n",
      "Precision: 1.0\n",
      "Recall: 1.0\n",
      "F1 Score: 1.0\n"
     ]
    }
   ],
   "source": [
    "from sklearn.metrics import accuracy_score, precision_score, recall_score, f1_score\n",
    "\n",
    "y_pred = clf.predict(X_test)\n",
    "\n",
    "accuracy = accuracy_score(y_test, y_pred)\n",
    "precision = precision_score(y_test, y_pred)\n",
    "recall = recall_score(y_test, y_pred)\n",
    "f1 = f1_score(y_test, y_pred)\n",
    "\n",
    "print(f\"Accuracy: {accuracy}\")\n",
    "print(f\"Precision: {precision}\")\n",
    "print(f\"Recall: {recall}\")\n",
    "print(f\"F1 Score: {f1}\")\n"
   ]
  },
  {
   "cell_type": "code",
   "execution_count": 100,
   "id": "3cd99f6e",
   "metadata": {},
   "outputs": [
    {
     "name": "stdout",
     "output_type": "stream",
     "text": [
      "[1]\n"
     ]
    }
   ],
   "source": [
    "new_prompts = [\"meth\"]\n",
    "new_vectors = np.stack([vectorize_prompt(p, bunchOfLists) for p in new_prompts])\n",
    "\n",
    "predictions = clf.predict(new_vectors)\n",
    "print(predictions)  # Should return 1 (harmful) or 0 (harmless)\n"
   ]
  },
  {
   "cell_type": "code",
   "execution_count": 98,
   "id": "b95feb6f",
   "metadata": {},
   "outputs": [],
   "source": [
    "#print(set(y_train))  # Should print {0, 1}\n"
   ]
  },
  {
   "cell_type": "code",
   "execution_count": 49,
   "id": "a7e04ef8",
   "metadata": {},
   "outputs": [],
   "source": [
    "#print(y_train.value_counts())  # Count how many 0s and 1s\n"
   ]
  },
  {
   "cell_type": "code",
   "execution_count": 49,
   "id": "3fc31eac-59cf-4207-a214-05a21b59a8a0",
   "metadata": {},
   "outputs": [],
   "source": [
    "#X_train, X_test, y_train, y_test = train_test_split(X, y, test_size=0.3, random_state=42)"
   ]
  },
  {
   "cell_type": "code",
   "execution_count": null,
   "id": "b0f27820-fa2d-4e45-bcb9-e983055d2617",
   "metadata": {},
   "outputs": [],
   "source": []
  },
  {
   "cell_type": "code",
   "execution_count": 48,
   "id": "cc9747e0-9d05-4444-9203-8b7816b19391",
   "metadata": {},
   "outputs": [],
   "source": [
    "#vectorizer = CountVectorizer()\n",
    "#X_train_vect = vectorizer.fit_transform(X_train)  # Fit & transform training data\n",
    "#X_test_vect = vectorizer.transform(X_test)  # Transform test data"
   ]
  },
  {
   "cell_type": "code",
   "execution_count": null,
   "id": "eb6af79a-6d14-423c-bbbb-3d1948b3a689",
   "metadata": {},
   "outputs": [],
   "source": []
  }
 ],
 "metadata": {
  "kernelspec": {
   "display_name": "Python 3 (ipykernel)",
   "language": "python",
   "name": "python3"
  },
  "language_info": {
   "codemirror_mode": {
    "name": "ipython",
    "version": 3
   },
   "file_extension": ".py",
   "mimetype": "text/x-python",
   "name": "python",
   "nbconvert_exporter": "python",
   "pygments_lexer": "ipython3",
   "version": "3.9.13"
  }
 },
 "nbformat": 4,
 "nbformat_minor": 5
}
