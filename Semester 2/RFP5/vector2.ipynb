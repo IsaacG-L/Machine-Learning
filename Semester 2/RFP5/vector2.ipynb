{
 "cells": [
  {
   "cell_type": "markdown",
   "id": "088f5079-3040-4647-8df2-8378611b6ad9",
   "metadata": {},
   "source": [
    "This is going to be the same code as the testing ipynb, but the vectorization is much mnore different. \n",
    "This is for testing purposes only. Final code will go to RFP5!"
   ]
  },
  {
   "cell_type": "code",
   "execution_count": 1,
   "id": "e0d6d6ca-e2c3-44cf-b623-1a3e4cd3b117",
   "metadata": {},
   "outputs": [],
   "source": [
    "import pandas as pd\n",
    "import numpy as np\n",
    "\n",
    "#testing imports\n",
    "\n",
    "from sklearn.metrics import accuracy_score  \n",
    "from sklearn.metrics import precision_score\n",
    "\n",
    "from sklearn.metrics import recall_score\n",
    "from sklearn.metrics import f1_score   #Combo of precision and recall"
   ]
  },
  {
   "cell_type": "code",
   "execution_count": 18,
   "id": "5e5328a1",
   "metadata": {},
   "outputs": [],
   "source": [
    "%run Vocab.ipynb"
   ]
  },
  {
   "cell_type": "code",
   "execution_count": 2,
   "id": "82185925-4dc0-4a62-bd68-04bdbe093b4b",
   "metadata": {},
   "outputs": [],
   "source": [
    "df = pd.read_csv(\"diffusion_db_unaltered.csv\")"
   ]
  },
  {
   "cell_type": "code",
   "execution_count": 3,
   "id": "d3e52073-6623-41ad-88de-e7922cdbfde7",
   "metadata": {},
   "outputs": [],
   "source": [
    "df2 = df[df['prompt_nsfw'] >= 0.70].copy()"
   ]
  },
  {
   "cell_type": "code",
   "execution_count": 4,
   "id": "8caedcdd-6bad-4742-9e60-cc85882ca950",
   "metadata": {},
   "outputs": [],
   "source": [
    "illegal_w = [\"weed\", \"kill\", \"drugs\", \"trafficking\", \"smuggling\", \"hacking\", \"bribe\", \"pedophile\", \"child\", \"bomb\", \"terrorist\",\n",
    "            \"gun\", \"fraud\", \"scam\", \"scamming\", \"shoot\", \"shooting\", \"stab\", \"stabbing\", \"murder\"]"
   ]
  },
  {
   "cell_type": "code",
   "execution_count": 5,
   "id": "46c1292c-43e1-42f4-bb18-dd9f384b085f",
   "metadata": {},
   "outputs": [],
   "source": [
    "def vectorize_prompt(prompt, illegal_w):\n",
    "    vector = []\n",
    "    for word in illegal_w:\n",
    "        if word in prompt:\n",
    "            vector.append(1)\n",
    "        else:\n",
    "            vector.append(0)\n",
    "    return vector\n",
    "\n",
    "df2['vector'] = df2['prompt'].apply(lambda x: vectorize_prompt(x, illegal_w))"
   ]
  },
  {
   "cell_type": "code",
   "execution_count": 6,
   "id": "aaff1548-588c-448d-8726-32cc04492fa2",
   "metadata": {},
   "outputs": [
    {
     "data": {
      "text/html": [
       "<div>\n",
       "<style scoped>\n",
       "    .dataframe tbody tr th:only-of-type {\n",
       "        vertical-align: middle;\n",
       "    }\n",
       "\n",
       "    .dataframe tbody tr th {\n",
       "        vertical-align: top;\n",
       "    }\n",
       "\n",
       "    .dataframe thead th {\n",
       "        text-align: right;\n",
       "    }\n",
       "</style>\n",
       "<table border=\"1\" class=\"dataframe\">\n",
       "  <thead>\n",
       "    <tr style=\"text-align: right;\">\n",
       "      <th></th>\n",
       "      <th>prompt</th>\n",
       "      <th>image_nsfw</th>\n",
       "      <th>prompt_nsfw</th>\n",
       "      <th>vector</th>\n",
       "    </tr>\n",
       "  </thead>\n",
       "  <tbody>\n",
       "    <tr>\n",
       "      <th>766</th>\n",
       "      <td>kpop idol woman dressed in pink, eating a suck...</td>\n",
       "      <td>0.186505</td>\n",
       "      <td>0.873680</td>\n",
       "      <td>[0, 0, 0, 0, 0, 0, 0, 0, 0, 0, 0, 0, 0, 0, 0, ...</td>\n",
       "    </tr>\n",
       "    <tr>\n",
       "      <th>2402</th>\n",
       "      <td>horrid, abominable, disgusting, vile, revoltin...</td>\n",
       "      <td>0.148235</td>\n",
       "      <td>0.962162</td>\n",
       "      <td>[0, 0, 0, 0, 0, 0, 0, 0, 0, 0, 0, 0, 0, 0, 0, ...</td>\n",
       "    </tr>\n",
       "    <tr>\n",
       "      <th>2403</th>\n",
       "      <td>horrid, abominable, disgusting, vile, revoltin...</td>\n",
       "      <td>0.068639</td>\n",
       "      <td>0.990164</td>\n",
       "      <td>[0, 0, 0, 0, 0, 0, 0, 0, 0, 0, 0, 0, 0, 0, 0, ...</td>\n",
       "    </tr>\n",
       "    <tr>\n",
       "      <th>2970</th>\n",
       "      <td>die cut sticker of a pair of lips</td>\n",
       "      <td>0.154846</td>\n",
       "      <td>0.751755</td>\n",
       "      <td>[0, 0, 0, 0, 0, 0, 0, 0, 0, 0, 0, 0, 0, 0, 0, ...</td>\n",
       "    </tr>\n",
       "    <tr>\n",
       "      <th>3224</th>\n",
       "      <td>pork belly ramen foodporn</td>\n",
       "      <td>0.026718</td>\n",
       "      <td>0.733824</td>\n",
       "      <td>[0, 0, 0, 0, 0, 0, 0, 0, 0, 0, 0, 0, 0, 0, 0, ...</td>\n",
       "    </tr>\n",
       "  </tbody>\n",
       "</table>\n",
       "</div>"
      ],
      "text/plain": [
       "                                                 prompt  image_nsfw  \\\n",
       "766   kpop idol woman dressed in pink, eating a suck...    0.186505   \n",
       "2402  horrid, abominable, disgusting, vile, revoltin...    0.148235   \n",
       "2403  horrid, abominable, disgusting, vile, revoltin...    0.068639   \n",
       "2970                 die cut sticker of a pair of lips     0.154846   \n",
       "3224                         pork belly ramen foodporn     0.026718   \n",
       "\n",
       "      prompt_nsfw                                             vector  \n",
       "766      0.873680  [0, 0, 0, 0, 0, 0, 0, 0, 0, 0, 0, 0, 0, 0, 0, ...  \n",
       "2402     0.962162  [0, 0, 0, 0, 0, 0, 0, 0, 0, 0, 0, 0, 0, 0, 0, ...  \n",
       "2403     0.990164  [0, 0, 0, 0, 0, 0, 0, 0, 0, 0, 0, 0, 0, 0, 0, ...  \n",
       "2970     0.751755  [0, 0, 0, 0, 0, 0, 0, 0, 0, 0, 0, 0, 0, 0, 0, ...  \n",
       "3224     0.733824  [0, 0, 0, 0, 0, 0, 0, 0, 0, 0, 0, 0, 0, 0, 0, ...  "
      ]
     },
     "execution_count": 6,
     "metadata": {},
     "output_type": "execute_result"
    }
   ],
   "source": [
    "df2.head()"
   ]
  },
  {
   "cell_type": "code",
   "execution_count": 7,
   "id": "e26de71f-a252-4fbe-9a2f-0e645bfcadcf",
   "metadata": {},
   "outputs": [],
   "source": [
    "df2['vector'] = df2['vector'].apply(tuple)\n"
   ]
  },
  {
   "cell_type": "code",
   "execution_count": 8,
   "id": "04df91e7-2d1b-4ade-a421-d42e7a362da0",
   "metadata": {},
   "outputs": [
    {
     "data": {
      "text/html": [
       "<div>\n",
       "<style scoped>\n",
       "    .dataframe tbody tr th:only-of-type {\n",
       "        vertical-align: middle;\n",
       "    }\n",
       "\n",
       "    .dataframe tbody tr th {\n",
       "        vertical-align: top;\n",
       "    }\n",
       "\n",
       "    .dataframe thead th {\n",
       "        text-align: right;\n",
       "    }\n",
       "</style>\n",
       "<table border=\"1\" class=\"dataframe\">\n",
       "  <thead>\n",
       "    <tr style=\"text-align: right;\">\n",
       "      <th></th>\n",
       "      <th>prompt</th>\n",
       "      <th>image_nsfw</th>\n",
       "      <th>prompt_nsfw</th>\n",
       "      <th>vector</th>\n",
       "    </tr>\n",
       "  </thead>\n",
       "  <tbody>\n",
       "    <tr>\n",
       "      <th>766</th>\n",
       "      <td>kpop idol woman dressed in pink, eating a suck...</td>\n",
       "      <td>0.186505</td>\n",
       "      <td>0.873680</td>\n",
       "      <td>(0, 0, 0, 0, 0, 0, 0, 0, 0, 0, 0, 0, 0, 0, 0, ...</td>\n",
       "    </tr>\n",
       "    <tr>\n",
       "      <th>2402</th>\n",
       "      <td>horrid, abominable, disgusting, vile, revoltin...</td>\n",
       "      <td>0.148235</td>\n",
       "      <td>0.962162</td>\n",
       "      <td>(0, 0, 0, 0, 0, 0, 0, 0, 0, 0, 0, 0, 0, 0, 0, ...</td>\n",
       "    </tr>\n",
       "    <tr>\n",
       "      <th>2403</th>\n",
       "      <td>horrid, abominable, disgusting, vile, revoltin...</td>\n",
       "      <td>0.068639</td>\n",
       "      <td>0.990164</td>\n",
       "      <td>(0, 0, 0, 0, 0, 0, 0, 0, 0, 0, 0, 0, 0, 0, 0, ...</td>\n",
       "    </tr>\n",
       "    <tr>\n",
       "      <th>2970</th>\n",
       "      <td>die cut sticker of a pair of lips</td>\n",
       "      <td>0.154846</td>\n",
       "      <td>0.751755</td>\n",
       "      <td>(0, 0, 0, 0, 0, 0, 0, 0, 0, 0, 0, 0, 0, 0, 0, ...</td>\n",
       "    </tr>\n",
       "    <tr>\n",
       "      <th>3224</th>\n",
       "      <td>pork belly ramen foodporn</td>\n",
       "      <td>0.026718</td>\n",
       "      <td>0.733824</td>\n",
       "      <td>(0, 0, 0, 0, 0, 0, 0, 0, 0, 0, 0, 0, 0, 0, 0, ...</td>\n",
       "    </tr>\n",
       "  </tbody>\n",
       "</table>\n",
       "</div>"
      ],
      "text/plain": [
       "                                                 prompt  image_nsfw  \\\n",
       "766   kpop idol woman dressed in pink, eating a suck...    0.186505   \n",
       "2402  horrid, abominable, disgusting, vile, revoltin...    0.148235   \n",
       "2403  horrid, abominable, disgusting, vile, revoltin...    0.068639   \n",
       "2970                 die cut sticker of a pair of lips     0.154846   \n",
       "3224                         pork belly ramen foodporn     0.026718   \n",
       "\n",
       "      prompt_nsfw                                             vector  \n",
       "766      0.873680  (0, 0, 0, 0, 0, 0, 0, 0, 0, 0, 0, 0, 0, 0, 0, ...  \n",
       "2402     0.962162  (0, 0, 0, 0, 0, 0, 0, 0, 0, 0, 0, 0, 0, 0, 0, ...  \n",
       "2403     0.990164  (0, 0, 0, 0, 0, 0, 0, 0, 0, 0, 0, 0, 0, 0, 0, ...  \n",
       "2970     0.751755  (0, 0, 0, 0, 0, 0, 0, 0, 0, 0, 0, 0, 0, 0, 0, ...  \n",
       "3224     0.733824  (0, 0, 0, 0, 0, 0, 0, 0, 0, 0, 0, 0, 0, 0, 0, ...  "
      ]
     },
     "execution_count": 8,
     "metadata": {},
     "output_type": "execute_result"
    }
   ],
   "source": [
    "df2.head()"
   ]
  },
  {
   "cell_type": "code",
   "execution_count": 9,
   "id": "70f7a186-f27b-4b03-8da8-0a9e2293ef95",
   "metadata": {},
   "outputs": [],
   "source": [
    "def vectorize_prompt(prompt, illegal_w):\n",
    "    # Check if any word in illegal_w exists in the prompt\n",
    "    vector = [1 if any(word in prompt for word in illegal_w) else 0]\n",
    "    return vector\n"
   ]
  },
  {
   "cell_type": "code",
   "execution_count": 10,
   "id": "b2cc6967-f867-4422-8be2-5f3df86d0e21",
   "metadata": {},
   "outputs": [],
   "source": [
    "df2['vector2'] = df2['prompt'].apply(lambda x: vectorize_prompt(x, illegal_w))\n"
   ]
  },
  {
   "cell_type": "code",
   "execution_count": 11,
   "id": "96675e1c-fad0-44af-9a43-f25506844cfe",
   "metadata": {},
   "outputs": [
    {
     "name": "stdout",
     "output_type": "stream",
     "text": [
      "<class 'pandas.core.frame.DataFrame'>\n",
      "Int64Index: 11726 entries, 766 to 1999709\n",
      "Data columns (total 5 columns):\n",
      " #   Column       Non-Null Count  Dtype  \n",
      "---  ------       --------------  -----  \n",
      " 0   prompt       11726 non-null  object \n",
      " 1   image_nsfw   11726 non-null  float64\n",
      " 2   prompt_nsfw  11726 non-null  float64\n",
      " 3   vector       11726 non-null  object \n",
      " 4   vector2      11726 non-null  object \n",
      "dtypes: float64(2), object(3)\n",
      "memory usage: 549.7+ KB\n"
     ]
    }
   ],
   "source": [
    "df2.info()"
   ]
  },
  {
   "cell_type": "code",
   "execution_count": 12,
   "id": "9f659b72-f858-4b69-bce2-09f782542043",
   "metadata": {},
   "outputs": [
    {
     "data": {
      "text/html": [
       "<div>\n",
       "<style scoped>\n",
       "    .dataframe tbody tr th:only-of-type {\n",
       "        vertical-align: middle;\n",
       "    }\n",
       "\n",
       "    .dataframe tbody tr th {\n",
       "        vertical-align: top;\n",
       "    }\n",
       "\n",
       "    .dataframe thead th {\n",
       "        text-align: right;\n",
       "    }\n",
       "</style>\n",
       "<table border=\"1\" class=\"dataframe\">\n",
       "  <thead>\n",
       "    <tr style=\"text-align: right;\">\n",
       "      <th></th>\n",
       "      <th>prompt</th>\n",
       "      <th>image_nsfw</th>\n",
       "      <th>prompt_nsfw</th>\n",
       "      <th>vector</th>\n",
       "      <th>vector2</th>\n",
       "    </tr>\n",
       "  </thead>\n",
       "  <tbody>\n",
       "    <tr>\n",
       "      <th>766</th>\n",
       "      <td>kpop idol woman dressed in pink, eating a suck...</td>\n",
       "      <td>0.186505</td>\n",
       "      <td>0.873680</td>\n",
       "      <td>(0, 0, 0, 0, 0, 0, 0, 0, 0, 0, 0, 0, 0, 0, 0, ...</td>\n",
       "      <td>[0]</td>\n",
       "    </tr>\n",
       "    <tr>\n",
       "      <th>2402</th>\n",
       "      <td>horrid, abominable, disgusting, vile, revoltin...</td>\n",
       "      <td>0.148235</td>\n",
       "      <td>0.962162</td>\n",
       "      <td>(0, 0, 0, 0, 0, 0, 0, 0, 0, 0, 0, 0, 0, 0, 0, ...</td>\n",
       "      <td>[0]</td>\n",
       "    </tr>\n",
       "    <tr>\n",
       "      <th>2403</th>\n",
       "      <td>horrid, abominable, disgusting, vile, revoltin...</td>\n",
       "      <td>0.068639</td>\n",
       "      <td>0.990164</td>\n",
       "      <td>(0, 0, 0, 0, 0, 0, 0, 0, 0, 0, 0, 0, 0, 0, 0, ...</td>\n",
       "      <td>[0]</td>\n",
       "    </tr>\n",
       "    <tr>\n",
       "      <th>2970</th>\n",
       "      <td>die cut sticker of a pair of lips</td>\n",
       "      <td>0.154846</td>\n",
       "      <td>0.751755</td>\n",
       "      <td>(0, 0, 0, 0, 0, 0, 0, 0, 0, 0, 0, 0, 0, 0, 0, ...</td>\n",
       "      <td>[0]</td>\n",
       "    </tr>\n",
       "    <tr>\n",
       "      <th>3224</th>\n",
       "      <td>pork belly ramen foodporn</td>\n",
       "      <td>0.026718</td>\n",
       "      <td>0.733824</td>\n",
       "      <td>(0, 0, 0, 0, 0, 0, 0, 0, 0, 0, 0, 0, 0, 0, 0, ...</td>\n",
       "      <td>[0]</td>\n",
       "    </tr>\n",
       "  </tbody>\n",
       "</table>\n",
       "</div>"
      ],
      "text/plain": [
       "                                                 prompt  image_nsfw  \\\n",
       "766   kpop idol woman dressed in pink, eating a suck...    0.186505   \n",
       "2402  horrid, abominable, disgusting, vile, revoltin...    0.148235   \n",
       "2403  horrid, abominable, disgusting, vile, revoltin...    0.068639   \n",
       "2970                 die cut sticker of a pair of lips     0.154846   \n",
       "3224                         pork belly ramen foodporn     0.026718   \n",
       "\n",
       "      prompt_nsfw                                             vector vector2  \n",
       "766      0.873680  (0, 0, 0, 0, 0, 0, 0, 0, 0, 0, 0, 0, 0, 0, 0, ...     [0]  \n",
       "2402     0.962162  (0, 0, 0, 0, 0, 0, 0, 0, 0, 0, 0, 0, 0, 0, 0, ...     [0]  \n",
       "2403     0.990164  (0, 0, 0, 0, 0, 0, 0, 0, 0, 0, 0, 0, 0, 0, 0, ...     [0]  \n",
       "2970     0.751755  (0, 0, 0, 0, 0, 0, 0, 0, 0, 0, 0, 0, 0, 0, 0, ...     [0]  \n",
       "3224     0.733824  (0, 0, 0, 0, 0, 0, 0, 0, 0, 0, 0, 0, 0, 0, 0, ...     [0]  "
      ]
     },
     "execution_count": 12,
     "metadata": {},
     "output_type": "execute_result"
    }
   ],
   "source": [
    "df2.head()"
   ]
  },
  {
   "cell_type": "markdown",
   "id": "9bc542e5-be99-4dfd-932d-90b419be74ce",
   "metadata": {},
   "source": [
    "### More vectorizing testing!!!!!!\n",
    "We are gonna make different lists here and vectorize it depending on what type of illegal it is!!!!!!"
   ]
  },
  {
   "cell_type": "code",
   "execution_count": 13,
   "id": "9a56cafc-c91b-49c5-bcbe-6835d2c98f34",
   "metadata": {},
   "outputs": [],
   "source": [
    "#These lits contain words that have to do with illegal activities, primarily in the US!!!"
   ]
  },
  {
   "cell_type": "code",
   "execution_count": 17,
   "id": "a15c9cf1-135a-41d8-89cf-7f561563f413",
   "metadata": {},
   "outputs": [
    {
     "ename": "NameError",
     "evalue": "name 'contains_keywords' is not defined",
     "output_type": "error",
     "traceback": [
      "\u001b[1;31m---------------------------------------------------------------------------\u001b[0m",
      "\u001b[1;31mNameError\u001b[0m                                 Traceback (most recent call last)",
      "\u001b[1;32m~\\AppData\\Local\\Temp\\ipykernel_24856\\4141677213.py\u001b[0m in \u001b[0;36m<module>\u001b[1;34m\u001b[0m\n\u001b[1;32m----> 1\u001b[1;33m \u001b[0mdf_sfw_illegal\u001b[0m \u001b[1;33m=\u001b[0m \u001b[0mcontains_keywords\u001b[0m\u001b[1;33m(\u001b[0m\u001b[0mdf_sfw\u001b[0m\u001b[1;33m,\u001b[0m \u001b[0millegal_terms\u001b[0m\u001b[1;33m)\u001b[0m\u001b[1;33m\u001b[0m\u001b[1;33m\u001b[0m\u001b[0m\n\u001b[0m",
      "\u001b[1;31mNameError\u001b[0m: name 'contains_keywords' is not defined"
     ]
    }
   ],
   "source": [
    "df_sfw_illegal = contains_keywords(df_sfw, illegal_terms)"
   ]
  },
  {
   "cell_type": "code",
   "execution_count": null,
   "id": "042c49fb-4ad4-4e53-b400-af1c38d8428b",
   "metadata": {},
   "outputs": [],
   "source": []
  },
  {
   "cell_type": "code",
   "execution_count": null,
   "id": "93acef6a-43c4-4a0f-ad8e-5618e0c90bd5",
   "metadata": {},
   "outputs": [],
   "source": []
  }
 ],
 "metadata": {
  "kernelspec": {
   "display_name": "Python 3 (ipykernel)",
   "language": "python",
   "name": "python3"
  },
  "language_info": {
   "codemirror_mode": {
    "name": "ipython",
    "version": 3
   },
   "file_extension": ".py",
   "mimetype": "text/x-python",
   "name": "python",
   "nbconvert_exporter": "python",
   "pygments_lexer": "ipython3",
   "version": "3.9.13"
  }
 },
 "nbformat": 4,
 "nbformat_minor": 5
}
