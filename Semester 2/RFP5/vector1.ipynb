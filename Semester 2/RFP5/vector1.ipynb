{
 "cells": [
  {
   "cell_type": "code",
   "execution_count": 1,
   "id": "3b59a4d0-1c6f-42b2-8660-78e9f1a39f0d",
   "metadata": {},
   "outputs": [],
   "source": [
    "import pandas as pd\n",
    "import numpy as np\n",
    "\n",
    "\n",
    "#testing imports\n",
    "\n",
    "from sklearn.metrics import accuracy_score  \n",
    "from sklearn.metrics import precision_score\n",
    "\n",
    "from sklearn.metrics import recall_score\n",
    "from sklearn.metrics import f1_score   #Combo of precision and recall"
   ]
  },
  {
   "cell_type": "code",
   "execution_count": 2,
   "id": "6b855b4d-adf4-432f-a25a-66d9d0de36e1",
   "metadata": {},
   "outputs": [],
   "source": [
    "df = pd.read_csv(\"diffusion_db_unaltered.csv\")"
   ]
  },
  {
   "cell_type": "code",
   "execution_count": 3,
   "id": "33f9b498-2a81-453b-b4c7-94948078bc22",
   "metadata": {},
   "outputs": [],
   "source": [
    "df2 = df[df['prompt_nsfw'] >= 0.70].copy() #This is the testing df!!!!!!! Apparently we need a \"copy\".."
   ]
  },
  {
   "cell_type": "code",
   "execution_count": 4,
   "id": "22977fc8-4caf-4502-91e7-1d58af5cc930",
   "metadata": {},
   "outputs": [],
   "source": [
    "df['nsfw'] = (df['image_nsfw'] >= 0.7) | (df['prompt_nsfw'] >= 0.7)"
   ]
  },
  {
   "cell_type": "code",
   "execution_count": null,
   "id": "55d5218e-007d-4fd7-8623-7466ea22e416",
   "metadata": {},
   "outputs": [],
   "source": []
  },
  {
   "cell_type": "code",
   "execution_count": 5,
   "id": "8ea497b4-e23c-4d7a-bd15-291e06f30fa2",
   "metadata": {},
   "outputs": [],
   "source": [
    " #This is the list of words for vectorization!\n",
    "\n",
    "illegal_w = [\"weed\", \"kill\", \"drugs\", \"trafficking\", \"smuggling\", \"hacking\", \"bribe\", \"pedophile\", \"child\", \"bomb\", \"terrorist\",\n",
    "            \"gun\", \"fraud\", \"scam\", \"scamming\", \"shoot\", \"shooting\", \"stab\", \"stabbing\", \"murder\"]"
   ]
  },
  {
   "cell_type": "code",
   "execution_count": 6,
   "id": "42c9d864-633e-4dd3-9049-78c2c20ae487",
   "metadata": {},
   "outputs": [
    {
     "name": "stdout",
     "output_type": "stream",
     "text": [
      "<class 'pandas.core.frame.DataFrame'>\n",
      "Index: 11726 entries, 766 to 1999709\n",
      "Data columns (total 3 columns):\n",
      " #   Column       Non-Null Count  Dtype  \n",
      "---  ------       --------------  -----  \n",
      " 0   prompt       11726 non-null  object \n",
      " 1   image_nsfw   11726 non-null  float64\n",
      " 2   prompt_nsfw  11726 non-null  float64\n",
      "dtypes: float64(2), object(1)\n",
      "memory usage: 366.4+ KB\n"
     ]
    }
   ],
   "source": [
    "df2.info()"
   ]
  },
  {
   "cell_type": "code",
   "execution_count": 7,
   "id": "63cff603-b0b4-4d5c-8bda-f91ba9d7f41d",
   "metadata": {},
   "outputs": [],
   "source": [
    "def vectorize_prompt(prompt, illegal_w):\n",
    "    vector = []\n",
    "    for word in illegal_w:\n",
    "        if word in prompt:\n",
    "            vector.append(1)\n",
    "        else:\n",
    "            vector.append(0)\n",
    "    return vector\n",
    "\n",
    "df2['vector'] = df2['prompt'].apply(lambda x: vectorize_prompt(x, illegal_w))"
   ]
  },
  {
   "cell_type": "code",
   "execution_count": 8,
   "id": "6d912f89-3cb9-450e-ae0e-dd367a36fb4a",
   "metadata": {},
   "outputs": [
    {
     "name": "stdout",
     "output_type": "stream",
     "text": [
      "<class 'pandas.core.frame.DataFrame'>\n",
      "Index: 11726 entries, 766 to 1999709\n",
      "Data columns (total 4 columns):\n",
      " #   Column       Non-Null Count  Dtype  \n",
      "---  ------       --------------  -----  \n",
      " 0   prompt       11726 non-null  object \n",
      " 1   image_nsfw   11726 non-null  float64\n",
      " 2   prompt_nsfw  11726 non-null  float64\n",
      " 3   vector       11726 non-null  object \n",
      "dtypes: float64(2), object(2)\n",
      "memory usage: 458.0+ KB\n"
     ]
    }
   ],
   "source": [
    "df2.info()"
   ]
  },
  {
   "cell_type": "code",
   "execution_count": 9,
   "id": "9acc6e48-874b-4487-b352-0d19a7077dd0",
   "metadata": {},
   "outputs": [
    {
     "data": {
      "text/html": [
       "<div>\n",
       "<style scoped>\n",
       "    .dataframe tbody tr th:only-of-type {\n",
       "        vertical-align: middle;\n",
       "    }\n",
       "\n",
       "    .dataframe tbody tr th {\n",
       "        vertical-align: top;\n",
       "    }\n",
       "\n",
       "    .dataframe thead th {\n",
       "        text-align: right;\n",
       "    }\n",
       "</style>\n",
       "<table border=\"1\" class=\"dataframe\">\n",
       "  <thead>\n",
       "    <tr style=\"text-align: right;\">\n",
       "      <th></th>\n",
       "      <th>prompt</th>\n",
       "      <th>image_nsfw</th>\n",
       "      <th>prompt_nsfw</th>\n",
       "      <th>vector</th>\n",
       "    </tr>\n",
       "  </thead>\n",
       "  <tbody>\n",
       "    <tr>\n",
       "      <th>766</th>\n",
       "      <td>kpop idol woman dressed in pink, eating a suck...</td>\n",
       "      <td>0.186505</td>\n",
       "      <td>0.873680</td>\n",
       "      <td>[0, 0, 0, 0, 0, 0, 0, 0, 0, 0, 0, 0, 0, 0, 0, ...</td>\n",
       "    </tr>\n",
       "    <tr>\n",
       "      <th>2402</th>\n",
       "      <td>horrid, abominable, disgusting, vile, revoltin...</td>\n",
       "      <td>0.148235</td>\n",
       "      <td>0.962162</td>\n",
       "      <td>[0, 0, 0, 0, 0, 0, 0, 0, 0, 0, 0, 0, 0, 0, 0, ...</td>\n",
       "    </tr>\n",
       "    <tr>\n",
       "      <th>2403</th>\n",
       "      <td>horrid, abominable, disgusting, vile, revoltin...</td>\n",
       "      <td>0.068639</td>\n",
       "      <td>0.990164</td>\n",
       "      <td>[0, 0, 0, 0, 0, 0, 0, 0, 0, 0, 0, 0, 0, 0, 0, ...</td>\n",
       "    </tr>\n",
       "    <tr>\n",
       "      <th>2970</th>\n",
       "      <td>die cut sticker of a pair of lips</td>\n",
       "      <td>0.154846</td>\n",
       "      <td>0.751755</td>\n",
       "      <td>[0, 0, 0, 0, 0, 0, 0, 0, 0, 0, 0, 0, 0, 0, 0, ...</td>\n",
       "    </tr>\n",
       "    <tr>\n",
       "      <th>3224</th>\n",
       "      <td>pork belly ramen foodporn</td>\n",
       "      <td>0.026718</td>\n",
       "      <td>0.733824</td>\n",
       "      <td>[0, 0, 0, 0, 0, 0, 0, 0, 0, 0, 0, 0, 0, 0, 0, ...</td>\n",
       "    </tr>\n",
       "  </tbody>\n",
       "</table>\n",
       "</div>"
      ],
      "text/plain": [
       "                                                 prompt  image_nsfw  \\\n",
       "766   kpop idol woman dressed in pink, eating a suck...    0.186505   \n",
       "2402  horrid, abominable, disgusting, vile, revoltin...    0.148235   \n",
       "2403  horrid, abominable, disgusting, vile, revoltin...    0.068639   \n",
       "2970                 die cut sticker of a pair of lips     0.154846   \n",
       "3224                         pork belly ramen foodporn     0.026718   \n",
       "\n",
       "      prompt_nsfw                                             vector  \n",
       "766      0.873680  [0, 0, 0, 0, 0, 0, 0, 0, 0, 0, 0, 0, 0, 0, 0, ...  \n",
       "2402     0.962162  [0, 0, 0, 0, 0, 0, 0, 0, 0, 0, 0, 0, 0, 0, 0, ...  \n",
       "2403     0.990164  [0, 0, 0, 0, 0, 0, 0, 0, 0, 0, 0, 0, 0, 0, 0, ...  \n",
       "2970     0.751755  [0, 0, 0, 0, 0, 0, 0, 0, 0, 0, 0, 0, 0, 0, 0, ...  \n",
       "3224     0.733824  [0, 0, 0, 0, 0, 0, 0, 0, 0, 0, 0, 0, 0, 0, 0, ...  "
      ]
     },
     "execution_count": 9,
     "metadata": {},
     "output_type": "execute_result"
    }
   ],
   "source": [
    "df2.head()"
   ]
  },
  {
   "cell_type": "code",
   "execution_count": null,
   "id": "6e010bde-547c-45e4-90fb-4633167d37f2",
   "metadata": {},
   "outputs": [],
   "source": []
  },
  {
   "cell_type": "code",
   "execution_count": null,
   "id": "96aa8f38-53fe-4845-9a96-5e08cf8fbf4b",
   "metadata": {},
   "outputs": [],
   "source": []
  },
  {
   "cell_type": "code",
   "execution_count": null,
   "id": "81f33229-8b87-473d-8e11-40ed613fa91d",
   "metadata": {},
   "outputs": [],
   "source": []
  }
 ],
 "metadata": {
  "kernelspec": {
   "display_name": "Python 3 (ipykernel)",
   "language": "python",
   "name": "python3"
  },
  "language_info": {
   "codemirror_mode": {
    "name": "ipython",
    "version": 3
   },
   "file_extension": ".py",
   "mimetype": "text/x-python",
   "name": "python",
   "nbconvert_exporter": "python",
   "pygments_lexer": "ipython3",
   "version": "3.9.13"
  }
 },
 "nbformat": 4,
 "nbformat_minor": 5
}
