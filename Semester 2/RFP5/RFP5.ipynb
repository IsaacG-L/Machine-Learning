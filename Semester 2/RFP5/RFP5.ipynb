{
 "cells": [
  {
   "cell_type": "code",
   "execution_count": 1,
   "id": "bf617dbb",
   "metadata": {},
   "outputs": [],
   "source": [
    "import pandas as pd\n",
    "import numpy as np\n",
    "\n",
    "#testing imports\n",
    "\n",
    "from sklearn.metrics import accuracy_score  \n",
    "from sklearn.metrics import precision_score\n",
    "\n",
    "from sklearn.metrics import recall_score\n",
    "from sklearn.metrics import f1_score   #Combo of precision and recall"
   ]
  },
  {
   "cell_type": "code",
   "execution_count": 2,
   "id": "1a2a9906",
   "metadata": {},
   "outputs": [],
   "source": [
    "df = pd.read_csv(\"diffusion_db_unaltered.csv\")"
   ]
  },
  {
   "cell_type": "code",
   "execution_count": 3,
   "id": "a09a7d20",
   "metadata": {},
   "outputs": [],
   "source": [
    "minidf = df[df['prompt_nsfw'] >= 0.70]"
   ]
  },
  {
   "cell_type": "code",
   "execution_count": 4,
   "id": "fa150f1c",
   "metadata": {},
   "outputs": [
    {
     "name": "stdout",
     "output_type": "stream",
     "text": [
      "<class 'pandas.core.frame.DataFrame'>\n",
      "RangeIndex: 2000000 entries, 0 to 1999999\n",
      "Data columns (total 3 columns):\n",
      " #   Column       Dtype  \n",
      "---  ------       -----  \n",
      " 0   prompt       object \n",
      " 1   image_nsfw   float64\n",
      " 2   prompt_nsfw  float64\n",
      "dtypes: float64(2), object(1)\n",
      "memory usage: 45.8+ MB\n"
     ]
    }
   ],
   "source": [
    "df.info()"
   ]
  },
  {
   "cell_type": "code",
   "execution_count": 5,
   "id": "eba55247",
   "metadata": {},
   "outputs": [],
   "source": [
    "#minidf.info()  11726 rows of data"
   ]
  },
  {
   "cell_type": "code",
   "execution_count": 6,
   "id": "1587fb6a",
   "metadata": {},
   "outputs": [],
   "source": [
    "#Creates a new column that just holds a boolean!\n",
    "df['nsfw'] = (df['image_nsfw'] >= 0.7) | (df['prompt_nsfw'] >= 0.7)"
   ]
  },
  {
   "cell_type": "code",
   "execution_count": 7,
   "id": "ab6a1e8b",
   "metadata": {},
   "outputs": [],
   "source": [
    "#prompt = df['prompt']"
   ]
  },
  {
   "cell_type": "code",
   "execution_count": 8,
   "id": "231b5fa0",
   "metadata": {},
   "outputs": [],
   "source": [
    "#minidf.tail(40)"
   ]
  },
  {
   "cell_type": "code",
   "execution_count": 9,
   "id": "c633c2ab",
   "metadata": {},
   "outputs": [],
   "source": [
    "#minidf['prompt'].loc[1995020] #this is questionable #hers another index 1996788 and 1996786 \n",
    "#1996602, 1996788"
   ]
  },
  {
   "cell_type": "code",
   "execution_count": null,
   "id": "3a94874a",
   "metadata": {},
   "outputs": [],
   "source": []
  },
  {
   "cell_type": "code",
   "execution_count": 10,
   "id": "471b06cc",
   "metadata": {},
   "outputs": [],
   "source": [
    "prompt = df[\"prompt\"]\n",
    "#prompt"
   ]
  },
  {
   "cell_type": "code",
   "execution_count": 11,
   "id": "4686c967",
   "metadata": {},
   "outputs": [],
   "source": [
    "illegal_w = [\"weed\", \"kill\", \"drugs\", \"trafficking\", \"smuggling\", \"hacking\", \"bribe\", \"pedophile\", \"child\", \"bomb\", \"terrorist\",\n",
    "            \"gun\", \"fraud\", \"scam\", \"scamming\", \"shoot\", \"shooting\", \"stab\", \"stabbing\", \"murdur\"]"
   ]
  },
  {
   "cell_type": "code",
   "execution_count": 12,
   "id": "7c5196a2-3d43-4923-894c-6f817089318e",
   "metadata": {},
   "outputs": [],
   "source": [
    "df = df.dropna() "
   ]
  },
  {
   "cell_type": "code",
   "execution_count": 13,
   "id": "ee701b2f-8fcd-4b6f-9176-17407b5a1d8b",
   "metadata": {},
   "outputs": [
    {
     "name": "stdout",
     "output_type": "stream",
     "text": [
      "<class 'pandas.core.frame.DataFrame'>\n",
      "Int64Index: 1999517 entries, 0 to 1999999\n",
      "Data columns (total 4 columns):\n",
      " #   Column       Dtype  \n",
      "---  ------       -----  \n",
      " 0   prompt       object \n",
      " 1   image_nsfw   float64\n",
      " 2   prompt_nsfw  float64\n",
      " 3   nsfw         bool   \n",
      "dtypes: bool(1), float64(2), object(1)\n",
      "memory usage: 62.9+ MB\n"
     ]
    }
   ],
   "source": [
    "df.info()"
   ]
  },
  {
   "cell_type": "code",
   "execution_count": 14,
   "id": "b5737cf5-f8e2-4be2-9ba6-b10388722daf",
   "metadata": {},
   "outputs": [],
   "source": [
    "#df['prompt'] = df['prompt'].astype(str)"
   ]
  },
  {
   "cell_type": "code",
   "execution_count": 15,
   "id": "42bdd6e2-aec5-4d49-876d-73e5f98dc91c",
   "metadata": {},
   "outputs": [
    {
     "data": {
      "text/plain": [
       "dtype('O')"
      ]
     },
     "execution_count": 15,
     "metadata": {},
     "output_type": "execute_result"
    }
   ],
   "source": [
    "df[\"prompt\"].dtype"
   ]
  },
  {
   "cell_type": "code",
   "execution_count": 16,
   "id": "cbb90f37",
   "metadata": {},
   "outputs": [],
   "source": [
    "prompty = df[\"prompt\"][0]\n"
   ]
  },
  {
   "cell_type": "code",
   "execution_count": 17,
   "id": "2bb9b31d-7c92-4510-837a-4c1c5483981f",
   "metadata": {},
   "outputs": [
    {
     "data": {
      "text/plain": [
       "'a portrait of a female robot made from code, very intricate details, octane render, 8 k, trending on artstation '"
      ]
     },
     "execution_count": 17,
     "metadata": {},
     "output_type": "execute_result"
    }
   ],
   "source": [
    "prompty"
   ]
  },
  {
   "cell_type": "code",
   "execution_count": null,
   "id": "9760314e-4737-4e2f-96b0-235a8d9d75ed",
   "metadata": {},
   "outputs": [],
   "source": []
  },
  {
   "cell_type": "code",
   "execution_count": 18,
   "id": "89aabfab-a9b6-4c13-b55c-5366f6628098",
   "metadata": {},
   "outputs": [],
   "source": [
    "from sklearn.feature_extraction.text import CountVectorizer\n"
   ]
  },
  {
   "cell_type": "code",
   "execution_count": 19,
   "id": "9030a512-797d-4317-b26d-c666147ee935",
   "metadata": {},
   "outputs": [],
   "source": [
    "vectorizer = CountVectorizer()\n",
    "X = vectorizer.fit_transform(minidf['prompt'].tolist())"
   ]
  },
  {
   "cell_type": "code",
   "execution_count": 20,
   "id": "71535445-68d4-45e1-be7e-ce51a230252f",
   "metadata": {},
   "outputs": [
    {
     "data": {
      "text/plain": [
       "(11726, 11783)"
      ]
     },
     "execution_count": 20,
     "metadata": {},
     "output_type": "execute_result"
    }
   ],
   "source": [
    "X.shape"
   ]
  },
  {
   "cell_type": "code",
   "execution_count": 21,
   "id": "47101638-a2eb-41c3-95bd-4fda12897770",
   "metadata": {},
   "outputs": [],
   "source": [
    "dense_matrix = X.toarray()"
   ]
  },
  {
   "cell_type": "code",
   "execution_count": 22,
   "id": "54f7ec03-1184-4d2f-94ef-1c9f0bcc3fc0",
   "metadata": {},
   "outputs": [],
   "source": [
    "def vectorize_prompt(prompt):\n",
    "    vector = []\n",
    "    if \"nudity\" in prompt:\n",
    "        vector.append(1)\n",
    "    else:\n",
    "        vector.append(0)\n",
    "\n",
    "    if \"violence\" in prompt:\n",
    "        vector.append(1)\n",
    "    else:\n",
    "        vector.append(0)\n",
    "    \n",
    "    if \"drugs\" in prompt:\n",
    "        vector.append(1)\n",
    "    else:\n",
    "        vector.append(0)\n",
    "    \n",
    "    # Add more conditions if needed\n",
    "    return vector\n",
    "\n",
    "# Apply the vectorization function to the 'prompt' column\n",
    "minidf['vector'] = minidf['prompt'].apply(vectorize_prompt)\n",
    "\n",
    "# Check the result\n",
    "\n"
   ]
  },
  {
   "cell_type": "code",
   "execution_count": 23,
   "id": "56dd4119-6e42-4f11-aa53-c4b0694624e2",
   "metadata": {},
   "outputs": [
    {
     "name": "stdout",
     "output_type": "stream",
     "text": [
      "<class 'pandas.core.frame.DataFrame'>\n",
      "Int64Index: 11726 entries, 766 to 1999709\n",
      "Data columns (total 4 columns):\n",
      " #   Column       Non-Null Count  Dtype  \n",
      "---  ------       --------------  -----  \n",
      " 0   prompt       11726 non-null  object \n",
      " 1   image_nsfw   11726 non-null  float64\n",
      " 2   prompt_nsfw  11726 non-null  float64\n",
      " 3   vector       11726 non-null  object \n",
      "dtypes: float64(2), object(2)\n",
      "memory usage: 458.0+ KB\n"
     ]
    }
   ],
   "source": [
    "minidf.info()"
   ]
  },
  {
   "cell_type": "code",
   "execution_count": 24,
   "id": "16077727-db8d-4425-a115-09cd0e308f87",
   "metadata": {},
   "outputs": [
    {
     "data": {
      "text/html": [
       "<div>\n",
       "<style scoped>\n",
       "    .dataframe tbody tr th:only-of-type {\n",
       "        vertical-align: middle;\n",
       "    }\n",
       "\n",
       "    .dataframe tbody tr th {\n",
       "        vertical-align: top;\n",
       "    }\n",
       "\n",
       "    .dataframe thead th {\n",
       "        text-align: right;\n",
       "    }\n",
       "</style>\n",
       "<table border=\"1\" class=\"dataframe\">\n",
       "  <thead>\n",
       "    <tr style=\"text-align: right;\">\n",
       "      <th></th>\n",
       "      <th>prompt</th>\n",
       "      <th>image_nsfw</th>\n",
       "      <th>prompt_nsfw</th>\n",
       "      <th>vector</th>\n",
       "    </tr>\n",
       "  </thead>\n",
       "  <tbody>\n",
       "    <tr>\n",
       "      <th>766</th>\n",
       "      <td>kpop idol woman dressed in pink, eating a suck...</td>\n",
       "      <td>0.186505</td>\n",
       "      <td>0.873680</td>\n",
       "      <td>[0, 0, 0]</td>\n",
       "    </tr>\n",
       "    <tr>\n",
       "      <th>2402</th>\n",
       "      <td>horrid, abominable, disgusting, vile, revoltin...</td>\n",
       "      <td>0.148235</td>\n",
       "      <td>0.962162</td>\n",
       "      <td>[0, 0, 0]</td>\n",
       "    </tr>\n",
       "    <tr>\n",
       "      <th>2403</th>\n",
       "      <td>horrid, abominable, disgusting, vile, revoltin...</td>\n",
       "      <td>0.068639</td>\n",
       "      <td>0.990164</td>\n",
       "      <td>[0, 0, 0]</td>\n",
       "    </tr>\n",
       "    <tr>\n",
       "      <th>2970</th>\n",
       "      <td>die cut sticker of a pair of lips</td>\n",
       "      <td>0.154846</td>\n",
       "      <td>0.751755</td>\n",
       "      <td>[0, 0, 0]</td>\n",
       "    </tr>\n",
       "    <tr>\n",
       "      <th>3224</th>\n",
       "      <td>pork belly ramen foodporn</td>\n",
       "      <td>0.026718</td>\n",
       "      <td>0.733824</td>\n",
       "      <td>[0, 0, 0]</td>\n",
       "    </tr>\n",
       "  </tbody>\n",
       "</table>\n",
       "</div>"
      ],
      "text/plain": [
       "                                                 prompt  image_nsfw  \\\n",
       "766   kpop idol woman dressed in pink, eating a suck...    0.186505   \n",
       "2402  horrid, abominable, disgusting, vile, revoltin...    0.148235   \n",
       "2403  horrid, abominable, disgusting, vile, revoltin...    0.068639   \n",
       "2970                 die cut sticker of a pair of lips     0.154846   \n",
       "3224                         pork belly ramen foodporn     0.026718   \n",
       "\n",
       "      prompt_nsfw     vector  \n",
       "766      0.873680  [0, 0, 0]  \n",
       "2402     0.962162  [0, 0, 0]  \n",
       "2403     0.990164  [0, 0, 0]  \n",
       "2970     0.751755  [0, 0, 0]  \n",
       "3224     0.733824  [0, 0, 0]  "
      ]
     },
     "execution_count": 24,
     "metadata": {},
     "output_type": "execute_result"
    }
   ],
   "source": [
    "minidf.head()"
   ]
  },
  {
   "cell_type": "code",
   "execution_count": 25,
   "id": "f49378fa-c17f-4cc8-ad55-323a9d7d7813",
   "metadata": {},
   "outputs": [
    {
     "data": {
      "text/plain": [
       "[0, 0, 0]    11718\n",
       "[0, 0, 1]        7\n",
       "[0, 1, 0]        1\n",
       "Name: vector, dtype: int64"
      ]
     },
     "execution_count": 25,
     "metadata": {},
     "output_type": "execute_result"
    }
   ],
   "source": [
    "minidf['vector'].value_counts()"
   ]
  },
  {
   "cell_type": "code",
   "execution_count": 26,
   "id": "89351760-977f-4c3f-8b3d-bea6d79d181c",
   "metadata": {},
   "outputs": [
    {
     "ename": "NameError",
     "evalue": "name 'keywords' is not defined",
     "output_type": "error",
     "traceback": [
      "\u001b[1;31m---------------------------------------------------------------------------\u001b[0m",
      "\u001b[1;31mNameError\u001b[0m                                 Traceback (most recent call last)",
      "\u001b[1;32m~\\AppData\\Local\\Temp\\ipykernel_31532\\3101400683.py\u001b[0m in \u001b[0;36m<module>\u001b[1;34m\u001b[0m\n\u001b[0;32m      9\u001b[0m \u001b[1;33m\u001b[0m\u001b[0m\n\u001b[0;32m     10\u001b[0m \u001b[1;31m# Apply the vectorization function to the 'prompt' column\u001b[0m\u001b[1;33m\u001b[0m\u001b[1;33m\u001b[0m\u001b[0m\n\u001b[1;32m---> 11\u001b[1;33m \u001b[0mdf\u001b[0m\u001b[1;33m[\u001b[0m\u001b[1;34m'vector'\u001b[0m\u001b[1;33m]\u001b[0m \u001b[1;33m=\u001b[0m \u001b[0mdf\u001b[0m\u001b[1;33m[\u001b[0m\u001b[1;34m'prompt'\u001b[0m\u001b[1;33m]\u001b[0m\u001b[1;33m.\u001b[0m\u001b[0mapply\u001b[0m\u001b[1;33m(\u001b[0m\u001b[1;32mlambda\u001b[0m \u001b[0mx\u001b[0m\u001b[1;33m:\u001b[0m \u001b[0mvectorize_prompt\u001b[0m\u001b[1;33m(\u001b[0m\u001b[0mx\u001b[0m\u001b[1;33m,\u001b[0m \u001b[0mkeywords\u001b[0m\u001b[1;33m)\u001b[0m\u001b[1;33m)\u001b[0m\u001b[1;33m\u001b[0m\u001b[1;33m\u001b[0m\u001b[0m\n\u001b[0m",
      "\u001b[1;32mC:\\ProgramData\\Anaconda3\\lib\\site-packages\\pandas\\core\\series.py\u001b[0m in \u001b[0;36mapply\u001b[1;34m(self, func, convert_dtype, args, **kwargs)\u001b[0m\n\u001b[0;32m   4431\u001b[0m         \u001b[0mdtype\u001b[0m\u001b[1;33m:\u001b[0m \u001b[0mfloat64\u001b[0m\u001b[1;33m\u001b[0m\u001b[1;33m\u001b[0m\u001b[0m\n\u001b[0;32m   4432\u001b[0m         \"\"\"\n\u001b[1;32m-> 4433\u001b[1;33m         \u001b[1;32mreturn\u001b[0m \u001b[0mSeriesApply\u001b[0m\u001b[1;33m(\u001b[0m\u001b[0mself\u001b[0m\u001b[1;33m,\u001b[0m \u001b[0mfunc\u001b[0m\u001b[1;33m,\u001b[0m \u001b[0mconvert_dtype\u001b[0m\u001b[1;33m,\u001b[0m \u001b[0margs\u001b[0m\u001b[1;33m,\u001b[0m \u001b[0mkwargs\u001b[0m\u001b[1;33m)\u001b[0m\u001b[1;33m.\u001b[0m\u001b[0mapply\u001b[0m\u001b[1;33m(\u001b[0m\u001b[1;33m)\u001b[0m\u001b[1;33m\u001b[0m\u001b[1;33m\u001b[0m\u001b[0m\n\u001b[0m\u001b[0;32m   4434\u001b[0m \u001b[1;33m\u001b[0m\u001b[0m\n\u001b[0;32m   4435\u001b[0m     def _reduce(\n",
      "\u001b[1;32mC:\\ProgramData\\Anaconda3\\lib\\site-packages\\pandas\\core\\apply.py\u001b[0m in \u001b[0;36mapply\u001b[1;34m(self)\u001b[0m\n\u001b[0;32m   1086\u001b[0m             \u001b[1;32mreturn\u001b[0m \u001b[0mself\u001b[0m\u001b[1;33m.\u001b[0m\u001b[0mapply_str\u001b[0m\u001b[1;33m(\u001b[0m\u001b[1;33m)\u001b[0m\u001b[1;33m\u001b[0m\u001b[1;33m\u001b[0m\u001b[0m\n\u001b[0;32m   1087\u001b[0m \u001b[1;33m\u001b[0m\u001b[0m\n\u001b[1;32m-> 1088\u001b[1;33m         \u001b[1;32mreturn\u001b[0m \u001b[0mself\u001b[0m\u001b[1;33m.\u001b[0m\u001b[0mapply_standard\u001b[0m\u001b[1;33m(\u001b[0m\u001b[1;33m)\u001b[0m\u001b[1;33m\u001b[0m\u001b[1;33m\u001b[0m\u001b[0m\n\u001b[0m\u001b[0;32m   1089\u001b[0m \u001b[1;33m\u001b[0m\u001b[0m\n\u001b[0;32m   1090\u001b[0m     \u001b[1;32mdef\u001b[0m \u001b[0magg\u001b[0m\u001b[1;33m(\u001b[0m\u001b[0mself\u001b[0m\u001b[1;33m)\u001b[0m\u001b[1;33m:\u001b[0m\u001b[1;33m\u001b[0m\u001b[1;33m\u001b[0m\u001b[0m\n",
      "\u001b[1;32mC:\\ProgramData\\Anaconda3\\lib\\site-packages\\pandas\\core\\apply.py\u001b[0m in \u001b[0;36mapply_standard\u001b[1;34m(self)\u001b[0m\n\u001b[0;32m   1141\u001b[0m                 \u001b[1;31m# List[Union[Callable[..., Any], str]]]]]\"; expected\u001b[0m\u001b[1;33m\u001b[0m\u001b[1;33m\u001b[0m\u001b[0m\n\u001b[0;32m   1142\u001b[0m                 \u001b[1;31m# \"Callable[[Any], Any]\"\u001b[0m\u001b[1;33m\u001b[0m\u001b[1;33m\u001b[0m\u001b[0m\n\u001b[1;32m-> 1143\u001b[1;33m                 mapped = lib.map_infer(\n\u001b[0m\u001b[0;32m   1144\u001b[0m                     \u001b[0mvalues\u001b[0m\u001b[1;33m,\u001b[0m\u001b[1;33m\u001b[0m\u001b[1;33m\u001b[0m\u001b[0m\n\u001b[0;32m   1145\u001b[0m                     \u001b[0mf\u001b[0m\u001b[1;33m,\u001b[0m  \u001b[1;31m# type: ignore[arg-type]\u001b[0m\u001b[1;33m\u001b[0m\u001b[1;33m\u001b[0m\u001b[0m\n",
      "\u001b[1;32mC:\\ProgramData\\Anaconda3\\lib\\site-packages\\pandas\\_libs\\lib.pyx\u001b[0m in \u001b[0;36mpandas._libs.lib.map_infer\u001b[1;34m()\u001b[0m\n",
      "\u001b[1;32m~\\AppData\\Local\\Temp\\ipykernel_31532\\3101400683.py\u001b[0m in \u001b[0;36m<lambda>\u001b[1;34m(x)\u001b[0m\n\u001b[0;32m      9\u001b[0m \u001b[1;33m\u001b[0m\u001b[0m\n\u001b[0;32m     10\u001b[0m \u001b[1;31m# Apply the vectorization function to the 'prompt' column\u001b[0m\u001b[1;33m\u001b[0m\u001b[1;33m\u001b[0m\u001b[0m\n\u001b[1;32m---> 11\u001b[1;33m \u001b[0mdf\u001b[0m\u001b[1;33m[\u001b[0m\u001b[1;34m'vector'\u001b[0m\u001b[1;33m]\u001b[0m \u001b[1;33m=\u001b[0m \u001b[0mdf\u001b[0m\u001b[1;33m[\u001b[0m\u001b[1;34m'prompt'\u001b[0m\u001b[1;33m]\u001b[0m\u001b[1;33m.\u001b[0m\u001b[0mapply\u001b[0m\u001b[1;33m(\u001b[0m\u001b[1;32mlambda\u001b[0m \u001b[0mx\u001b[0m\u001b[1;33m:\u001b[0m \u001b[0mvectorize_prompt\u001b[0m\u001b[1;33m(\u001b[0m\u001b[0mx\u001b[0m\u001b[1;33m,\u001b[0m \u001b[0mkeywords\u001b[0m\u001b[1;33m)\u001b[0m\u001b[1;33m)\u001b[0m\u001b[1;33m\u001b[0m\u001b[1;33m\u001b[0m\u001b[0m\n\u001b[0m",
      "\u001b[1;31mNameError\u001b[0m: name 'keywords' is not defined"
     ]
    }
   ],
   "source": [
    "def vectorize_prompt(prompt, keywords):\n",
    "    vector = []\n",
    "    for word in keywords:\n",
    "        if word in prompt:\n",
    "            vector.append(1)\n",
    "        else:\n",
    "            vector.append(0)\n",
    "    return vector\n",
    "\n",
    "# Apply the vectorization function to the 'prompt' column\n",
    "df['vector'] = df['prompt'].apply(lambda x: vectorize_prompt(x, keywords))"
   ]
  },
  {
   "cell_type": "code",
   "execution_count": null,
   "id": "136e7632",
   "metadata": {},
   "outputs": [],
   "source": []
  }
 ],
 "metadata": {
  "kernelspec": {
   "display_name": "Python 3 (ipykernel)",
   "language": "python",
   "name": "python3"
  },
  "language_info": {
   "codemirror_mode": {
    "name": "ipython",
    "version": 3
   },
   "file_extension": ".py",
   "mimetype": "text/x-python",
   "name": "python",
   "nbconvert_exporter": "python",
   "pygments_lexer": "ipython3",
   "version": "3.9.13"
  }
 },
 "nbformat": 4,
 "nbformat_minor": 5
}
