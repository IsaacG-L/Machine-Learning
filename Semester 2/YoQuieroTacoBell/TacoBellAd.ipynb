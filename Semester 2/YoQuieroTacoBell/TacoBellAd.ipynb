{
 "cells": [
  {
   "cell_type": "markdown",
   "id": "1b940825",
   "metadata": {},
   "source": [
    "# RFP: Targeted Taco Bell Ads\n",
    "\n",
    "## Project Overview\n",
    "You are invited to submit a proposal that answers the following question:\n",
    "\n",
    "### What ad will you create and why?\n",
    "\n",
    "*Please submit your proposal by **1/30/25 at 11:59 PM**.*"
   ]
  },
  {
   "cell_type": "markdown",
   "id": "968a85f0",
   "metadata": {},
   "source": [
    "## Required Proposal Components\n",
    "\n",
    "### 1. Data Description\n",
    "In the code cell below, read in the data you will need to train and test your model. Call `info()` once you have read the data into a dataframe. Consider using some or all of the following sources:\n",
    "- [Customer Demographics](https://drive.google.com/file/d/1HK42Oa3bhhRDWR1y1wVBDAQ2tbNwg1gS/view?usp=sharing)\n",
    "- [Ad Response Data](https://drive.google.com/file/d/1cuLqXPNKhP66m5BP9BAlci2G--Vopt-Z/view?usp=sharing)\n",
    "\n",
    "*Note, a level 5 dataset combines these two data sets.*"
   ]
  },
  {
   "cell_type": "code",
   "execution_count": 1,
   "id": "08c1688a",
   "metadata": {},
   "outputs": [],
   "source": [
    "import pandas as pd\n",
    "import math\n",
    "import seaborn as sn\n",
    "import numpy as np\n",
    "import matplotlib.pyplot as plt\n",
    "\n",
    "from sklearn.model_selection import train_test_split\n",
    "#from sklearn.linear_model import LinearRegression\n",
    "\n",
    "from sklearn.cluster import KMeans\n",
    "\n",
    "from sklearn.metrics import silhouette_score"
   ]
  },
  {
   "cell_type": "code",
   "execution_count": 2,
   "id": "76814448",
   "metadata": {},
   "outputs": [],
   "source": [
    "df1 = pd.read_csv(\"ad_data.csv\")\n",
    "df2  = pd.read_csv(\"customer_data.csv\")\n",
    "\n",
    "df = pd.merge(df1, df2, on='customer_id', how='left')"
   ]
  },
  {
   "cell_type": "code",
   "execution_count": 3,
   "id": "4e0e84a6",
   "metadata": {},
   "outputs": [
    {
     "name": "stdout",
     "output_type": "stream",
     "text": [
      "<class 'pandas.core.frame.DataFrame'>\n",
      "Int64Index: 10000 entries, 0 to 9999\n",
      "Data columns (total 12 columns):\n",
      " #   Column            Non-Null Count  Dtype  \n",
      "---  ------            --------------  -----  \n",
      " 0   customer_id       10000 non-null  int64  \n",
      " 1   ad_type           10000 non-null  object \n",
      " 2   ad_medium         10000 non-null  object \n",
      " 3   ad_response       10000 non-null  bool   \n",
      " 4   items_purchased   10000 non-null  object \n",
      " 5   drinks_purchased  10000 non-null  object \n",
      " 6   state             10000 non-null  object \n",
      " 7   sex               10000 non-null  object \n",
      " 8   age               10000 non-null  float64\n",
      " 9   occupation        10000 non-null  object \n",
      " 10  family_size       10000 non-null  int64  \n",
      " 11  income            10000 non-null  int64  \n",
      "dtypes: bool(1), float64(1), int64(3), object(7)\n",
      "memory usage: 947.3+ KB\n"
     ]
    }
   ],
   "source": [
    "df.info()"
   ]
  },
  {
   "cell_type": "markdown",
   "id": "880ff05f",
   "metadata": {},
   "source": [
    "### 2. Training Your Model\n",
    "In the cell seen below, write the code you need to train a K-means clustering model. Make sure you describe the center of each cluster found.\n",
    "\n",
    "*Note, level 5 work uses at least 3 features to train a K-means model using only the standard Python library and Pandas. A level 4 uses external libraries like scikit or numpy.*"
   ]
  },
  {
   "cell_type": "code",
   "execution_count": 4,
   "id": "424d14f9",
   "metadata": {},
   "outputs": [],
   "source": [
    "#This is the encoding for regions!\n",
    "\n",
    "northeast = ['NH', 'VT', 'RI', 'CT', 'MA', 'NY', 'NJ', 'PA', 'DE', 'MD', 'ME']\n",
    "midWest = ['OH', 'MI', 'WI', 'IN', 'IL', 'MO', 'MN', 'IA', 'KS', 'NE', 'ND', 'SD']\n",
    "west = ['AZ', 'CO', 'ID', 'MT', 'NV', 'UT', 'WY', 'WA', 'OR', 'CA', 'AK', 'HI', 'NM']\n",
    "south = ['DE', 'FL', 'GA', 'KY', 'LA', 'MD', 'MS', 'NC', 'OK', 'SC', 'TN', 'TX', 'VA', 'WV', 'AR', 'AL']\n",
    "\n",
    "\n",
    "df['region'] = 0  #This is the new column.\n",
    "df.loc[df['state'].isin(northeast), 'region'] = 1\n",
    "df.loc[df['state'].isin(midWest), 'region'] = 2\n",
    "df.loc[df['state'].isin(west), 'region'] = 3\n",
    "df.loc[df['state'].isin(south), 'region'] = 4"
   ]
  },
  {
   "cell_type": "code",
   "execution_count": 5,
   "id": "c9a829cc",
   "metadata": {},
   "outputs": [],
   "source": [
    "df['medium_code'] = 0  #Another new column!\n",
    "\n",
    "youtube = [\"15 sec YouTube ad\"]      #Variables\n",
    "hulu = [\"30 sec Hulu commercial\"]\n",
    "instagram = [\"Instagram photo ad\"]\n",
    "cable = [\"30 sec cable TV ad\"]\n",
    "facebook = [\"Static Facebook ad\"]\n",
    "newspaper = [\"Newspaper ad\"]\n",
    "tiktok = [\"15 sec TikTok ad\"]\n",
    "\n",
    "#This is the encoding for the type of medium because why not.\n",
    "\n",
    "df.loc[df['ad_medium'].isin(youtube), 'medium_code'] = 1\n",
    "df.loc[df['ad_medium'].isin(hulu), 'medium_code'] = 2\n",
    "df.loc[df['ad_medium'].isin(instagram), 'medium_code'] = 3\n",
    "df.loc[df['ad_medium'].isin(cable), 'medium_code'] = 4\n",
    "df.loc[df['ad_medium'].isin(facebook), 'medium_code'] = 5\n",
    "df.loc[df['ad_medium'].isin(newspaper), 'medium_code'] = 6\n",
    "df.loc[df['ad_medium'].isin(tiktok), 'medium_code'] = 7"
   ]
  },
  {
   "cell_type": "code",
   "execution_count": 9,
   "id": "c5dbb0e3",
   "metadata": {},
   "outputs": [],
   "source": [
    "#This was actually much faster to do...\n",
    "occupation_mapping = {\n",
    "    \"Retail\": 1,\n",
    "    \"Government\": 2,\n",
    "    \"Healthcare\": 3,\n",
    "    \"Food Service\": 4,\n",
    "    \"Education\": 5,\n",
    "    \"Other\": 6,\n",
    "    \"IT\": 7,\n",
    "    \"Unemployed\": 8,\n",
    "    \"Student\": 9,\n",
    "    \"Retired\": 11\n",
    "}\n",
    "\n",
    "df[\"occu_code\"] = df[\"occupation\"].map(occupation_mapping).fillna(0).astype(int)\n"
   ]
  },
  {
   "cell_type": "code",
   "execution_count": 11,
   "id": "9c68c4af",
   "metadata": {},
   "outputs": [],
   "source": [
    "ad_type_encoding = {\n",
    "    'BOGO - Garlic Steak Nacho Fries': 1,\n",
    "    'DISCOUNT-50%': 2,\n",
    "    'REWARD - Free Garlic Steak Nacho Fries with purchase of $20 or more': 3,\n",
    "    'DISCOUNT-5%': 4,\n",
    "    'DISCOUNT-10%': 5,\n",
    "    'BOGO - Baja Blast': 6,\n",
    "    'REWARD - Free Baja Blast with purchase of $20 or more': 7,\n",
    "    'DISCOUNT-20%': 8\n",
    "}\n",
    "\n",
    "df['ad_type_enco'] = df[\"ad_type\"].map(ad_type_encoding).fillna(0).astype(int)"
   ]
  },
  {
   "cell_type": "code",
   "execution_count": null,
   "id": "bf10252e",
   "metadata": {},
   "outputs": [],
   "source": []
  },
  {
   "cell_type": "code",
   "execution_count": 18,
   "id": "92cdc6bf",
   "metadata": {},
   "outputs": [],
   "source": [
    "taco_df, _ = train_test_split(df, test_size=0.2, random_state=42)\n",
    "taco_df = taco_df[['income', 'age', 'family_size', 'region', 'medium_code', 'ad_type_enco']]\n",
    "\n",
    "#taco_df.info()"
   ]
  },
  {
   "cell_type": "markdown",
   "id": "0fe52f67",
   "metadata": {},
   "source": [
    "#### Don't forget to describe the centers of the clusters you found."
   ]
  },
  {
   "cell_type": "markdown",
   "id": "cfb2b903",
   "metadata": {},
   "source": [
    "### 3. Testing Your Model\n",
    "In the cell seen below, write the code you need to test your K-means model. Then, interpret your findings.\n",
    "\n",
    "*Note, level 5 testing uses both an elbow plot and a silhouette score to evaluate your model. Level 4 uses one or the other.*"
   ]
  },
  {
   "cell_type": "code",
   "execution_count": 19,
   "id": "24f8b990",
   "metadata": {},
   "outputs": [],
   "source": [
    "# Test model here."
   ]
  },
  {
   "cell_type": "code",
   "execution_count": 31,
   "id": "1562dd45",
   "metadata": {},
   "outputs": [],
   "source": [
    "model = KMeans(n_clusters = 6)"
   ]
  },
  {
   "cell_type": "code",
   "execution_count": 32,
   "id": "4fca9bcb",
   "metadata": {},
   "outputs": [
    {
     "data": {
      "text/plain": [
       "KMeans(n_clusters=6)"
      ]
     },
     "execution_count": 32,
     "metadata": {},
     "output_type": "execute_result"
    }
   ],
   "source": [
    "model.fit(taco_df)"
   ]
  },
  {
   "cell_type": "code",
   "execution_count": 33,
   "id": "775e0733",
   "metadata": {},
   "outputs": [],
   "source": [
    "sil_score = silhouette_score(taco_df, model.labels_)"
   ]
  },
  {
   "cell_type": "code",
   "execution_count": 34,
   "id": "78c9e836",
   "metadata": {},
   "outputs": [
    {
     "data": {
      "text/plain": [
       "0.6053671631580544"
      ]
     },
     "execution_count": 34,
     "metadata": {},
     "output_type": "execute_result"
    }
   ],
   "source": [
    "sil_score"
   ]
  },
  {
   "cell_type": "code",
   "execution_count": 35,
   "id": "1f592382",
   "metadata": {},
   "outputs": [],
   "source": [
    "k_range = range(1, 11)\n",
    "sse = []\n",
    "\n",
    "for k in k_range:\n",
    "    kmeans = KMeans(n_clusters=k, random_state=42)\n",
    "    kmeans.fit(taco_df)\n",
    "    sse.append(kmeans.inertia_)"
   ]
  },
  {
   "cell_type": "code",
   "execution_count": 36,
   "id": "23e413b9",
   "metadata": {},
   "outputs": [
    {
     "data": {
      "text/plain": [
       "[<matplotlib.lines.Line2D at 0x22680010d60>]"
      ]
     },
     "execution_count": 36,
     "metadata": {},
     "output_type": "execute_result"
    },
    {
     "data": {
      "image/png": "[encoded data removed]",
      "text/plain": [
       "<Figure size 640x480 with 1 Axes>"
      ]
     },
     "metadata": {},
     "output_type": "display_data"
    }
   ],
   "source": [
    "plt.plot(k_range, sse, marker='o')"
   ]
  },
  {
   "cell_type": "code",
   "execution_count": 26,
   "id": "48f9f413",
   "metadata": {},
   "outputs": [
    {
     "data": {
      "text/plain": [
       "array([[4.06618419e+04, 3.60049917e+01, 1.75806988e+00, 2.81397671e+00,\n",
       "        2.78668885e+00, 4.51813644e+00],\n",
       "       [1.52886402e+05, 4.82439024e+01, 2.20075047e+00, 2.78236398e+00,\n",
       "        3.28142589e+00, 4.51219512e+00],\n",
       "       [1.02883390e+05, 4.20176380e+01, 2.02990798e+00, 2.78220859e+00,\n",
       "        2.70092025e+00, 4.52147239e+00],\n",
       "       [2.36218874e+05, 5.64371585e+01, 2.36612022e+00, 3.04371585e+00,\n",
       "        3.90163934e+00, 4.32240437e+00],\n",
       "       [5.16775149e+03, 4.09500595e+01, 2.16052319e+00, 3.19738407e+00,\n",
       "        3.92865636e+00, 4.31034483e+00],\n",
       "       [6.91821832e+04, 3.49639175e+01, 1.76710403e+00, 2.82099344e+00,\n",
       "        2.67713215e+00, 4.50281162e+00]])"
      ]
     },
     "execution_count": 26,
     "metadata": {},
     "output_type": "execute_result"
    }
   ],
   "source": [
    "model.cluster_centers_\n"
   ]
  },
  {
   "cell_type": "code",
   "execution_count": 37,
   "id": "c32964c8",
   "metadata": {},
   "outputs": [],
   "source": [
    "# 'income', 'age', 'family_size', 'region', 'medium_code', 'ad_type_enco'"
   ]
  },
  {
   "cell_type": "markdown",
   "id": "c91d8dd2",
   "metadata": {},
   "source": [
    "### 1st Cluster: Person makes 40k a year at the age of 36 with only a family of 2. They live in the west and saw a 10% discount ad while scrolling through Instragram."
   ]
  },
  {
   "cell_type": "markdown",
   "id": "a8efd602",
   "metadata": {},
   "source": [
    "### 2nd Cluster: 150,000k income at the age of 45 with a family of 2. Lives in the west and saw a static image of a 10% discount ad through Instagram."
   ]
  },
  {
   "cell_type": "markdown",
   "id": "84ed68b5",
   "metadata": {},
   "source": [
    "### 3rd Cluster: 102,000k income at the age of 42 with a family of 2 who also live in the west. Again, they saw a 10% discount ad in Instragram."
   ]
  },
  {
   "cell_type": "markdown",
   "id": "d613d686",
   "metadata": {},
   "source": [
    "### 4th Cluster: 236,000k income at the age of 56 with a family of 2(again). They live in the west(yeah), BUT, saw a 30 second tv ad through cable, which promoted a 5% discount ad."
   ]
  },
  {
   "cell_type": "markdown",
   "id": "32a8c369",
   "metadata": {},
   "source": [
    "#### Interpret your elbow plot and/or silhouette score here."
   ]
  },
  {
   "cell_type": "markdown",
   "id": "00b8c411",
   "metadata": {},
   "source": [
    "### The silhouette score is of 0.6, which means it is pretty decent at clustering since it is closer to 1 than 0."
   ]
  },
  {
   "cell_type": "markdown",
   "id": "b72b8c68",
   "metadata": {},
   "source": [
    "### This elbow plot shows that the elbow is around 3 clusters, but that isn't that usefull. If we used 3 clusters, the silhouette score drops to 0.565, meanwhile, with 6 clusters is reached 0.6. Even so, using the 3 clusters would still result in a somewant acceptable silhouette score."
   ]
  },
  {
   "cell_type": "markdown",
   "id": "343eb3f7",
   "metadata": {},
   "source": [
    "### 4. Final Answer\n",
    "\n",
    "In the first cell seen below, describe the cluster you have chosen to target with your ad, making sure to describe the type of ad they were the most likely to respond to. Then, use software of your choosing to create the ad you will need to target this cluster. You do not need to create an ad for both the nacho fries and the Baja Blast. You can focus on one if that's what your cluster cares about most.\n",
    "\n",
    "In the second cell seen below, include a link to your ad.\n",
    "\n",
    "*Note, a level 5 ad uses the medium (static image or video) the cluster most likely responded to.* "
   ]
  },
  {
   "cell_type": "markdown",
   "id": "25533722",
   "metadata": {},
   "source": [
    "#### Describe the cluster you are targeting here.\n",
    "### Cluster #3, this person makes around 100k a year at the age of 42, which seems to be common with other clusters. They live in the west region and the| type of ad this person saw was a static image through Instagram of a 10% discount deal."
   ]
  },
  {
   "cell_type": "markdown",
   "id": "e29adde2",
   "metadata": {},
   "source": [
    "#### Link your ad here."
   ]
  }
 ],
 "metadata": {
  "kernelspec": {
   "display_name": "Python 3 (ipykernel)",
   "language": "python",
   "name": "python3"
  },
  "language_info": {
   "codemirror_mode": {
    "name": "ipython",
    "version": 3
   },
   "file_extension": ".py",
   "mimetype": "text/x-python",
   "name": "python",
   "nbconvert_exporter": "python",
   "pygments_lexer": "ipython3",
   "version": "3.9.13"
  }
 },
 "nbformat": 4,
 "nbformat_minor": 5
}
