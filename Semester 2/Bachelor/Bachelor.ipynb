{
 "cells": [
  {
   "cell_type": "markdown",
   "id": "1b940825",
   "metadata": {},
   "source": [
    "# RFP: Betting on the Bachelor\n",
    "\n",
    "## Project Overview\n",
    "You are invited to submit a proposal that answers the following question:\n",
    "\n",
    "### Who will win season 29 of the Bachelor?\n",
    "\n",
    "*All proposals must be submitted by **1/15/25 at 11:59 PM**.*"
   ]
  },
  {
   "cell_type": "markdown",
   "id": "968a85f0",
   "metadata": {},
   "source": [
    "## Required Proposal Components\n",
    "\n",
    "### 1. Data Description\n",
    "In the code cell below, read in the data you plan on using to train and test your model. Call `info()` once you have read the data into a dataframe. Consider using some or all of the following sources:\n",
    "- [Scrape Fandom Wikis](https://bachelor-nation.fandom.com/wiki/The_Bachelor) or [the official Bachelor website]('https://bachelornation.com/shows/the-bachelor/')\n",
    "- [Ask ChatGPT to genereate it](https://chatgpt.com/)\n",
    "- [Read in csv files like this](https://www.kaggle.com/datasets/brianbgonz/the-bachelor-contestants?select=contestants.csv)\n",
    "\n",
    "*Note, a level 5 dataset contains at least 1000 rows of non-null data. A level 4 contains at least 500 rows of non-null data.*"
   ]
  },
  {
   "cell_type": "code",
   "execution_count": 11,
   "id": "08c1688a",
   "metadata": {},
   "outputs": [],
   "source": [
    "# Read data into a dataframe.\n",
    "# Don't forget to call info()!\n",
    "import pandas as pd\n",
    "import seaborn as sn\n",
    "import numpy as np\n",
    "import requests\n",
    "\n",
    "from sklearn.linear_model import LinearRegression\n",
    "from sklearn.model_selection import train_test_split\n",
    "\n",
    "df = pd.read_csv(\"contestants.csv\")"
   ]
  },
  {
   "cell_type": "code",
   "execution_count": 15,
   "id": "e1dcfb21",
   "metadata": {},
   "outputs": [
    {
     "name": "stdout",
     "output_type": "stream",
     "text": [
      "<class 'pandas.core.frame.DataFrame'>\n",
      "Int64Index: 405 entries, 1 to 422\n",
      "Data columns (total 6 columns):\n",
      " #   Column      Non-Null Count  Dtype  \n",
      "---  ------      --------------  -----  \n",
      " 0   Name        405 non-null    object \n",
      " 1   Age         405 non-null    float64\n",
      " 2   Occupation  405 non-null    object \n",
      " 3   Hometown    405 non-null    object \n",
      " 4   ElimWeek    405 non-null    float64\n",
      " 5   Season      405 non-null    int64  \n",
      "dtypes: float64(2), int64(1), object(3)\n",
      "memory usage: 22.1+ KB\n"
     ]
    }
   ],
   "source": [
    "df = df.drop(\"Height\", axis=1)\n",
    "df = df.dropna(subset=[\"ElimWeek\", \"Age\"])\n",
    "df.info()"
   ]
  },
  {
   "cell_type": "code",
   "execution_count": 20,
   "id": "ef02541f",
   "metadata": {},
   "outputs": [
    {
     "name": "stdout",
     "output_type": "stream",
     "text": [
      "<class 'pandas.core.frame.DataFrame'>\n",
      "RangeIndex: 174 entries, 0 to 173\n",
      "Data columns (total 8 columns):\n",
      " #   Column            Non-Null Count  Dtype \n",
      "---  ------            --------------  ----- \n",
      " 0   Name              174 non-null    object\n",
      " 1   Age               174 non-null    int64 \n",
      " 2   Occupation        174 non-null    object\n",
      " 3   Height            174 non-null    object\n",
      " 4   Hometown          174 non-null    object\n",
      " 5   Ethnicity         174 non-null    object\n",
      " 6   Elimination Week  174 non-null    int64 \n",
      " 7   Season            174 non-null    int64 \n",
      "dtypes: int64(3), object(5)\n",
      "memory usage: 11.0+ KB\n"
     ]
    }
   ],
   "source": [
    "df2 = pd.read_csv(\"chatContestants.csv\")\n",
    "df2.info()"
   ]
  },
  {
   "cell_type": "code",
   "execution_count": 28,
   "id": "b011f291",
   "metadata": {},
   "outputs": [
    {
     "data": {
      "text/html": [
       "<div>\n",
       "<style scoped>\n",
       "    .dataframe tbody tr th:only-of-type {\n",
       "        vertical-align: middle;\n",
       "    }\n",
       "\n",
       "    .dataframe tbody tr th {\n",
       "        vertical-align: top;\n",
       "    }\n",
       "\n",
       "    .dataframe thead th {\n",
       "        text-align: right;\n",
       "    }\n",
       "</style>\n",
       "<table border=\"1\" class=\"dataframe\">\n",
       "  <thead>\n",
       "    <tr style=\"text-align: right;\">\n",
       "      <th></th>\n",
       "      <th>Name</th>\n",
       "      <th>Age</th>\n",
       "      <th>Occupation</th>\n",
       "      <th>Hometown</th>\n",
       "      <th>ElimWeek</th>\n",
       "      <th>Season</th>\n",
       "    </tr>\n",
       "  </thead>\n",
       "  <tbody>\n",
       "    <tr>\n",
       "      <th>1</th>\n",
       "      <td>Trista Rehn</td>\n",
       "      <td>29.0</td>\n",
       "      <td>Miami Heat Dancer</td>\n",
       "      <td>Miami, Florida</td>\n",
       "      <td>6.0</td>\n",
       "      <td>1</td>\n",
       "    </tr>\n",
       "    <tr>\n",
       "      <th>2</th>\n",
       "      <td>Shannon Oliver</td>\n",
       "      <td>24.0</td>\n",
       "      <td>Financial Management Consultant</td>\n",
       "      <td>Dallas, Texas</td>\n",
       "      <td>5.0</td>\n",
       "      <td>1</td>\n",
       "    </tr>\n",
       "    <tr>\n",
       "      <th>3</th>\n",
       "      <td>Kim</td>\n",
       "      <td>24.0</td>\n",
       "      <td>Nanny</td>\n",
       "      <td>Tempe, Arizona</td>\n",
       "      <td>4.0</td>\n",
       "      <td>1</td>\n",
       "    </tr>\n",
       "    <tr>\n",
       "      <th>4</th>\n",
       "      <td>Cathy Grimes</td>\n",
       "      <td>22.0</td>\n",
       "      <td>Graduate Student</td>\n",
       "      <td>Terra Haute, Indiana</td>\n",
       "      <td>3.0</td>\n",
       "      <td>1</td>\n",
       "    </tr>\n",
       "    <tr>\n",
       "      <th>5</th>\n",
       "      <td>Christina</td>\n",
       "      <td>28.0</td>\n",
       "      <td>Attorney</td>\n",
       "      <td>Bonita, California</td>\n",
       "      <td>3.0</td>\n",
       "      <td>1</td>\n",
       "    </tr>\n",
       "  </tbody>\n",
       "</table>\n",
       "</div>"
      ],
      "text/plain": [
       "             Name   Age                       Occupation  \\\n",
       "1     Trista Rehn  29.0                Miami Heat Dancer   \n",
       "2  Shannon Oliver  24.0  Financial Management Consultant   \n",
       "3             Kim  24.0                            Nanny   \n",
       "4    Cathy Grimes  22.0                 Graduate Student   \n",
       "5       Christina  28.0                         Attorney   \n",
       "\n",
       "               Hometown  ElimWeek  Season  \n",
       "1        Miami, Florida       6.0       1  \n",
       "2         Dallas, Texas       5.0       1  \n",
       "3        Tempe, Arizona       4.0       1  \n",
       "4  Terra Haute, Indiana       3.0       1  \n",
       "5    Bonita, California       3.0       1  "
      ]
     },
     "execution_count": 28,
     "metadata": {},
     "output_type": "execute_result"
    }
   ],
   "source": [
    "df.head()"
   ]
  },
  {
   "cell_type": "code",
   "execution_count": 30,
   "id": "2208482c",
   "metadata": {},
   "outputs": [
    {
     "data": {
      "text/plain": [
       "15    29\n",
       "19    29\n",
       "20    27\n",
       "21    27\n",
       "18    26\n",
       "9     25\n",
       "11    25\n",
       "17    25\n",
       "1     24\n",
       "2     24\n",
       "5     24\n",
       "10    24\n",
       "12    24\n",
       "13    24\n",
       "14    24\n",
       "16    24\n",
       "Name: Season, dtype: int64"
      ]
     },
     "execution_count": 30,
     "metadata": {},
     "output_type": "execute_result"
    }
   ],
   "source": [
    "df[\"Season\"].value_counts()"
   ]
  },
  {
   "cell_type": "markdown",
   "id": "880ff05f",
   "metadata": {},
   "source": [
    "### 2. Training Your Model\n",
    "In the cell seen below, write the code you need to train a linear regression model. Make sure you display the equation of the plane that best fits your chosen data at the end of your program. \n",
    "\n",
    "*Note, level 5 work trains a model using only the standard Python library and Pandas. A level 5 model is trained with at least two features, where one of the features begins as a categorical value (e.g. occupation, hometown, etc.). A level 4 uses external libraries like scikit or numpy.*"
   ]
  },
  {
   "cell_type": "code",
   "execution_count": 36,
   "id": "dd812b6d",
   "metadata": {},
   "outputs": [],
   "source": [
    "X = df[[\"Age\", \"Season\"]]\n",
    "y = df[[\"ElimWeek\"]]"
   ]
  },
  {
   "cell_type": "code",
   "execution_count": 37,
   "id": "24d35a10",
   "metadata": {},
   "outputs": [],
   "source": [
    "X_train, X_test, y_train, y_test = train_test_split(X, y, test_size=0.2, random_state=42)"
   ]
  },
  {
   "cell_type": "code",
   "execution_count": 39,
   "id": "a87a9144",
   "metadata": {},
   "outputs": [
    {
     "data": {
      "text/plain": [
       "LinearRegression()"
      ]
     },
     "execution_count": 39,
     "metadata": {},
     "output_type": "execute_result"
    }
   ],
   "source": [
    "# Train model here.\n",
    "# Don't forget to display the equation of the plane that best fits your data!\n",
    "model = LinearRegression()\n",
    "model.fit(X_train, y_train)"
   ]
  },
  {
   "cell_type": "code",
   "execution_count": 40,
   "id": "f42d8f27",
   "metadata": {},
   "outputs": [
    {
     "name": "stdout",
     "output_type": "stream",
     "text": [
      "[-0.08451196  0.09333178] [4.12475036]\n"
     ]
    }
   ],
   "source": [
    "slope = model.coef_[0]\n",
    "intercept = model.intercept_\n",
    "\n",
    "print(slope, intercept)"
   ]
  },
  {
   "cell_type": "markdown",
   "id": "c8fa946a",
   "metadata": {},
   "source": [
    "#### y = -0.08x + 5.3"
   ]
  },
  {
   "cell_type": "markdown",
   "id": "cfb2b903",
   "metadata": {},
   "source": [
    "### 3. Testing Your Model\n",
    "In the cell seen below, write the code you need to test your linear regression model. \n",
    "\n",
    "*Note, a model is considered a level 5 if it achieves at least 60% prediction accuracy or achieves an RMSE of 2 weeks or less.*"
   ]
  },
  {
   "cell_type": "code",
   "execution_count": 2,
   "id": "24f8b990",
   "metadata": {},
   "outputs": [],
   "source": [
    "# Test model here."
   ]
  },
  {
   "cell_type": "code",
   "execution_count": 25,
   "id": "74ee1d60",
   "metadata": {},
   "outputs": [],
   "source": [
    "from sklearn.metrics import mean_squared_error, r2_score"
   ]
  },
  {
   "cell_type": "code",
   "execution_count": 33,
   "id": "aa968f25",
   "metadata": {},
   "outputs": [
    {
     "name": "stdout",
     "output_type": "stream",
     "text": [
      "5.8683478107448765 -0.004336132781123103\n"
     ]
    }
   ],
   "source": [
    "y_pred = model.predict(X_test)\n",
    "mse = mean_squared_error(y_test, y_pred)\n",
    "r2 = r2_score(y_test, y_pred)\n",
    "print(mse, r2)"
   ]
  },
  {
   "cell_type": "code",
   "execution_count": 35,
   "id": "3fe00300",
   "metadata": {},
   "outputs": [
    {
     "data": {
      "text/plain": [
       "array([[3.14868318],\n",
       "       [2.98190696],\n",
       "       [3.06529507],\n",
       "       [3.31545939],\n",
       "       [3.31545939],\n",
       "       [3.06529507],\n",
       "       [3.31545939],\n",
       "       [3.31545939],\n",
       "       [3.3988475 ],\n",
       "       [2.98190696],\n",
       "       [3.06529507],\n",
       "       [2.98190696],\n",
       "       [3.23207128],\n",
       "       [3.23207128],\n",
       "       [2.56496642],\n",
       "       [2.98190696],\n",
       "       [2.89851885],\n",
       "       [3.31545939],\n",
       "       [3.23207128],\n",
       "       [3.14868318],\n",
       "       [3.14868318],\n",
       "       [3.23207128],\n",
       "       [3.14868318],\n",
       "       [3.06529507],\n",
       "       [3.23207128],\n",
       "       [3.06529507],\n",
       "       [3.06529507],\n",
       "       [3.31545939],\n",
       "       [3.31545939],\n",
       "       [2.81513074],\n",
       "       [3.23207128],\n",
       "       [2.98190696],\n",
       "       [2.89851885],\n",
       "       [3.3988475 ],\n",
       "       [3.06529507],\n",
       "       [3.31545939],\n",
       "       [3.48223561],\n",
       "       [3.31545939],\n",
       "       [2.81513074],\n",
       "       [2.98190696],\n",
       "       [3.23207128],\n",
       "       [3.3988475 ],\n",
       "       [2.98190696],\n",
       "       [3.14868318],\n",
       "       [3.14868318],\n",
       "       [2.89851885],\n",
       "       [2.73174264],\n",
       "       [3.3988475 ],\n",
       "       [2.48157831],\n",
       "       [2.89851885],\n",
       "       [2.3981902 ],\n",
       "       [2.89851885],\n",
       "       [3.06529507],\n",
       "       [2.98190696],\n",
       "       [3.23207128],\n",
       "       [2.81513074],\n",
       "       [3.23207128],\n",
       "       [3.3988475 ],\n",
       "       [2.89851885],\n",
       "       [3.14868318],\n",
       "       [3.14868318],\n",
       "       [3.3988475 ],\n",
       "       [3.31545939],\n",
       "       [3.31545939],\n",
       "       [2.81513074],\n",
       "       [3.31545939],\n",
       "       [3.14868318],\n",
       "       [3.06529507],\n",
       "       [3.48223561],\n",
       "       [2.98190696],\n",
       "       [3.14868318],\n",
       "       [2.89851885],\n",
       "       [3.48223561],\n",
       "       [3.06529507],\n",
       "       [3.31545939],\n",
       "       [3.3988475 ],\n",
       "       [3.14868318],\n",
       "       [2.48157831],\n",
       "       [3.31545939],\n",
       "       [3.3988475 ],\n",
       "       [3.31545939]])"
      ]
     },
     "execution_count": 35,
     "metadata": {},
     "output_type": "execute_result"
    }
   ],
   "source": [
    "model.predict(X_test)"
   ]
  },
  {
   "cell_type": "markdown",
   "id": "343eb3f7",
   "metadata": {},
   "source": [
    "### 4. Final Answer\n",
    "\n",
    "In the first cell seen below, state the name of your predicted winner. \n",
    "In the second cell seen below, justify your prediction using an evaluation technique like RMSE or percent accuracy."
   ]
  },
  {
   "cell_type": "markdown",
   "id": "25533722",
   "metadata": {},
   "source": [
    "#### State the name of your predicted winner here."
   ]
  },
  {
   "cell_type": "markdown",
   "id": "e29adde2",
   "metadata": {},
   "source": [
    "#### Justify your prediction here."
   ]
  }
 ],
 "metadata": {
  "kernelspec": {
   "display_name": "Python 3 (ipykernel)",
   "language": "python",
   "name": "python3"
  },
  "language_info": {
   "codemirror_mode": {
    "name": "ipython",
    "version": 3
   },
   "file_extension": ".py",
   "mimetype": "text/x-python",
   "name": "python",
   "nbconvert_exporter": "python",
   "pygments_lexer": "ipython3",
   "version": "3.9.13"
  }
 },
 "nbformat": 4,
 "nbformat_minor": 5
}
