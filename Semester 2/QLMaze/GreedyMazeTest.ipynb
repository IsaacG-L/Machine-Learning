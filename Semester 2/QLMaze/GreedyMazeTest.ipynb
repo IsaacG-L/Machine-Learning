{
 "cells": [
  {
   "cell_type": "code",
   "execution_count": 1,
   "id": "5fd21259-d911-4808-8d14-e259d2b46775",
   "metadata": {},
   "outputs": [],
   "source": [
    "import pandas as pd\n",
    "import math\n",
    "import random\n",
    "import sys"
   ]
  },
  {
   "cell_type": "code",
   "execution_count": 2,
   "id": "7d1c5257-d574-44a0-a43b-03cef69c4333",
   "metadata": {},
   "outputs": [
    {
     "name": "stdout",
     "output_type": "stream",
     "text": [
      "Requirement already satisfied: gymnasium[toy-text] in c:\\users\\isaac\\anaconda3\\lib\\site-packages (1.0.0)\n",
      "Requirement already satisfied: numpy>=1.21.0 in c:\\users\\isaac\\anaconda3\\lib\\site-packages (from gymnasium[toy-text]) (1.26.4)\n",
      "Requirement already satisfied: cloudpickle>=1.2.0 in c:\\users\\isaac\\anaconda3\\lib\\site-packages (from gymnasium[toy-text]) (2.2.1)\n",
      "Requirement already satisfied: typing-extensions>=4.3.0 in c:\\users\\isaac\\anaconda3\\lib\\site-packages (from gymnasium[toy-text]) (4.11.0)\n",
      "Requirement already satisfied: farama-notifications>=0.0.1 in c:\\users\\isaac\\anaconda3\\lib\\site-packages (from gymnasium[toy-text]) (0.0.4)\n",
      "Requirement already satisfied: pygame>=2.1.3 in c:\\users\\isaac\\anaconda3\\lib\\site-packages (from gymnasium[toy-text]) (2.6.1)\n"
     ]
    }
   ],
   "source": [
    "!pip install \"gymnasium[toy-text]\"\n",
    "import gymnasium as gym"
   ]
  },
  {
   "cell_type": "code",
   "execution_count": 3,
   "id": "e00c6d12-9a5d-4fbb-ac4a-b2572b2a53eb",
   "metadata": {},
   "outputs": [],
   "source": [
    "desc=[\"SFFFFFFHFF\", \"FFFFFHFFFF\", \"FHFHFFFHFF\", \"FHFHFFFFFF\", \"FFFHFFFFFF\", \"FHFFHFFHFF\", \"FFFHFFHFFF\", \n",
    "      \"FFFFFFFFFF\", \"FFFHHFFFFF\", \"FHFFFHFFFG\"]\n",
    "#theLake = gym.make('FrozenLake-v1', desc=desc, render_mode='human', is_slippery=False)\n",
    "theLake = gym.make('FrozenLake-v1', desc=desc, render_mode=None , is_slippery=False)\n",
    "\n",
    "initial_state= theLake.reset()\n",
    "#theLake.render()"
   ]
  },
  {
   "cell_type": "code",
   "execution_count": 4,
   "id": "0011c3f1-1b00-45d9-b69b-0240bfff0af6",
   "metadata": {},
   "outputs": [],
   "source": [
    "newDesc = [\"S\", \"F\", \"F\", \"F\", \"F\", \"F\", \"F\", \"H\", \"F\", \"F\",\n",
    "           \"F\", \"F\", \"F\", \"F\", \"F\", \"H\",  \"F\", \"F\", \"F\", \"F\",\n",
    "           \"F\", \"H\",  \"F\", \"H\",  \"F\", \"F\", \"F\", \"H\",  \"F\", \"F\",\n",
    "            \"F\", \"H\", \"F\", \"H\",  \"F\", \"F\", \"F\", \"F\", \"F\", \"F\",\n",
    "           \"F\", \"F\", \"F\", \"H\",  \"F\", \"F\", \"F\", \"F\", \"F\", \"F\",\n",
    "           \"F\", \"H\",  \"F\", \"F\", \"H\",  \"F\", \"F\", \"H\",  \"F\", \"F\",\n",
    "           \"F\", \"F\", \"F\", \"H\", \"F\", \"F\", \"H\", \"F\", \"F\", \"F\",\n",
    "           \"F\", \"F\", \"F\", \"F\", \"F\", \"F\", \"F\", \"F\", \"F\", \"F\",\n",
    "           \"F\", \"F\", \"F\", \"H\", \"H\", \"F\", \"F\", \"F\", \"F\", \"F\",\n",
    "           \"F\", \"H\", \"F\", \"F\", \"F\", \"H\", \"F\", \"F\", \"F\", \"G\"]\n",
    "def getReward(state):\n",
    "    if newDesc[state] == \"G\":\n",
    "        return 77\n",
    "    elif newDesc[state] == \"H\":\n",
    "        return -77\n",
    "    else:\n",
    "        return -1"
   ]
  },
  {
   "cell_type": "code",
   "execution_count": null,
   "id": "5e42d4b7-533e-4bfd-b900-b86412fe2fb4",
   "metadata": {},
   "outputs": [],
   "source": []
  },
  {
   "cell_type": "code",
   "execution_count": 19,
   "id": "6fcff77d-5002-4601-9aa2-5f29027d148c",
   "metadata": {},
   "outputs": [],
   "source": [
    "q = {state: [0, 0, 0, 0] for state in range(100)}\n"
   ]
  },
  {
   "cell_type": "code",
   "execution_count": 30,
   "id": "b2d66975-2105-4c17-9c05-63404adfb780",
   "metadata": {},
   "outputs": [],
   "source": [
    "\n",
    "def qTabling(q, alpha, gamma, current_state, next_state, action, reward):\n",
    "    current_q = q[current_state][action]\n",
    "    reward = getReward(next_state)\n",
    "    next_max_q = max(q[next_state])  # Directly get the max Q-value for next state\n",
    "    new_q = ((1 - alpha) * current_q) + (alpha * (reward + (gamma * next_max_q)))\n",
    "    q[current_state][action] = new_q"
   ]
  },
  {
   "cell_type": "code",
   "execution_count": 27,
   "id": "2099902c-4921-4ba0-8420-f107d0fd8607",
   "metadata": {},
   "outputs": [],
   "source": [
    "\n",
    "alpha = 0.4\n",
    "gamma = 0.6\n",
    "epsilon = 0.1  # Exploration factor\n",
    "num_episodes = 100000\n",
    "\n",
    "for episode in range(num_episodes):\n",
    "    current_state, _ = theLake.reset()\n",
    "    terminated = False\n",
    "\n",
    "    while not terminated:\n",
    "        # Epsilon-greedy action selection\n",
    "        if random.uniform(0, 1) < epsilon:\n",
    "            action = random.randint(0, 3)\n",
    "        else:\n",
    "            action = max(range(4), key=lambda a: q[current_state][a])\n",
    "\n",
    "        # Take the action\n",
    "        new_state, reward, terminated, truncated, info = theLake.step(action)\n",
    "\n",
    "        # Update Q-table\n",
    "        qTabling(q, alpha, gamma, current_state, new_state, action, reward)\n",
    "\n",
    "        # Move to the next state\n",
    "        current_state = new_state"
   ]
  },
  {
   "cell_type": "code",
   "execution_count": 31,
   "id": "58d4f82c-a1db-4385-a09b-0f363a39f99e",
   "metadata": {},
   "outputs": [
    {
     "ename": "NameError",
     "evalue": "name 'new_q' is not defined",
     "output_type": "error",
     "traceback": [
      "\u001b[1;31m---------------------------------------------------------------------------\u001b[0m",
      "\u001b[1;31mNameError\u001b[0m                                 Traceback (most recent call last)",
      "Cell \u001b[1;32mIn[31], line 1\u001b[0m\n\u001b[1;32m----> 1\u001b[0m df \u001b[38;5;241m=\u001b[39m pd\u001b[38;5;241m.\u001b[39mDataFrame(new_q)\n\u001b[0;32m      2\u001b[0m df \u001b[38;5;241m=\u001b[39m df\u001b[38;5;241m.\u001b[39mT\n\u001b[0;32m      3\u001b[0m df\u001b[38;5;241m.\u001b[39mcolumns \u001b[38;5;241m=\u001b[39m [\u001b[38;5;124m\"\u001b[39m\u001b[38;5;124mLeft\u001b[39m\u001b[38;5;124m\"\u001b[39m, \u001b[38;5;124m\"\u001b[39m\u001b[38;5;124mDown\u001b[39m\u001b[38;5;124m\"\u001b[39m, \u001b[38;5;124m\"\u001b[39m\u001b[38;5;124mRight\u001b[39m\u001b[38;5;124m\"\u001b[39m, \u001b[38;5;124m\"\u001b[39m\u001b[38;5;124mUp\u001b[39m\u001b[38;5;124m\"\u001b[39m]\n",
      "\u001b[1;31mNameError\u001b[0m: name 'new_q' is not defined"
     ]
    }
   ],
   "source": [
    "df = pd.DataFrame(new_q)\n",
    "df = df.T\n",
    "df.columns = [\"Left\", \"Down\", \"Right\", \"Up\"]\n",
    "df.tail()"
   ]
  },
  {
   "cell_type": "code",
   "execution_count": null,
   "id": "b7e2c2ff-4f86-456c-88f9-3cd60046d34e",
   "metadata": {},
   "outputs": [],
   "source": [
    "# There is an error because in the qtabling function, you didn't type the \"return new_q\"!!!"
   ]
  },
  {
   "cell_type": "code",
   "execution_count": null,
   "id": "09342c81-6cfd-4375-85ce-8859bd8c7cdd",
   "metadata": {},
   "outputs": [],
   "source": []
  },
  {
   "cell_type": "code",
   "execution_count": null,
   "id": "d6d16b9f-0700-40aa-b317-94d105a484a8",
   "metadata": {},
   "outputs": [],
   "source": []
  }
 ],
 "metadata": {
  "kernelspec": {
   "display_name": "Python 3 (ipykernel)",
   "language": "python",
   "name": "python3"
  },
  "language_info": {
   "codemirror_mode": {
    "name": "ipython",
    "version": 3
   },
   "file_extension": ".py",
   "mimetype": "text/x-python",
   "name": "python",
   "nbconvert_exporter": "python",
   "pygments_lexer": "ipython3",
   "version": "3.12.4"
  }
 },
 "nbformat": 4,
 "nbformat_minor": 5
}
