{
 "cells": [
  {
   "cell_type": "code",
   "execution_count": 1,
   "id": "c5229c75",
   "metadata": {},
   "outputs": [],
   "source": [
    "import pandas as pd\n",
    "import math\n",
    "import random\n",
    "import sys"
   ]
  },
  {
   "cell_type": "code",
   "execution_count": 2,
   "id": "3763bc97",
   "metadata": {},
   "outputs": [
    {
     "name": "stdout",
     "output_type": "stream",
     "text": [
      "Requirement already satisfied: gymnasium[toy-text] in c:\\users\\isaac\\anaconda3\\lib\\site-packages (1.0.0)\n",
      "Requirement already satisfied: numpy>=1.21.0 in c:\\users\\isaac\\anaconda3\\lib\\site-packages (from gymnasium[toy-text]) (1.26.4)\n",
      "Requirement already satisfied: cloudpickle>=1.2.0 in c:\\users\\isaac\\anaconda3\\lib\\site-packages (from gymnasium[toy-text]) (2.2.1)\n",
      "Requirement already satisfied: typing-extensions>=4.3.0 in c:\\users\\isaac\\anaconda3\\lib\\site-packages (from gymnasium[toy-text]) (4.11.0)\n",
      "Requirement already satisfied: farama-notifications>=0.0.1 in c:\\users\\isaac\\anaconda3\\lib\\site-packages (from gymnasium[toy-text]) (0.0.4)\n",
      "Requirement already satisfied: pygame>=2.1.3 in c:\\users\\isaac\\anaconda3\\lib\\site-packages (from gymnasium[toy-text]) (2.6.1)\n"
     ]
    }
   ],
   "source": [
    "!pip install \"gymnasium[toy-text]\"\n",
    "import gymnasium as gym"
   ]
  },
  {
   "cell_type": "code",
   "execution_count": 3,
   "id": "f3d64adc",
   "metadata": {},
   "outputs": [],
   "source": [
    "desc=[\"SFFFFFFHFF\", \"FFFFFHFFFF\", \"FHFHFFFHFF\", \"FHFHFFFFFF\", \"FFFHFFFFFF\", \"FHFFHFFHFF\", \"FFFHFFHFFF\", \n",
    "      \"FFFFFFFFFF\", \"FFFHHFFFFF\", \"FHFFFHFFFG\"]\n",
    "#theLake = gym.make('FrozenLake-v1', desc=desc, render_mode='human', is_slippery=False)\n",
    "theLake = gym.make('FrozenLake-v1', desc=desc, render_mode=None , is_slippery=False)\n",
    "\n",
    "initial_state= theLake.reset()\n",
    "#theLake.render()"
   ]
  },
  {
   "cell_type": "code",
   "execution_count": 4,
   "id": "eb787ab3",
   "metadata": {},
   "outputs": [],
   "source": [
    "#theLake.close()"
   ]
  },
  {
   "cell_type": "code",
   "execution_count": 5,
   "id": "81e91bfd",
   "metadata": {},
   "outputs": [],
   "source": [
    "#Testing"
   ]
  },
  {
   "cell_type": "code",
   "execution_count": null,
   "id": "938f3245",
   "metadata": {},
   "outputs": [],
   "source": []
  },
  {
   "cell_type": "code",
   "execution_count": 6,
   "id": "e1324f46",
   "metadata": {},
   "outputs": [],
   "source": [
    "q = {state: [0, 0, 0, 0] for state in range(100)}\n",
    "\n",
    "# Print the Q-table to check\n",
    "#for state, actions in q_table.items():\n",
    "  #  print(f\"State {state}: {actions}\")\n"
   ]
  },
  {
   "cell_type": "code",
   "execution_count": 7,
   "id": "e15dfaa3",
   "metadata": {},
   "outputs": [],
   "source": [
    "newDesc = [\"S\", \"F\", \"F\", \"F\", \"F\", \"F\", \"F\", \"H\", \"F\", \"F\",\n",
    "           \"F\", \"F\", \"F\", \"F\", \"F\", \"H\",  \"F\", \"F\", \"F\", \"F\",\n",
    "           \"F\", \"H\",  \"F\", \"H\",  \"F\", \"F\", \"F\", \"H\",  \"F\", \"F\",\n",
    "            \"F\", \"H\", \"F\", \"H\",  \"F\", \"F\", \"F\", \"F\", \"F\", \"F\",\n",
    "           \"F\", \"F\", \"F\", \"H\",  \"F\", \"F\", \"F\", \"F\", \"F\", \"F\",\n",
    "           \"F\", \"H\",  \"F\", \"F\", \"H\",  \"F\", \"F\", \"H\",  \"F\", \"F\",\n",
    "           \"F\", \"F\", \"F\", \"H\", \"F\", \"F\", \"H\", \"F\", \"F\", \"F\",\n",
    "           \"F\", \"F\", \"F\", \"F\", \"F\", \"F\", \"F\", \"F\", \"F\", \"F\",\n",
    "           \"F\", \"F\", \"F\", \"H\", \"H\", \"F\", \"F\", \"F\", \"F\", \"F\",\n",
    "           \"F\", \"H\", \"F\", \"F\", \"F\", \"H\", \"F\", \"F\", \"F\", \"G\"]\n",
    "def getReward(state):\n",
    "    if newDesc[state] == \"G\":\n",
    "        return 77\n",
    "    elif newDesc[state] == \"H\":\n",
    "        return -77\n",
    "    else:\n",
    "        return -1"
   ]
  },
  {
   "cell_type": "code",
   "execution_count": 8,
   "id": "a9b103d0",
   "metadata": {},
   "outputs": [],
   "source": [
    "def qTabling(q, alpha, gamma, current_state, next_state, action):\n",
    "    current_q = q[current_state][action]\n",
    "    reward = getReward(next_state)\n",
    "    next_state_row = [q[next_state][0], q[next_state][1], q[next_state][2], q[next_state][3]] \n",
    "    next_max_q = max(next_state_row)\n",
    "    new_q = ((1-alpha) * current_q) + (alpha * (reward + (gamma * next_max_q)))\n",
    "    q[current_state][action] = new_q"
   ]
  },
  {
   "cell_type": "code",
   "execution_count": 29,
   "id": "ff990ba7-807d-44ff-ae3c-6db9f46711a7",
   "metadata": {},
   "outputs": [],
   "source": [
    "current_state = 0\n",
    "alpha = 0.4\n",
    "gamma = 0.6\n",
    "terminated = False\n",
    "for episode in range(100000):\n",
    "    while not terminated:\n",
    "        action = random.randint(0, 3)\n",
    "        new_state, reward, terminated, truncated, info = theLake.step(action)\n",
    "        qTabling(q, alpha, gamma, current_state, new_state, action)\n",
    "        current_state = new_state\n",
    "    initial = theLake.reset()\n",
    "    terminated = False"
   ]
  },
  {
   "cell_type": "code",
   "execution_count": 30,
   "id": "9f226db7-2d4a-448e-a9aa-3ef0d7f6b199",
   "metadata": {},
   "outputs": [],
   "source": [
    "#theLake.close()"
   ]
  },
  {
   "cell_type": "code",
   "execution_count": 31,
   "id": "8aad629d",
   "metadata": {
    "scrolled": true
   },
   "outputs": [
    {
     "data": {
      "text/html": [
       "<div>\n",
       "<style scoped>\n",
       "    .dataframe tbody tr th:only-of-type {\n",
       "        vertical-align: middle;\n",
       "    }\n",
       "\n",
       "    .dataframe tbody tr th {\n",
       "        vertical-align: top;\n",
       "    }\n",
       "\n",
       "    .dataframe thead th {\n",
       "        text-align: right;\n",
       "    }\n",
       "</style>\n",
       "<table border=\"1\" class=\"dataframe\">\n",
       "  <thead>\n",
       "    <tr style=\"text-align: right;\">\n",
       "      <th></th>\n",
       "      <th>Left</th>\n",
       "      <th>Down</th>\n",
       "      <th>Right</th>\n",
       "      <th>Up</th>\n",
       "    </tr>\n",
       "  </thead>\n",
       "  <tbody>\n",
       "    <tr>\n",
       "      <th>0</th>\n",
       "      <td>-2.495027</td>\n",
       "      <td>-2.491712</td>\n",
       "      <td>-2.491712</td>\n",
       "      <td>-2.495027</td>\n",
       "    </tr>\n",
       "    <tr>\n",
       "      <th>1</th>\n",
       "      <td>-2.495027</td>\n",
       "      <td>-2.486186</td>\n",
       "      <td>-2.486186</td>\n",
       "      <td>-2.491712</td>\n",
       "    </tr>\n",
       "    <tr>\n",
       "      <th>2</th>\n",
       "      <td>-2.491712</td>\n",
       "      <td>-2.476977</td>\n",
       "      <td>-2.476976</td>\n",
       "      <td>-2.486186</td>\n",
       "    </tr>\n",
       "    <tr>\n",
       "      <th>3</th>\n",
       "      <td>-2.486186</td>\n",
       "      <td>-2.461626</td>\n",
       "      <td>-2.461627</td>\n",
       "      <td>-2.476977</td>\n",
       "    </tr>\n",
       "    <tr>\n",
       "      <th>4</th>\n",
       "      <td>-2.476977</td>\n",
       "      <td>-2.436042</td>\n",
       "      <td>-2.436226</td>\n",
       "      <td>-2.461628</td>\n",
       "    </tr>\n",
       "    <tr>\n",
       "      <th>...</th>\n",
       "      <td>...</td>\n",
       "      <td>...</td>\n",
       "      <td>...</td>\n",
       "      <td>...</td>\n",
       "    </tr>\n",
       "    <tr>\n",
       "      <th>95</th>\n",
       "      <td>-2.380676</td>\n",
       "      <td>-2.468925</td>\n",
       "      <td>-2.376288</td>\n",
       "      <td>-2.303174</td>\n",
       "    </tr>\n",
       "    <tr>\n",
       "      <th>96</th>\n",
       "      <td>-76.009702</td>\n",
       "      <td>4.056553</td>\n",
       "      <td>11.677390</td>\n",
       "      <td>1.606281</td>\n",
       "    </tr>\n",
       "    <tr>\n",
       "      <th>97</th>\n",
       "      <td>5.532343</td>\n",
       "      <td>9.659435</td>\n",
       "      <td>33.986631</td>\n",
       "      <td>4.192001</td>\n",
       "    </tr>\n",
       "    <tr>\n",
       "      <th>98</th>\n",
       "      <td>6.423081</td>\n",
       "      <td>22.541312</td>\n",
       "      <td>75.236746</td>\n",
       "      <td>18.210874</td>\n",
       "    </tr>\n",
       "    <tr>\n",
       "      <th>99</th>\n",
       "      <td>-2.378703</td>\n",
       "      <td>-1.955503</td>\n",
       "      <td>-1.597931</td>\n",
       "      <td>-0.999043</td>\n",
       "    </tr>\n",
       "  </tbody>\n",
       "</table>\n",
       "<p>100 rows × 4 columns</p>\n",
       "</div>"
      ],
      "text/plain": [
       "         Left       Down      Right         Up\n",
       "0   -2.495027  -2.491712  -2.491712  -2.495027\n",
       "1   -2.495027  -2.486186  -2.486186  -2.491712\n",
       "2   -2.491712  -2.476977  -2.476976  -2.486186\n",
       "3   -2.486186  -2.461626  -2.461627  -2.476977\n",
       "4   -2.476977  -2.436042  -2.436226  -2.461628\n",
       "..        ...        ...        ...        ...\n",
       "95  -2.380676  -2.468925  -2.376288  -2.303174\n",
       "96 -76.009702   4.056553  11.677390   1.606281\n",
       "97   5.532343   9.659435  33.986631   4.192001\n",
       "98   6.423081  22.541312  75.236746  18.210874\n",
       "99  -2.378703  -1.955503  -1.597931  -0.999043\n",
       "\n",
       "[100 rows x 4 columns]"
      ]
     },
     "execution_count": 31,
     "metadata": {},
     "output_type": "execute_result"
    }
   ],
   "source": [
    "df = pd.DataFrame(q)\n",
    "df = df.T\n",
    "df.columns = [\"Left\", \"Down\", \"Right\", \"Up\"]\n",
    "df.head(100)"
   ]
  },
  {
   "cell_type": "code",
   "execution_count": 16,
   "id": "131d5ab0",
   "metadata": {},
   "outputs": [],
   "source": [
    "theLake.close()"
   ]
  },
  {
   "cell_type": "code",
   "execution_count": 32,
   "id": "e883ba5a",
   "metadata": {},
   "outputs": [
    {
     "name": "stdout",
     "output_type": "stream",
     "text": [
      "21\n"
     ]
    }
   ],
   "source": [
    "print(current_state)"
   ]
  },
  {
   "cell_type": "code",
   "execution_count": 33,
   "id": "89b3e916-1ae9-49e2-8e75-53c5e9e6c774",
   "metadata": {},
   "outputs": [
    {
     "data": {
      "text/plain": [
       "dict"
      ]
     },
     "execution_count": 33,
     "metadata": {},
     "output_type": "execute_result"
    }
   ],
   "source": [
    "type(q)"
   ]
  },
  {
   "cell_type": "code",
   "execution_count": 34,
   "id": "48fc02f6-cf17-41e4-83fa-601a95e00b98",
   "metadata": {},
   "outputs": [
    {
     "data": {
      "text/plain": [
       "[-2.495027112237755,\n",
       " -2.491711808183249,\n",
       " -2.491711529661929,\n",
       " -2.4950270481190877]"
      ]
     },
     "execution_count": 34,
     "metadata": {},
     "output_type": "execute_result"
    }
   ],
   "source": [
    "q[current_state]"
   ]
  },
  {
   "cell_type": "code",
   "execution_count": 23,
   "id": "201c0dbb-2d03-4d5e-9761-9b6eb7477ce5",
   "metadata": {},
   "outputs": [],
   "source": [
    "#TRAINING!!!!"
   ]
  },
  {
   "cell_type": "code",
   "execution_count": 24,
   "id": "8b05fa7b-41a5-4b17-b848-301423ba0c50",
   "metadata": {},
   "outputs": [],
   "source": [
    "theLake = gym.make('FrozenLake-v1', desc=desc, render_mode='human', is_slippery=False)\n",
    "initial_state= theLake.reset()\n",
    "theLake.render()"
   ]
  },
  {
   "cell_type": "code",
   "execution_count": 25,
   "id": "fc839b92-20f1-4c13-96e6-f0ca7cdf1fcb",
   "metadata": {},
   "outputs": [
    {
     "ename": "TypeError",
     "evalue": "unhashable type: 'dict'",
     "output_type": "error",
     "traceback": [
      "\u001b[1;31m---------------------------------------------------------------------------\u001b[0m",
      "\u001b[1;31mTypeError\u001b[0m                                 Traceback (most recent call last)",
      "Cell \u001b[1;32mIn[25], line 11\u001b[0m\n\u001b[0;32m      7\u001b[0m step_count \u001b[38;5;241m=\u001b[39m \u001b[38;5;241m0\u001b[39m  \u001b[38;5;66;03m# Reset step count for each episode\u001b[39;00m\n\u001b[0;32m      9\u001b[0m \u001b[38;5;28;01mwhile\u001b[39;00m \u001b[38;5;129;01mnot\u001b[39;00m terminated \u001b[38;5;129;01mand\u001b[39;00m step_count \u001b[38;5;241m<\u001b[39m max_steps:  \u001b[38;5;66;03m# Infinite Loop = no no\u001b[39;00m\n\u001b[0;32m     10\u001b[0m     \u001b[38;5;66;03m# Use exploitation: choose the best action based on the learned Q-table\u001b[39;00m\n\u001b[1;32m---> 11\u001b[0m     best_action \u001b[38;5;241m=\u001b[39m \u001b[38;5;28mmax\u001b[39m(\u001b[38;5;28mrange\u001b[39m(\u001b[38;5;28mlen\u001b[39m(q[current_state])), key\u001b[38;5;241m=\u001b[39m\u001b[38;5;28;01mlambda\u001b[39;00m i: q[current_state][i])\n\u001b[0;32m     13\u001b[0m     \u001b[38;5;66;03m# Take the best action\u001b[39;00m\n\u001b[0;32m     14\u001b[0m     new_state, reward, terminated, truncated, info \u001b[38;5;241m=\u001b[39m theLake\u001b[38;5;241m.\u001b[39mstep(best_action)\n",
      "\u001b[1;31mTypeError\u001b[0m: unhashable type: 'dict'"
     ]
    }
   ],
   "source": [
    "max_steps = 100  # Maximum steps per episode to avoid infinite loops\n",
    "terminated = False\n",
    "\n",
    "for episode in range(10):  \n",
    "    current_state = theLake.reset()  \n",
    "    terminated = False\n",
    "    step_count = 0  # Reset step count for each episode\n",
    "\n",
    "    while not terminated and step_count < max_steps:  # Infinite Loop = no no\n",
    "        # Use exploitation: choose the best action based on the learned Q-table\n",
    "        best_action = max(range(len(q[current_state])), key=lambda i: q[current_state][i])\n",
    "        \n",
    "        # Take the best action\n",
    "        new_state, reward, terminated, truncated, info = theLake.step(best_action)\n",
    "        current_state = new_state\n",
    "\n",
    "        # Optionally render the environment to visualize the agent's actions\n",
    "        theLake.render()\n",
    "\n",
    "        step_count += 1  # Increment the step count\n",
    "\n",
    "    print(f\"Episode {episode + 1} finished in {step_count} steps\")\n"
   ]
  },
  {
   "cell_type": "code",
   "execution_count": 26,
   "id": "3c6a96d7-1f86-4a3b-b949-608acec803b5",
   "metadata": {},
   "outputs": [],
   "source": [
    "\n",
    "def takeAction(description):\n",
    "    if description == \"Down\":\n",
    "        new_state, reward, terminated, truncated, info = theLake.step(1)\n",
    "    elif description == \"Up\":\n",
    "        new_state, reward, terminated, truncated, info = theLake.step(3)\n",
    "    elif description == \"Left\":\n",
    "        new_state, reward, terminated, truncated, info = theLake.step(0)\n",
    "    elif description == \"Right\":\n",
    "        new_state, reward, terminated, truncated, info = theLake.step(2)\n",
    "    return new_state, terminated"
   ]
  },
  {
   "cell_type": "code",
   "execution_count": null,
   "id": "cbecf315-1e44-4cfb-82e1-d6708740e4dd",
   "metadata": {},
   "outputs": [],
   "source": [
    "current_state = 0\n",
    "terminated = False\n",
    "success_rate = 0\n",
    "for i in range(1000):\n",
    "    while not terminated:\n",
    "        max_q = df.iloc[current_state].max()\n",
    "        column_name = df.columns[(df == max_q).any()].tolist()\n",
    "        current_state, terminated = takeAction(column_name[0])\n",
    "    newDesc = [\"S\", \"F\", \"F\", \"F\", \"F\", \"F\", \"F\", \"H\", \"F\", \"F\",\n",
    "           \"F\", \"F\", \"F\", \"F\", \"F\", \"H\",  \"F\", \"F\", \"F\", \"F\",\n",
    "           \"F\", \"H\",  \"F\", \"H\",  \"F\", \"F\", \"F\", \"H\",  \"F\", \"F\",\n",
    "            \"F\", \"H\", \"F\", \"H\",  \"F\", \"F\", \"F\", \"F\", \"F\", \"F\",\n",
    "           \"F\", \"F\", \"F\", \"H\",  \"F\", \"F\", \"F\", \"F\", \"F\", \"F\",\n",
    "           \"F\", \"H\",  \"F\", \"F\", \"H\",  \"F\", \"F\", \"H\",  \"F\", \"F\",\n",
    "           \"F\", \"F\", \"F\", \"H\", \"F\", \"F\", \"H\", \"F\", \"F\", \"F\",\n",
    "           \"F\", \"F\", \"F\", \"F\", \"F\", \"F\", \"F\", \"F\", \"F\", \"F\",\n",
    "           \"F\", \"F\", \"F\", \"H\", \"H\", \"F\", \"F\", \"F\", \"F\", \"F\",\n",
    "           \"F\", \"H\", \"F\", \"F\", \"F\", \"H\", \"F\", \"F\", \"F\", \"G\"]\n",
    "    terminated = False\n",
    "    initial_state = theLake.reset()\n",
    "    if newDesc[current_state] == \"G\":\n",
    "        success_rate += 1\n",
    "print((success_rate/1000) * 100)"
   ]
  },
  {
   "cell_type": "code",
   "execution_count": null,
   "id": "e137a2a9-b4bf-42df-bc15-47db6ba26806",
   "metadata": {},
   "outputs": [],
   "source": [
    "theLake.close()"
   ]
  },
  {
   "cell_type": "code",
   "execution_count": null,
   "id": "2cd2c122-5b38-4c93-aa3c-e57497281e0b",
   "metadata": {},
   "outputs": [],
   "source": [
    "#Incase of an emergency ahahahah\n",
    "sys.exit()  \n"
   ]
  },
  {
   "cell_type": "code",
   "execution_count": null,
   "id": "f941b354-70cc-4f13-8e8b-9390715855e6",
   "metadata": {},
   "outputs": [],
   "source": []
  },
  {
   "cell_type": "code",
   "execution_count": null,
   "id": "d289b093-aec8-4d85-b2cf-760bcec0e9df",
   "metadata": {},
   "outputs": [],
   "source": []
  },
  {
   "cell_type": "code",
   "execution_count": null,
   "id": "789a5422",
   "metadata": {},
   "outputs": [],
   "source": []
  }
 ],
 "metadata": {
  "kernelspec": {
   "display_name": "Python 3 (ipykernel)",
   "language": "python",
   "name": "python3"
  },
  "language_info": {
   "codemirror_mode": {
    "name": "ipython",
    "version": 3
   },
   "file_extension": ".py",
   "mimetype": "text/x-python",
   "name": "python",
   "nbconvert_exporter": "python",
   "pygments_lexer": "ipython3",
   "version": "3.12.4"
  }
 },
 "nbformat": 4,
 "nbformat_minor": 5
}
